{
 "cells": [
  {
   "cell_type": "code",
   "execution_count": 1,
   "id": "103599f1-a8da-4c82-87ec-6f33f0fe4d33",
   "metadata": {
    "jupyter": {
     "source_hidden": true
    }
   },
   "outputs": [],
   "source": [
    "import sys\n",
    "\n",
    "sys.path.append(\"../../\")\n",
    "import pandas as pd\n",
    "import torch\n",
    "import numpy as np\n",
    "import datetime\n",
    "\n",
    "# that is something to\n",
    "import os\n",
    "from pprint import pprint\n",
    "import math\n",
    "import matplotlib.pyplot as plt\n",
    "\n",
    "pd.set_option(\"display.max_rows\", 100)\n",
    "pd.set_option(\"display.max_columns\", 20)\n",
    "\n",
    "plt.style.use(\"classic\")\n",
    "plt.rcParams[\"axes.grid\"] = True\n",
    "plt.rcParams[\"figure.figsize\"] = (10, 6)\n",
    "plt.rcParams[\"axes.formatter.useoffset\"] = False\n",
    "plt.rcParams[\"axes.formatter.limits\"] = [-1000000000, 1000000000]"
   ]
  },
  {
   "cell_type": "code",
   "execution_count": 3,
   "id": "ab6f12f6-1118-4900-986c-ea4b61c70f31",
   "metadata": {},
   "outputs": [
    {
     "data": {
      "text/html": [
       "<div>\n",
       "<style scoped>\n",
       "    .dataframe tbody tr th:only-of-type {\n",
       "        vertical-align: middle;\n",
       "    }\n",
       "\n",
       "    .dataframe tbody tr th {\n",
       "        vertical-align: top;\n",
       "    }\n",
       "\n",
       "    .dataframe thead th {\n",
       "        text-align: right;\n",
       "    }\n",
       "</style>\n",
       "<table border=\"1\" class=\"dataframe\">\n",
       "  <thead>\n",
       "    <tr style=\"text-align: right;\">\n",
       "      <th></th>\n",
       "      <th>event</th>\n",
       "      <th>start_date</th>\n",
       "      <th>country</th>\n",
       "      <th>impact</th>\n",
       "      <th>time_of_day</th>\n",
       "      <th>event_date</th>\n",
       "    </tr>\n",
       "  </thead>\n",
       "  <tbody>\n",
       "    <tr>\n",
       "      <th>0</th>\n",
       "      <td>ADP Employment Change</td>\n",
       "      <td>12/04/2024 13:15:00</td>\n",
       "      <td>USD</td>\n",
       "      <td>HIGH</td>\n",
       "      <td>13:15:00</td>\n",
       "      <td>12/04/2024</td>\n",
       "    </tr>\n",
       "    <tr>\n",
       "      <th>1</th>\n",
       "      <td>ADP Employment Change</td>\n",
       "      <td>07/31/2024 12:15:00</td>\n",
       "      <td>USD</td>\n",
       "      <td>HIGH</td>\n",
       "      <td>12:15:00</td>\n",
       "      <td>07/31/2024</td>\n",
       "    </tr>\n",
       "    <tr>\n",
       "      <th>2</th>\n",
       "      <td>ADP Employment Change</td>\n",
       "      <td>01/04/2024 13:15:00</td>\n",
       "      <td>USD</td>\n",
       "      <td>HIGH</td>\n",
       "      <td>13:15:00</td>\n",
       "      <td>01/04/2024</td>\n",
       "    </tr>\n",
       "    <tr>\n",
       "      <th>3</th>\n",
       "      <td>ADP Employment Change</td>\n",
       "      <td>10/02/2024 12:15:00</td>\n",
       "      <td>USD</td>\n",
       "      <td>HIGH</td>\n",
       "      <td>12:15:00</td>\n",
       "      <td>10/02/2024</td>\n",
       "    </tr>\n",
       "    <tr>\n",
       "      <th>4</th>\n",
       "      <td>ADP Employment Change</td>\n",
       "      <td>07/03/2024 12:15:00</td>\n",
       "      <td>USD</td>\n",
       "      <td>HIGH</td>\n",
       "      <td>12:15:00</td>\n",
       "      <td>07/03/2024</td>\n",
       "    </tr>\n",
       "  </tbody>\n",
       "</table>\n",
       "</div>"
      ],
      "text/plain": [
       "                   event           start_date country impact time_of_day  \\\n",
       "0  ADP Employment Change  12/04/2024 13:15:00     USD   HIGH    13:15:00   \n",
       "1  ADP Employment Change  07/31/2024 12:15:00     USD   HIGH    12:15:00   \n",
       "2  ADP Employment Change  01/04/2024 13:15:00     USD   HIGH    13:15:00   \n",
       "3  ADP Employment Change  10/02/2024 12:15:00     USD   HIGH    12:15:00   \n",
       "4  ADP Employment Change  07/03/2024 12:15:00     USD   HIGH    12:15:00   \n",
       "\n",
       "   event_date  \n",
       "0  12/04/2024  \n",
       "1  07/31/2024  \n",
       "2  01/04/2024  \n",
       "3  10/02/2024  \n",
       "4  07/03/2024  "
      ]
     },
     "execution_count": 3,
     "metadata": {},
     "output_type": "execute_result"
    }
   ],
   "source": [
    "currency = \"USD\"\n",
    "\n",
    "if os.path.exists('/mnt/h'):\n",
    "    base_path = '/mnt/h/data'\n",
    "else:\n",
    "    base_path = '../../phitech-data'\n",
    "\n",
    "calendar = pd.read_csv(f\"{base_path}/calendars/{currency}_calendar_2024.csv\")\n",
    "calendar.head()"
   ]
  },
  {
   "cell_type": "code",
   "execution_count": null,
   "id": "e7626f18-dfc7-41d4-8d10-4fd081295385",
   "metadata": {},
   "outputs": [],
   "source": [
    "# TODO: continue here with building the notebook."
   ]
  }
 ],
 "metadata": {
  "kernelspec": {
   "display_name": "Python 3 (ipykernel)",
   "language": "python",
   "name": "python3"
  },
  "language_info": {
   "codemirror_mode": {
    "name": "ipython",
    "version": 3
   },
   "file_extension": ".py",
   "mimetype": "text/x-python",
   "name": "python",
   "nbconvert_exporter": "python",
   "pygments_lexer": "ipython3",
   "version": "3.12.4"
  }
 },
 "nbformat": 4,
 "nbformat_minor": 5
}
