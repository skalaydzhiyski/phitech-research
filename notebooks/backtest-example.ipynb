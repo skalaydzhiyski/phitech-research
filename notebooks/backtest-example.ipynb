{
 "cells": [
  {
   "cell_type": "code",
   "execution_count": 130,
   "id": "62b375f6-cbbd-4f4f-9aca-4dcbce8e56cc",
   "metadata": {},
   "outputs": [],
   "source": [
    "import sys\n",
    "\n",
    "sys.path.append(\"../../\")\n",
    "import pandas as pd\n",
    "import numpy as np\n",
    "import datetime\n",
    "import os\n",
    "from pprint import pprint\n",
    "import matplotlib.pyplot as plt\n",
    "import time\n",
    "import vectorbt as vbt\n",
    "from time import time\n",
    "\n",
    "pd.set_option(\"display.max_rows\", 100)\n",
    "pd.set_option(\"display.max_columns\", 20)\n",
    "\n",
    "plt.style.use(\"classic\")\n",
    "plt.rcParams[\"axes.grid\"] = True\n",
    "plt.rcParams[\"figure.figsize\"] = (10, 6)\n",
    "plt.rcParams[\"axes.formatter.useoffset\"] = False\n",
    "plt.rcParams[\"axes.formatter.limits\"] = [-1000000000, 1000000000]"
   ]
  },
  {
   "cell_type": "code",
   "execution_count": 131,
   "id": "433f67a8-0ca9-4202-bf1a-a8221ce92139",
   "metadata": {},
   "outputs": [
    {
     "data": {
      "text/plain": [
       "dict_keys(['6B', 'MES'])"
      ]
     },
     "execution_count": 131,
     "metadata": {},
     "output_type": "execute_result"
    }
   ],
   "source": [
    "I = {}\n",
    "base_path = \"../../phitech-data/01_raw\"\n",
    "\n",
    "for fname in os.listdir(base_path):\n",
    "    I[fname.split(\"_\")[0]] = pd.read_csv(f\"{base_path}/{fname}\")\n",
    "\n",
    "I.keys()"
   ]
  },
  {
   "cell_type": "code",
   "execution_count": 146,
   "id": "26e14198",
   "metadata": {},
   "outputs": [
    {
     "data": {
      "text/plain": [
       "((58438,), (58438,), (58438, 15))"
      ]
     },
     "execution_count": 146,
     "metadata": {},
     "output_type": "execute_result"
    }
   ],
   "source": [
    "to_indicator = (\n",
    "    vbt.IndicatorFactory(\n",
    "        input_names=[\"indicator\"],\n",
    "        output_names=[\"values\"],\n",
    "    )\n",
    "    .from_apply_func(lambda x: x)\n",
    "    .run\n",
    ")\n",
    "\n",
    "fast = to_indicator(instruments[\"6B\"].avg)\n",
    "slow = to_indicator(instruments[\"6B\"].avg_1)\n",
    "\n",
    "entries = fast.values_crossed_below(slow.values)\n",
    "exits = fast.values_crossed_above(slow.values)\n",
    "exits.shape, entries.shape, instruments[\"6B\"].shape"
   ]
  },
  {
   "cell_type": "code",
   "execution_count": 143,
   "id": "dce61222",
   "metadata": {},
   "outputs": [
    {
     "data": {
      "application/vnd.jupyter.widget-view+json": {
       "model_id": "0806f2f9b43842a68778303c9bdce7b1",
       "version_major": 2,
       "version_minor": 0
      },
      "text/plain": [
       "FigureWidget({\n",
       "    'data': [{'hoverinfo': 'skip',\n",
       "              'line': {'color': 'rgba(0, 0, 0, 0)', 'width': 0},\n",
       "              'opacity': 0,\n",
       "              'showlegend': False,\n",
       "              'type': 'scatter',\n",
       "              'uid': '32a63939-14eb-459a-abd8-c1b5b2c5be10',\n",
       "              'x': array([    0,     1,     2, ..., 58435, 58436, 58437]),\n",
       "              'y': array([100., 100., 100., ..., 100., 100., 100.])},\n",
       "             {'connectgaps': False,\n",
       "              'fill': 'tonexty',\n",
       "              'fillcolor': 'rgba(0, 128, 0, 0.3)',\n",
       "              'hoverinfo': 'skip',\n",
       "              'line': {'color': 'rgba(0, 0, 0, 0)', 'width': 0},\n",
       "              'opacity': 0,\n",
       "              'showlegend': False,\n",
       "              'type': 'scatter',\n",
       "              'uid': '6cc49b30-b47f-471a-811f-bc5081e65f37',\n",
       "              'x': array([    0,     1,     2, ..., 58435, 58436, 58437]),\n",
       "              'y': array([100.        , 100.        , 100.        , ..., 101.98492758,\n",
       "                          101.98492758, 101.98492758])},\n",
       "             {'hoverinfo': 'skip',\n",
       "              'line': {'color': 'rgba(0, 0, 0, 0)', 'width': 0},\n",
       "              'opacity': 0,\n",
       "              'showlegend': False,\n",
       "              'type': 'scatter',\n",
       "              'uid': '3c8a1bbb-7fc8-4e7e-bc6f-143973fcfea4',\n",
       "              'x': array([    0,     1,     2, ..., 58435, 58436, 58437]),\n",
       "              'y': array([100., 100., 100., ..., 100., 100., 100.])},\n",
       "             {'connectgaps': False,\n",
       "              'fill': 'tonexty',\n",
       "              'fillcolor': 'rgba(255, 0, 0, 0.3)',\n",
       "              'hoverinfo': 'skip',\n",
       "              'line': {'color': 'rgba(0, 0, 0, 0)', 'width': 0},\n",
       "              'opacity': 0,\n",
       "              'showlegend': False,\n",
       "              'type': 'scatter',\n",
       "              'uid': '46fc809b-1706-434a-90c1-8ab6288082d3',\n",
       "              'x': array([    0,     1,     2, ..., 58435, 58436, 58437]),\n",
       "              'y': array([100., 100., 100., ..., 100., 100., 100.])},\n",
       "             {'line': {'color': '#9467bd'},\n",
       "              'name': 'Value',\n",
       "              'showlegend': True,\n",
       "              'type': 'scatter',\n",
       "              'uid': 'd7c83cc7-9094-4031-81e3-c291b4d88e16',\n",
       "              'x': array([    0,     1,     2, ..., 58435, 58436, 58437]),\n",
       "              'y': array([100.        , 100.        , 100.        , ..., 101.98492758,\n",
       "                          101.98492758, 101.98492758])},\n",
       "             {'hoverinfo': 'skip',\n",
       "              'line': {'color': 'rgba(0, 0, 0, 0)', 'width': 0},\n",
       "              'opacity': 0.0,\n",
       "              'showlegend': False,\n",
       "              'type': 'scatter',\n",
       "              'uid': 'f83757e4-f0e5-409a-a4d9-1845e91ec7ce',\n",
       "              'x': array([    0,     1,     2, ..., 58435, 58436, 58437]),\n",
       "              'y': array([100., 100., 100., ..., 100., 100., 100.])}],\n",
       "    'layout': {'height': 350,\n",
       "               'legend': {'orientation': 'h',\n",
       "                          'traceorder': 'normal',\n",
       "                          'x': 1,\n",
       "                          'xanchor': 'right',\n",
       "                          'y': 1.02,\n",
       "                          'yanchor': 'bottom'},\n",
       "               'margin': {'b': 30, 'l': 30, 'r': 30, 't': 30},\n",
       "               'shapes': [{'line': {'color': 'gray', 'dash': 'dash'},\n",
       "                           'type': 'line',\n",
       "                           'x0': 0,\n",
       "                           'x1': 1,\n",
       "                           'xref': 'paper',\n",
       "                           'y0': np.float64(100.0),\n",
       "                           'y1': np.float64(100.0),\n",
       "                           'yref': 'y'}],\n",
       "               'template': '...',\n",
       "               'width': 700}\n",
       "})"
      ]
     },
     "execution_count": 143,
     "metadata": {},
     "output_type": "execute_result"
    }
   ],
   "source": [
    "res = vbt.Portfolio.from_signals(instruments[\"6B\"].close, entries=entries, exits=exits)\n",
    "res.plot_value()"
   ]
  },
  {
   "cell_type": "code",
   "execution_count": null,
   "id": "b2530c96",
   "metadata": {},
   "outputs": [],
   "source": []
  }
 ],
 "metadata": {
  "kernelspec": {
   "display_name": "Python 3 (ipykernel)",
   "language": "python",
   "name": "python3"
  },
  "language_info": {
   "codemirror_mode": {
    "name": "ipython",
    "version": 3
   },
   "file_extension": ".py",
   "mimetype": "text/x-python",
   "name": "python",
   "nbconvert_exporter": "python",
   "pygments_lexer": "ipython3",
   "version": "3.12.9"
  }
 },
 "nbformat": 4,
 "nbformat_minor": 5
}
