{
 "cells": [
  {
   "cell_type": "code",
   "execution_count": 1,
   "id": "62b375f6-cbbd-4f4f-9aca-4dcbce8e56cc",
   "metadata": {},
   "outputs": [
    {
     "name": "stderr",
     "output_type": "stream",
     "text": [
      "/Users/e1211913/miniconda3/envs/trading/lib/python3.12/site-packages/telegram/utils/request.py:54: UserWarning: python-telegram-bot wasn't properly installed. Please refer to README.rst on how to properly install.\n",
      "  warnings.warn(\n"
     ]
    }
   ],
   "source": [
    "import sys\n",
    "\n",
    "sys.path.append(\"../\")\n",
    "\n",
    "import pandas as pd\n",
    "import numpy as np\n",
    "import datetime\n",
    "import os\n",
    "from pprint import pprint\n",
    "import matplotlib.pyplot as plt\n",
    "import time\n",
    "import vectorbt as vbt\n",
    "from time import time\n",
    "import helpers as pth\n",
    "\n",
    "pd.set_option(\"display.max_rows\", 100)\n",
    "pd.set_option(\"display.max_columns\", 20)\n",
    "\n",
    "plt.style.use(\"classic\")\n",
    "# plt.rcParams[\"axes.grid\"] = True\n",
    "plt.rcParams[\"figure.figsize\"] = (10, 6)\n",
    "plt.rcParams[\"axes.formatter.useoffset\"] = False\n",
    "plt.rcParams[\"axes.formatter.limits\"] = [-1000000000, 1000000000]"
   ]
  },
  {
   "cell_type": "code",
   "execution_count": 2,
   "id": "433f67a8-0ca9-4202-bf1a-a8221ce92139",
   "metadata": {},
   "outputs": [
    {
     "data": {
      "text/plain": [
       "dict_keys(['6B', 'MES'])"
      ]
     },
     "execution_count": 2,
     "metadata": {},
     "output_type": "execute_result"
    }
   ],
   "source": [
    "I = pth.load_instruments()\n",
    "I.keys()"
   ]
  },
  {
   "cell_type": "markdown",
   "id": "96a35850",
   "metadata": {},
   "source": [
    "### Simple"
   ]
  },
  {
   "cell_type": "code",
   "execution_count": 50,
   "id": "63eadd28",
   "metadata": {},
   "outputs": [
    {
     "data": {
      "text/plain": [
       "((58438,), (58438,), (58438, 15))"
      ]
     },
     "execution_count": 50,
     "metadata": {},
     "output_type": "execute_result"
    }
   ],
   "source": [
    "fast = pth.to_indicator(I[\"6B\"].avg)\n",
    "slow = pth.to_indicator(I[\"6B\"].avg_1)\n",
    "price = pth.to_indicator(I[\"6B\"].close)\n",
    "\n",
    "entries = price.values_crossed_below(slow.values)\n",
    "exits = price.values_crossed_above(slow.values)\n",
    "exits.shape, entries.shape, I[\"6B\"].shape"
   ]
  },
  {
   "cell_type": "code",
   "execution_count": 51,
   "id": "dce61222",
   "metadata": {},
   "outputs": [
    {
     "data": {
      "application/vnd.jupyter.widget-view+json": {
       "model_id": "e832919c2d034d49ac9ef1e006565d71",
       "version_major": 2,
       "version_minor": 0
      },
      "text/plain": [
       "FigureWidget({\n",
       "    'data': [{'hoverinfo': 'skip',\n",
       "              'line': {'color': 'rgba(0, 0, 0, 0)', 'width': 0},\n",
       "              'opacity': 0,\n",
       "              'showlegend': False,\n",
       "              'type': 'scatter',\n",
       "              'uid': '72cc5586-040f-44dc-be61-85dc9d11d79f',\n",
       "              'x': array([    0,     1,     2, ..., 58435, 58436, 58437]),\n",
       "              'y': array([100., 100., 100., ..., 100., 100., 100.])},\n",
       "             {'connectgaps': False,\n",
       "              'fill': 'tonexty',\n",
       "              'fillcolor': 'rgba(0, 128, 0, 0.3)',\n",
       "              'hoverinfo': 'skip',\n",
       "              'line': {'color': 'rgba(0, 0, 0, 0)', 'width': 0},\n",
       "              'opacity': 0,\n",
       "              'showlegend': False,\n",
       "              'type': 'scatter',\n",
       "              'uid': '61998d9e-f0fe-41b4-9539-3a2a416a64cd',\n",
       "              'x': array([    0,     1,     2, ..., 58435, 58436, 58437]),\n",
       "              'y': array([100.        , 100.        , 100.        , ..., 104.04633881,\n",
       "                          104.04633881, 104.04633881])},\n",
       "             {'hoverinfo': 'skip',\n",
       "              'line': {'color': 'rgba(0, 0, 0, 0)', 'width': 0},\n",
       "              'opacity': 0,\n",
       "              'showlegend': False,\n",
       "              'type': 'scatter',\n",
       "              'uid': '7dfdd23a-d030-419c-9051-8ded84c006ac',\n",
       "              'x': array([    0,     1,     2, ..., 58435, 58436, 58437]),\n",
       "              'y': array([100., 100., 100., ..., 100., 100., 100.])},\n",
       "             {'connectgaps': False,\n",
       "              'fill': 'tonexty',\n",
       "              'fillcolor': 'rgba(255, 0, 0, 0.3)',\n",
       "              'hoverinfo': 'skip',\n",
       "              'line': {'color': 'rgba(0, 0, 0, 0)', 'width': 0},\n",
       "              'opacity': 0,\n",
       "              'showlegend': False,\n",
       "              'type': 'scatter',\n",
       "              'uid': 'ebcf5bc6-dcb9-4617-a068-2ec12da97288',\n",
       "              'x': array([    0,     1,     2, ..., 58435, 58436, 58437]),\n",
       "              'y': array([100., 100., 100., ..., 100., 100., 100.])},\n",
       "             {'line': {'color': '#9467bd'},\n",
       "              'name': 'Value',\n",
       "              'showlegend': True,\n",
       "              'type': 'scatter',\n",
       "              'uid': '30c0d80b-8929-47b4-ad4d-c581ef59b6ea',\n",
       "              'x': array([    0,     1,     2, ..., 58435, 58436, 58437]),\n",
       "              'y': array([100.        , 100.        , 100.        , ..., 104.04633881,\n",
       "                          104.04633881, 104.04633881])},\n",
       "             {'hoverinfo': 'skip',\n",
       "              'line': {'color': 'rgba(0, 0, 0, 0)', 'width': 0},\n",
       "              'opacity': 0.0,\n",
       "              'showlegend': False,\n",
       "              'type': 'scatter',\n",
       "              'uid': '7a399a10-75a7-4a22-bae6-4b8b8234e241',\n",
       "              'x': array([    0,     1,     2, ..., 58435, 58436, 58437]),\n",
       "              'y': array([100., 100., 100., ..., 100., 100., 100.])}],\n",
       "    'layout': {'height': 350,\n",
       "               'legend': {'orientation': 'h',\n",
       "                          'traceorder': 'normal',\n",
       "                          'x': 1,\n",
       "                          'xanchor': 'right',\n",
       "                          'y': 1.02,\n",
       "                          'yanchor': 'bottom'},\n",
       "               'margin': {'b': 30, 'l': 30, 'r': 30, 't': 30},\n",
       "               'shapes': [{'line': {'color': 'gray', 'dash': 'dash'},\n",
       "                           'type': 'line',\n",
       "                           'x0': 0,\n",
       "                           'x1': 1,\n",
       "                           'xref': 'paper',\n",
       "                           'y0': np.float64(100.0),\n",
       "                           'y1': np.float64(100.0),\n",
       "                           'yref': 'y'}],\n",
       "               'template': '...',\n",
       "               'width': 700}\n",
       "})"
      ]
     },
     "execution_count": 51,
     "metadata": {},
     "output_type": "execute_result"
    }
   ],
   "source": [
    "res = vbt.Portfolio.from_signals(I[\"6B\"].close, entries=entries, exits=exits)\n",
    "res.plot_value()"
   ]
  },
  {
   "cell_type": "markdown",
   "id": "b43c2aa5",
   "metadata": {},
   "source": [
    "### Multi Param / Multi Instrument"
   ]
  },
  {
   "cell_type": "code",
   "execution_count": 3,
   "id": "0d79e95c",
   "metadata": {},
   "outputs": [
    {
     "data": {
      "text/html": [
       "<div>\n",
       "<style scoped>\n",
       "    .dataframe tbody tr th:only-of-type {\n",
       "        vertical-align: middle;\n",
       "    }\n",
       "\n",
       "    .dataframe tbody tr th {\n",
       "        vertical-align: top;\n",
       "    }\n",
       "\n",
       "    .dataframe thead th {\n",
       "        text-align: right;\n",
       "    }\n",
       "</style>\n",
       "<table border=\"1\" class=\"dataframe\">\n",
       "  <thead>\n",
       "    <tr style=\"text-align: right;\">\n",
       "      <th>ticker</th>\n",
       "      <th>6B</th>\n",
       "      <th>MES</th>\n",
       "    </tr>\n",
       "    <tr>\n",
       "      <th>timestamp</th>\n",
       "      <th></th>\n",
       "      <th></th>\n",
       "    </tr>\n",
       "  </thead>\n",
       "  <tbody>\n",
       "    <tr>\n",
       "      <th>2024-5-19  23:00:00.000000</th>\n",
       "      <td>1.2706</td>\n",
       "      <td>5527.25</td>\n",
       "    </tr>\n",
       "    <tr>\n",
       "      <th>2024-5-19  23:01:00.000000</th>\n",
       "      <td>1.2707</td>\n",
       "      <td>5526.50</td>\n",
       "    </tr>\n",
       "    <tr>\n",
       "      <th>2024-5-19  23:02:00.000000</th>\n",
       "      <td>1.2707</td>\n",
       "      <td>5527.00</td>\n",
       "    </tr>\n",
       "    <tr>\n",
       "      <th>2024-5-19  23:03:00.000000</th>\n",
       "      <td>1.2708</td>\n",
       "      <td>5528.25</td>\n",
       "    </tr>\n",
       "    <tr>\n",
       "      <th>2024-5-19  23:04:00.000000</th>\n",
       "      <td>1.2708</td>\n",
       "      <td>5528.50</td>\n",
       "    </tr>\n",
       "  </tbody>\n",
       "</table>\n",
       "</div>"
      ],
      "text/plain": [
       "ticker                          6B      MES\n",
       "timestamp                                  \n",
       "2024-5-19  23:00:00.000000  1.2706  5527.25\n",
       "2024-5-19  23:01:00.000000  1.2707  5526.50\n",
       "2024-5-19  23:02:00.000000  1.2707  5527.00\n",
       "2024-5-19  23:03:00.000000  1.2708  5528.25\n",
       "2024-5-19  23:04:00.000000  1.2708  5528.50"
      ]
     },
     "execution_count": 3,
     "metadata": {},
     "output_type": "execute_result"
    }
   ],
   "source": [
    "universe = pth.make_backtest_universe(I)\n",
    "universe.head()"
   ]
  },
  {
   "cell_type": "code",
   "execution_count": 39,
   "id": "79b7815a",
   "metadata": {},
   "outputs": [
    {
     "data": {
      "text/plain": [
       "(292443, 506)"
      ]
     },
     "execution_count": 39,
     "metadata": {},
     "output_type": "execute_result"
    }
   ],
   "source": [
    "import itertools\n",
    "\n",
    "fast, slow = vbt.MA.run_combs(universe, np.arange(10, 240, 10))\n",
    "entries = fast.ma_crossed_above(slow)\n",
    "exits = fast.ma_crossed_below(slow)\n",
    "entries.shape"
   ]
  },
  {
   "cell_type": "code",
   "execution_count": 40,
   "id": "2a27b22e",
   "metadata": {},
   "outputs": [
    {
     "name": "stderr",
     "output_type": "stream",
     "text": [
      "/Users/e1211913/miniconda3/envs/trading/lib/python3.12/site-packages/jupyter_client/session.py:721: UserWarning:\n",
      "\n",
      "Message serialization failed with:\n",
      "Out of range float values are not JSON compliant: nan\n",
      "Supporting this message is deprecated in jupyter-client 7, please make sure your message is JSON-compliant\n",
      "\n",
      "/Users/e1211913/miniconda3/envs/trading/lib/python3.12/site-packages/jupyter_client/session.py:721: UserWarning:\n",
      "\n",
      "Message serialization failed with:\n",
      "Out of range float values are not JSON compliant: nan\n",
      "Supporting this message is deprecated in jupyter-client 7, please make sure your message is JSON-compliant\n",
      "\n"
     ]
    },
    {
     "data": {
      "application/vnd.jupyter.widget-view+json": {
       "model_id": "f45cdf58c61849f4a6f06298c06b7331",
       "version_major": 2,
       "version_minor": 0
      },
      "text/plain": [
       "FigureWidget({\n",
       "    'data': [{'colorscale': [[0.0, '#0d0887'], [0.1111111111111111, '#46039f'],\n",
       "                             [0.2222222222222222, '#7201a8'], [0.3333333333333333,\n",
       "                             '#9c179e'], [0.4444444444444444, '#bd3786'],\n",
       "                             [0.5555555555555556, '#d8576b'], [0.6666666666666666,\n",
       "                             '#ed7953'], [0.7777777777777778, '#fb9f3a'],\n",
       "                             [0.8888888888888888, '#fdca26'], [1.0, '#f0f921']],\n",
       "              'hoverongaps': False,\n",
       "              'hovertemplate': 'ma_1_window: %{x}<br>ma_2_window: %{y}<br>value: %{z}<extra></extra>',\n",
       "              'name': '6B',\n",
       "              'type': 'heatmap',\n",
       "              'uid': '0b25bdbf-fab6-4d18-8c67-12e3a9c4370a',\n",
       "              'visible': True,\n",
       "              'x': array([ 10,  20,  30,  40,  50,  60,  70,  80,  90, 100, 110, 120, 130, 140,\n",
       "                          150, 160, 170, 180, 190, 200, 210, 220, 230]),\n",
       "              'y': array([ 10,  20,  30,  40,  50,  60,  70,  80,  90, 100, 110, 120, 130, 140,\n",
       "                          150, 160, 170, 180, 190, 200, 210, 220, 230]),\n",
       "              'z': array([[        nan, -0.0963502 , -0.09583844, ..., -0.01361518, -0.01210882,\n",
       "                           -0.01206063],\n",
       "                          [-0.0963502 ,         nan, -0.03208375, ..., -0.00093447, -0.00209017,\n",
       "                            0.00335581],\n",
       "                          [-0.09583844, -0.03208375,         nan, ...,  0.01201281,  0.01120207,\n",
       "                            0.0253553 ],\n",
       "                          ...,\n",
       "                          [-0.01361518, -0.00093447,  0.01201281, ...,         nan, -0.04509988,\n",
       "                           -0.03719655],\n",
       "                          [-0.01210882, -0.00209017,  0.01120207, ..., -0.04509988,         nan,\n",
       "                           -0.04160373],\n",
       "                          [-0.01206063,  0.00335581,  0.0253553 , ..., -0.03719655, -0.04160373,\n",
       "                                   nan]])},\n",
       "             {'colorscale': [[0.0, '#0d0887'], [0.1111111111111111, '#46039f'],\n",
       "                             [0.2222222222222222, '#7201a8'], [0.3333333333333333,\n",
       "                             '#9c179e'], [0.4444444444444444, '#bd3786'],\n",
       "                             [0.5555555555555556, '#d8576b'], [0.6666666666666666,\n",
       "                             '#ed7953'], [0.7777777777777778, '#fb9f3a'],\n",
       "                             [0.8888888888888888, '#fdca26'], [1.0, '#f0f921']],\n",
       "              'hoverongaps': False,\n",
       "              'hovertemplate': 'ma_1_window: %{x}<br>ma_2_window: %{y}<br>value: %{z}<extra></extra>',\n",
       "              'name': 'MES',\n",
       "              'type': 'heatmap',\n",
       "              'uid': 'c7e4d513-0973-47f4-b7ff-c105c838e76f',\n",
       "              'visible': False,\n",
       "              'x': array([ 10,  20,  30,  40,  50,  60,  70,  80,  90, 100, 110, 120, 130, 140,\n",
       "                          150, 160, 170, 180, 190, 200, 210, 220, 230]),\n",
       "              'y': array([ 10,  20,  30,  40,  50,  60,  70,  80,  90, 100, 110, 120, 130, 140,\n",
       "                          150, 160, 170, 180, 190, 200, 210, 220, 230]),\n",
       "              'z': array([[        nan, -0.02338241,  0.03967673, ...,  0.03458993,  0.01566832,\n",
       "                            0.00049691],\n",
       "                          [-0.02338241,         nan,  0.02693483, ...,  0.04752112,  0.05280915,\n",
       "                            0.05521059],\n",
       "                          [ 0.03967673,  0.02693483,         nan, ...,  0.07066616,  0.08484597,\n",
       "                            0.07799247],\n",
       "                          ...,\n",
       "                          [ 0.03458993,  0.04752112,  0.07066616, ...,         nan, -0.02023442,\n",
       "                           -0.02349262],\n",
       "                          [ 0.01566832,  0.05280915,  0.08484597, ..., -0.02023442,         nan,\n",
       "                           -0.02757027],\n",
       "                          [ 0.00049691,  0.05521059,  0.07799247, ..., -0.02349262, -0.02757027,\n",
       "                                   nan]])}],\n",
       "    'layout': {'height': 555,\n",
       "               'legend': {'orientation': 'h',\n",
       "                          'traceorder': 'normal',\n",
       "                          'x': 1,\n",
       "                          'xanchor': 'right',\n",
       "                          'y': 1.02,\n",
       "                          'yanchor': 'bottom'},\n",
       "               'margin': {'b': 30, 'l': 30, 'r': 30, 't': 30},\n",
       "               'sliders': [{'active': 0,\n",
       "                            'currentvalue': {'prefix': 'ticker: '},\n",
       "                            'pad': {'t': 50},\n",
       "                            'steps': [{'args': [{'visible': [True, False]}, {}], 'label': '6B', 'method': 'update'},\n",
       "                                      {'args': [{'visible': [False, True]}, {}], 'label': 'MES', 'method': 'update'}]}],\n",
       "               'template': '...',\n",
       "               'width': 605,\n",
       "               'xaxis': {'title': {'text': 'ma_1_window'}},\n",
       "               'yaxis': {'title': {'text': 'ma_2_window'}}}\n",
       "})"
      ]
     },
     "execution_count": 40,
     "metadata": {},
     "output_type": "execute_result"
    }
   ],
   "source": [
    "res = vbt.Portfolio.from_signals(universe, entries, exits, freq=\"1D\")\n",
    "res.total_return().vbt.heatmap(\n",
    "    x_level=\"ma_1_window\", y_level=\"ma_2_window\", slider_level=\"ticker\", symmetric=True\n",
    ")"
   ]
  }
 ],
 "metadata": {
  "kernelspec": {
   "display_name": "Python 3 (ipykernel)",
   "language": "python",
   "name": "python3"
  },
  "language_info": {
   "codemirror_mode": {
    "name": "ipython",
    "version": 3
   },
   "file_extension": ".py",
   "mimetype": "text/x-python",
   "name": "python",
   "nbconvert_exporter": "python",
   "pygments_lexer": "ipython3",
   "version": "3.12.9"
  }
 },
 "nbformat": 4,
 "nbformat_minor": 5
}
