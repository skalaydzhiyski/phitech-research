{
 "cells": [
  {
   "cell_type": "markdown",
   "id": "56331607-2ba6-490a-b931-0d17da6871bb",
   "metadata": {},
   "source": [
    "### Analyse Events"
   ]
  },
  {
   "cell_type": "code",
   "execution_count": null,
   "id": "f56f912d-3047-468c-af27-c3b2be9db248",
   "metadata": {
    "jupyter": {
     "source_hidden": true
    }
   },
   "outputs": [],
   "source": [
    "import sys\n",
    "sys.path.append('../../')\n",
    "import pandas as pd\n",
    "import datetime\n",
    "import os\n",
    "from pprint import pprint\n",
    "import math\n",
    "import matplotlib.pyplot as plt\n",
    "import helpers.backtest as bt_helper\n",
    "\n",
    "pd.set_option('display.max_rows', 100) \n",
    "pd.set_option('display.max_columns', 20) \n",
    "\n",
    "plt.style.use('classic')\n",
    "plt.rcParams['axes.grid'] = True\n",
    "plt.rcParams[\"figure.figsize\"] = (10,6)\n",
    "plt.rcParams['axes.formatter.useoffset'] = False\n",
    "plt.rcParams['axes.formatter.limits'] = [-1000000000, 1000000000]"
   ]
  },
  {
   "cell_type": "code",
   "execution_count": 20,
   "id": "993db09e-5e6c-4a77-8b81-83f7158ac161",
   "metadata": {},
   "outputs": [
    {
     "data": {
      "text/plain": [
       "['CL', 'ES', 'ESZ24', 'ESZ24-CME', 'MCL', 'MES', 'MESZ24', 'MGC']"
      ]
     },
     "execution_count": 20,
     "metadata": {},
     "output_type": "execute_result"
    }
   ],
   "source": [
    "base_path_events = '/mnt/c/trading/events/'\n",
    "instruments = os.listdir(base_path_events)\n",
    "instruments"
   ]
  },
  {
   "cell_type": "code",
   "execution_count": 29,
   "id": "1dbd617d-453a-4c7d-8edc-078d4d60cadb",
   "metadata": {},
   "outputs": [
    {
     "data": {
      "text/plain": [
       "['Event_ContinuationOfIBBreakout.csv']"
      ]
     },
     "execution_count": 29,
     "metadata": {},
     "output_type": "execute_result"
    }
   ],
   "source": [
    "instrument = 'ESZ24-CME'\n",
    "events = os.listdir(f'{base_path_events}/{instrument}/')\n",
    "events"
   ]
  },
  {
   "cell_type": "code",
   "execution_count": 35,
   "id": "651b3271-afa9-4da7-a40a-fab7de4f5322",
   "metadata": {},
   "outputs": [
    {
     "name": "stdout",
     "output_type": "stream",
     "text": [
      "(40, 3)\n"
     ]
    },
    {
     "data": {
      "text/html": [
       "<div>\n",
       "<style scoped>\n",
       "    .dataframe tbody tr th:only-of-type {\n",
       "        vertical-align: middle;\n",
       "    }\n",
       "\n",
       "    .dataframe tbody tr th {\n",
       "        vertical-align: top;\n",
       "    }\n",
       "\n",
       "    .dataframe thead th {\n",
       "        text-align: right;\n",
       "    }\n",
       "</style>\n",
       "<table border=\"1\" class=\"dataframe\">\n",
       "  <thead>\n",
       "    <tr style=\"text-align: right;\">\n",
       "      <th></th>\n",
       "      <th>timestamp</th>\n",
       "      <th>side</th>\n",
       "      <th>when</th>\n",
       "    </tr>\n",
       "  </thead>\n",
       "  <tbody>\n",
       "    <tr>\n",
       "      <th>0</th>\n",
       "      <td>2024-10-15  15:30:00.000</td>\n",
       "      <td>low</td>\n",
       "      <td>2024-10-15  15:30:00</td>\n",
       "    </tr>\n",
       "    <tr>\n",
       "      <th>1</th>\n",
       "      <td>2024-10-16  15:30:00.064</td>\n",
       "      <td>high</td>\n",
       "      <td>2024-10-16  15:30:00</td>\n",
       "    </tr>\n",
       "    <tr>\n",
       "      <th>2</th>\n",
       "      <td>2024-10-17  15:30:00.002</td>\n",
       "      <td>low</td>\n",
       "      <td>2024-10-17  15:30:00</td>\n",
       "    </tr>\n",
       "    <tr>\n",
       "      <th>3</th>\n",
       "      <td>2024-10-18  15:30:00.000</td>\n",
       "      <td>low</td>\n",
       "      <td>2024-10-18  15:30:00</td>\n",
       "    </tr>\n",
       "    <tr>\n",
       "      <th>4</th>\n",
       "      <td>2024-10-21  15:30:00.000</td>\n",
       "      <td>high</td>\n",
       "      <td>2024-10-21  15:30:00</td>\n",
       "    </tr>\n",
       "  </tbody>\n",
       "</table>\n",
       "</div>"
      ],
      "text/plain": [
       "                  timestamp  side                  when\n",
       "0  2024-10-15  15:30:00.000   low  2024-10-15  15:30:00\n",
       "1  2024-10-16  15:30:00.064  high  2024-10-16  15:30:00\n",
       "2  2024-10-17  15:30:00.002   low  2024-10-17  15:30:00\n",
       "3  2024-10-18  15:30:00.000   low  2024-10-18  15:30:00\n",
       "4  2024-10-21  15:30:00.000  high  2024-10-21  15:30:00"
      ]
     },
     "execution_count": 35,
     "metadata": {},
     "output_type": "execute_result"
    }
   ],
   "source": [
    "event = events[0]\n",
    "res = pd.read_csv(f'{base_path_events}/{instrument}/{event}')\n",
    "print(res.shape)\n",
    "res.head()"
   ]
  },
  {
   "cell_type": "code",
   "execution_count": 48,
   "id": "d48b6571-b81f-45aa-a415-bbaff651c923",
   "metadata": {},
   "outputs": [
    {
     "data": {
      "text/plain": [
       "<Axes: ylabel='count'>"
      ]
     },
     "execution_count": 48,
     "metadata": {},
     "output_type": "execute_result"
    },
    {
     "data": {
      "image/png": "[encoded data removed]",
      "text/plain": [
       "<Figure size 800x480 with 1 Axes>"
      ]
     },
     "metadata": {},
     "output_type": "display_data"
    }
   ],
   "source": [
    "(res.side.value_counts() / res.shape[0]).plot(kind='pie')"
   ]
  },
  {
   "cell_type": "code",
   "execution_count": null,
   "id": "73b241f6-5e93-4944-ba67-5517552f311e",
   "metadata": {},
   "outputs": [],
   "source": []
  }
 ],
 "metadata": {
  "kernelspec": {
   "display_name": "Python 3 (ipykernel)",
   "language": "python",
   "name": "python3"
  },
  "language_info": {
   "codemirror_mode": {
    "name": "ipython",
    "version": 3
   },
   "file_extension": ".py",
   "mimetype": "text/x-python",
   "name": "python",
   "nbconvert_exporter": "python",
   "pygments_lexer": "ipython3",
   "version": "3.12.4"
  }
 },
 "nbformat": 4,
 "nbformat_minor": 5
}
