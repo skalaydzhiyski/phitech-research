{
 "cells": [
  {
   "cell_type": "code",
   "execution_count": 39,
   "id": "62b375f6-cbbd-4f4f-9aca-4dcbce8e56cc",
   "metadata": {},
   "outputs": [],
   "source": [
    "import sys\n",
    "\n",
    "sys.path.append(\"../\")\n",
    "\n",
    "import pandas as pd\n",
    "import numpy as np\n",
    "import datetime\n",
    "import os\n",
    "from pprint import pprint\n",
    "import matplotlib.pyplot as plt\n",
    "import time\n",
    "from vectorbtpro import *\n",
    "from time import time\n",
    "import helpers as pth\n",
    "import platform\n",
    "from dotenv import load_dotenv\n",
    "import scipy.stats as stats\n",
    "import time\n",
    "import helpers as pth\n",
    "from numba import njit\n",
    "import talib\n",
    "\n",
    "theme = \"light\"\n",
    "vbt.settings.set_theme(theme)\n",
    "# optional\n",
    "# vbt.settings[\"plotting\"][\"layout\"][\"width\"] = 640\n",
    "# vbt.settings[\"plotting\"][\"layout\"][\"height\"] = 320\n",
    "\n",
    "pd.set_option(\"display.max_rows\", 100)\n",
    "pd.set_option(\"display.max_columns\", 20)\n",
    "# plt.rcParams[\"axes.grid\"] = True\n",
    "plt.rcParams[\"figure.figsize\"] = (12, 7)\n",
    "plt.rcParams[\"axes.formatter.useoffset\"] = False\n",
    "plt.rcParams[\"axes.formatter.limits\"] = [-1000000000, 1000000000]\n",
    "plt.style.use(\"classic\" if theme == \"light\" else \"dark_background\")\n",
    "\n",
    "if platform.system().lower() == \"windows\":\n",
    "    base_data_path = \"H:\\\\phitech-data\\\\01_raw\"\n",
    "else:\n",
    "    from core_chains.simple.llm import make_Q_chain\n",
    "\n",
    "    base_data_path = \"../../phitech-data/01_raw\"\n",
    "    load_dotenv(\"../../sandatasci-core/credentials\")\n",
    "    Q = make_Q_chain(\"gpt-4o-instance1\", __vsc_ipynb_file__)"
   ]
  },
  {
   "cell_type": "code",
   "execution_count": 40,
   "id": "62281d6b",
   "metadata": {},
   "outputs": [
    {
     "data": {
      "text/plain": [
       "[('2024-10-01', '2024-10-02'),\n",
       " ('2024-10-02', '2024-10-03'),\n",
       " ('2024-10-03', '2024-10-04'),\n",
       " ('2024-10-04', '2024-10-05'),\n",
       " ('2024-10-05', '2024-10-06'),\n",
       " ('2024-10-06', '2024-10-07'),\n",
       " ('2024-10-07', '2024-10-08'),\n",
       " ('2024-10-08', '2024-10-09'),\n",
       " ('2024-10-09', '2024-10-10')]"
      ]
     },
     "execution_count": 40,
     "metadata": {},
     "output_type": "execute_result"
    }
   ],
   "source": [
    "start = \"2024-10-01\"\n",
    "end = \"2024-10-10\"\n",
    "symbols = [\"MES\"]\n",
    "chunk_size = 2\n",
    "\n",
    "chunks = pth.get_date_chunks(start, end, chunk_size=1)\n",
    "chunks"
   ]
  },
  {
   "cell_type": "code",
   "execution_count": 41,
   "id": "0cc2643e",
   "metadata": {},
   "outputs": [
    {
     "data": {
      "text/plain": [
       "(1440, 1)"
      ]
     },
     "execution_count": 41,
     "metadata": {},
     "output_type": "execute_result"
    }
   ],
   "source": [
    "chunk_start, chunk_end = chunks[0]\n",
    "\n",
    "df = pth.SierraChartData.pull(symbols, start=chunk_start, end=chunk_end)\n",
    "df = df.resample(\"1min\")\n",
    "df.shape"
   ]
  },
  {
   "cell_type": "code",
   "execution_count": 42,
   "id": "b61bd838",
   "metadata": {},
   "outputs": [
    {
     "data": {
      "text/plain": [
       "__main__.Memory"
      ]
     },
     "execution_count": 42,
     "metadata": {},
     "output_type": "execute_result"
    }
   ],
   "source": [
    "from collections import namedtuple\n",
    "\n",
    "Memory = namedtuple(\"Memory\", [\"signal_executed\"])\n",
    "Memory"
   ]
  },
  {
   "cell_type": "code",
   "execution_count": null,
   "id": "a9d75c3d",
   "metadata": {},
   "outputs": [],
   "source": [
    "def signal_func(c, entries, exits, memory):\n",
    "    pass"
   ]
  }
 ],
 "metadata": {
  "kernelspec": {
   "display_name": "trading",
   "language": "python",
   "name": "python3"
  },
  "language_info": {
   "codemirror_mode": {
    "name": "ipython",
    "version": 3
   },
   "file_extension": ".py",
   "mimetype": "text/x-python",
   "name": "python",
   "nbconvert_exporter": "python",
   "pygments_lexer": "ipython3",
   "version": "3.12.9"
  }
 },
 "nbformat": 4,
 "nbformat_minor": 5
}
