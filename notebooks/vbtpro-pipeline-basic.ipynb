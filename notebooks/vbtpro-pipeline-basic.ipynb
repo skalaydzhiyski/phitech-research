{
 "cells": [
  {
   "cell_type": "code",
   "execution_count": 1,
   "id": "62b375f6-cbbd-4f4f-9aca-4dcbce8e56cc",
   "metadata": {},
   "outputs": [
    {
     "name": "stderr",
     "output_type": "stream",
     "text": [
      "/Users/e1211913/miniconda3/envs/trading/lib/python3.12/site-packages/telegram/utils/request.py:49: UserWarning: python-telegram-bot is using upstream urllib3. This is allowed but not supported by python-telegram-bot maintainers.\n",
      "  warnings.warn(\n"
     ]
    },
    {
     "name": "stdout",
     "output_type": "stream",
     "text": [
      "logging mode: dev\n"
     ]
    }
   ],
   "source": [
    "import sys\n",
    "\n",
    "sys.path.append(\"../\")\n",
    "\n",
    "import pandas as pd\n",
    "import numpy as np\n",
    "import datetime\n",
    "import os\n",
    "from pprint import pprint\n",
    "import matplotlib.pyplot as plt\n",
    "import time\n",
    "from vectorbtpro import *\n",
    "from time import time\n",
    "import helpers as pth\n",
    "import platform\n",
    "from dotenv import load_dotenv\n",
    "import scipy.stats as stats\n",
    "import time\n",
    "import helpers as pth\n",
    "from numba import njit\n",
    "import talib\n",
    "\n",
    "theme = \"light\"\n",
    "vbt.settings.set_theme(theme)\n",
    "\n",
    "pd.set_option(\"display.max_rows\", 100)\n",
    "pd.set_option(\"display.max_columns\", 20)\n",
    "# plt.rcParams[\"axes.grid\"] = True\n",
    "plt.rcParams[\"figure.figsize\"] = (12, 7)\n",
    "plt.rcParams[\"axes.formatter.useoffset\"] = False\n",
    "plt.rcParams[\"axes.formatter.limits\"] = [-1000000000, 1000000000]\n",
    "plt.style.use(\"classic\" if theme == \"light\" else \"dark_background\")\n",
    "\n",
    "if platform.system().lower() == \"windows\":\n",
    "    base_data_path = \"H:\\\\phitech-data\\\\01_raw\"\n",
    "else:\n",
    "    from core_chains.simple.llm import make_Q_chain\n",
    "\n",
    "    base_data_path = \"../../phitech-data/01_raw\"\n",
    "    load_dotenv(\"../../sandatasci-core/credentials\")\n",
    "    Q = make_Q_chain(\"gpt-4o-instance1\", __vsc_ipynb_file__)"
   ]
  },
  {
   "cell_type": "code",
   "execution_count": 2,
   "id": "66d01b62",
   "metadata": {},
   "outputs": [
    {
     "data": {
      "text/html": [
       "<style>\n",
       ".dataframe {\n",
       "    font-size: 9pt; /* Adjust font size as needed */\n",
       "}\n",
       "</style>\n"
      ],
      "text/plain": [
       "<IPython.core.display.HTML object>"
      ]
     },
     "metadata": {},
     "output_type": "display_data"
    }
   ],
   "source": [
    "%%html\n",
    "<style>\n",
    ".dataframe {\n",
    "    font-size: 9pt; /* Adjust font size as needed */\n",
    "}\n",
    "</style>"
   ]
  },
  {
   "cell_type": "code",
   "execution_count": null,
   "id": "14b1efea",
   "metadata": {},
   "outputs": [],
   "source": []
  }
 ],
 "metadata": {
  "kernelspec": {
   "display_name": "trading",
   "language": "python",
   "name": "python3"
  },
  "language_info": {
   "codemirror_mode": {
    "name": "ipython",
    "version": 3
   },
   "file_extension": ".py",
   "mimetype": "text/x-python",
   "name": "python",
   "nbconvert_exporter": "python",
   "pygments_lexer": "ipython3",
   "version": "3.12.9"
  }
 },
 "nbformat": 4,
 "nbformat_minor": 5
}
