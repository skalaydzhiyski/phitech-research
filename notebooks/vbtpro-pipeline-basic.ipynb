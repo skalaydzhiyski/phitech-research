{
 "cells": [
  {
   "cell_type": "code",
   "execution_count": 1,
   "id": "62b375f6-cbbd-4f4f-9aca-4dcbce8e56cc",
   "metadata": {},
   "outputs": [
    {
     "name": "stderr",
     "output_type": "stream",
     "text": [
      "/Users/e1211913/miniconda3/envs/trading/lib/python3.12/site-packages/telegram/utils/request.py:49: UserWarning: python-telegram-bot is using upstream urllib3. This is allowed but not supported by python-telegram-bot maintainers.\n",
      "  warnings.warn(\n"
     ]
    },
    {
     "name": "stdout",
     "output_type": "stream",
     "text": [
      "logging mode: dev\n"
     ]
    }
   ],
   "source": [
    "import sys\n",
    "\n",
    "sys.path.append(\"../\")\n",
    "\n",
    "import pandas as pd\n",
    "import numpy as np\n",
    "import datetime\n",
    "import os\n",
    "from pprint import pprint\n",
    "import matplotlib.pyplot as plt\n",
    "import time\n",
    "from vectorbtpro import *\n",
    "from time import time\n",
    "import helpers as pth\n",
    "import platform\n",
    "from dotenv import load_dotenv\n",
    "import scipy.stats as stats\n",
    "import time\n",
    "import helpers as pth\n",
    "from numba import njit\n",
    "import talib\n",
    "\n",
    "theme = \"light\"\n",
    "vbt.settings.set_theme(theme)\n",
    "\n",
    "pd.set_option(\"display.max_rows\", 100)\n",
    "pd.set_option(\"display.max_columns\", 20)\n",
    "# plt.rcParams[\"axes.grid\"] = True\n",
    "plt.rcParams[\"figure.figsize\"] = (12, 7)\n",
    "plt.rcParams[\"axes.formatter.useoffset\"] = False\n",
    "plt.rcParams[\"axes.formatter.limits\"] = [-1000000000, 1000000000]\n",
    "plt.style.use(\"classic\" if theme == \"light\" else \"dark_background\")\n",
    "\n",
    "if platform.system().lower() == \"windows\":\n",
    "    base_data_path = \"H:\\\\phitech-data\\\\01_raw\"\n",
    "else:\n",
    "    from core_chains.simple.llm import make_Q_chain\n",
    "\n",
    "    base_data_path = \"../../phitech-data/01_raw\"\n",
    "    load_dotenv(\"../../sandatasci-core/credentials\")\n",
    "    Q = make_Q_chain(\"gpt-4o-instance1\", __vsc_ipynb_file__)"
   ]
  },
  {
   "cell_type": "code",
   "execution_count": 2,
   "id": "66d01b62",
   "metadata": {},
   "outputs": [
    {
     "data": {
      "text/html": [
       "<style>\n",
       ".dataframe {\n",
       "    font-size: 9pt; /* Adjust font size as needed */\n",
       "}\n",
       "</style>\n"
      ],
      "text/plain": [
       "<IPython.core.display.HTML object>"
      ]
     },
     "metadata": {},
     "output_type": "display_data"
    }
   ],
   "source": [
    "%%html\n",
    "<style>\n",
    ".dataframe {\n",
    "    font-size: 9pt; /* Adjust font size as needed */\n",
    "}\n",
    "</style>"
   ]
  },
  {
   "cell_type": "code",
   "execution_count": 12,
   "id": "62281d6b",
   "metadata": {},
   "outputs": [
    {
     "data": {
      "text/plain": [
       "[('2024-10-01', '2024-10-02'),\n",
       " ('2024-10-02', '2024-10-03'),\n",
       " ('2024-10-03', '2024-10-04'),\n",
       " ('2024-10-04', '2024-10-05'),\n",
       " ('2024-10-05', '2024-10-06'),\n",
       " ('2024-10-06', '2024-10-07'),\n",
       " ('2024-10-07', '2024-10-08'),\n",
       " ('2024-10-08', '2024-10-09'),\n",
       " ('2024-10-09', '2024-10-10')]"
      ]
     },
     "execution_count": 12,
     "metadata": {},
     "output_type": "execute_result"
    }
   ],
   "source": [
    "start = \"2024-10-01\"\n",
    "end = \"2024-10-10\"\n",
    "symbols = [\"MES\"]\n",
    "chunk_size = 2\n",
    "\n",
    "chunks = pth.get_date_chunks(start, end, chunk_size=1)\n",
    "chunks"
   ]
  },
  {
   "cell_type": "code",
   "execution_count": 53,
   "id": "0cc2643e",
   "metadata": {},
   "outputs": [],
   "source": [
    "chunk_start, chunk_end = chunks[0]\n",
    "\n",
    "df = pth.SierraChartData.ffill(\n",
    "    pth.SierraChartData.pull(symbols, start=chunk_start, end=chunk_end)\n",
    ")\n",
    "df = df.resample(\"1min\")"
   ]
  },
  {
   "cell_type": "code",
   "execution_count": 70,
   "id": "3880abcf",
   "metadata": {},
   "outputs": [],
   "source": [
    "period = 10\n",
    "indicator = vbt.talib(\"ATR\").run(df.get(\"High\"), df.get(\"Low\"), df.get(\"Close\"), period)"
   ]
  },
  {
   "cell_type": "code",
   "execution_count": 81,
   "id": "31c12eea",
   "metadata": {},
   "outputs": [
    {
     "data": {
      "application/vnd.jupyter.widget-view+json": {
       "model_id": "245cdcf04b574e1f9329cae52e66adba",
       "version_major": 2,
       "version_minor": 0
      },
      "text/plain": [
       "FigureWidget({\n",
       "    'data': [{'name': 'MES',\n",
       "              'showlegend': True,\n",
       "              'type': 'scatter',\n",
       "              'uid': '26a63e2e-7522-4fb4-82c9-77ae60f931e0',\n",
       "              'x': array([datetime.datetime(2024, 10, 1, 0, 0, tzinfo=datetime.timezone.utc),\n",
       "                          datetime.datetime(2024, 10, 1, 0, 1, tzinfo=datetime.timezone.utc),\n",
       "                          datetime.datetime(2024, 10, 1, 0, 2, tzinfo=datetime.timezone.utc), ...,\n",
       "                          datetime.datetime(2024, 10, 1, 23, 57, tzinfo=datetime.timezone.utc),\n",
       "                          datetime.datetime(2024, 10, 1, 23, 58, tzinfo=datetime.timezone.utc),\n",
       "                          datetime.datetime(2024, 10, 1, 23, 59, tzinfo=datetime.timezone.utc)],\n",
       "                         dtype=object),\n",
       "              'y': array([5929.  , 5928.  , 5927.5 , ..., 5873.  , 5871.  , 5871.25])},\n",
       "             {'name': \"(10, 'MES')\",\n",
       "              'showlegend': True,\n",
       "              'type': 'scatter',\n",
       "              'uid': '80d7fbd8-3037-4119-a93e-5a4b64142343',\n",
       "              'x': array([datetime.datetime(2024, 10, 1, 0, 0, tzinfo=datetime.timezone.utc),\n",
       "                          datetime.datetime(2024, 10, 1, 0, 1, tzinfo=datetime.timezone.utc),\n",
       "                          datetime.datetime(2024, 10, 1, 0, 2, tzinfo=datetime.timezone.utc), ...,\n",
       "                          datetime.datetime(2024, 10, 1, 23, 57, tzinfo=datetime.timezone.utc),\n",
       "                          datetime.datetime(2024, 10, 1, 23, 58, tzinfo=datetime.timezone.utc),\n",
       "                          datetime.datetime(2024, 10, 1, 23, 59, tzinfo=datetime.timezone.utc)],\n",
       "                         dtype=object),\n",
       "              'y': array([          nan,           nan,           nan, ..., 5876.01480757,\n",
       "                          5874.16332681, 5874.39699413])},\n",
       "             {'name': \"(10, 'MES')\",\n",
       "              'showlegend': True,\n",
       "              'type': 'scatter',\n",
       "              'uid': 'bd328a01-6d04-4b61-a810-4ea953c347ff',\n",
       "              'x': array([datetime.datetime(2024, 10, 1, 0, 0, tzinfo=datetime.timezone.utc),\n",
       "                          datetime.datetime(2024, 10, 1, 0, 1, tzinfo=datetime.timezone.utc),\n",
       "                          datetime.datetime(2024, 10, 1, 0, 2, tzinfo=datetime.timezone.utc), ...,\n",
       "                          datetime.datetime(2024, 10, 1, 23, 57, tzinfo=datetime.timezone.utc),\n",
       "                          datetime.datetime(2024, 10, 1, 23, 58, tzinfo=datetime.timezone.utc),\n",
       "                          datetime.datetime(2024, 10, 1, 23, 59, tzinfo=datetime.timezone.utc)],\n",
       "                         dtype=object),\n",
       "              'y': array([          nan,           nan,           nan, ..., 5869.98519243,\n",
       "                          5867.83667319, 5868.10300587])}],\n",
       "    'layout': {'height': 480,\n",
       "               'legend': {'orientation': 'h',\n",
       "                          'traceorder': 'normal',\n",
       "                          'x': 1,\n",
       "                          'xanchor': 'right',\n",
       "                          'y': 1.02,\n",
       "                          'yanchor': 'bottom'},\n",
       "               'margin': {'b': 30, 'l': 30, 'r': 30, 't': 30},\n",
       "               'template': '...',\n",
       "               'width': 700}\n",
       "})"
      ]
     },
     "execution_count": 81,
     "metadata": {},
     "output_type": "execute_result"
    }
   ],
   "source": [
    "multiplier = 2\n",
    "fig = df.get(\"Close\").vbt.plot(height=480)\n",
    "(df.get(\"Close\") + multiplier * indicator.atr).vbt.plot(fig=fig)\n",
    "(df.get(\"Close\") - multiplier * indicator.atr).vbt.plot(fig=fig)"
   ]
  },
  {
   "cell_type": "code",
   "execution_count": 82,
   "id": "d99dc480",
   "metadata": {},
   "outputs": [],
   "source": [
    "# TODO: continue here with building the pipeline when you're back at this from home."
   ]
  }
 ],
 "metadata": {
  "kernelspec": {
   "display_name": "trading",
   "language": "python",
   "name": "python3"
  },
  "language_info": {
   "codemirror_mode": {
    "name": "ipython",
    "version": 3
   },
   "file_extension": ".py",
   "mimetype": "text/x-python",
   "name": "python",
   "nbconvert_exporter": "python",
   "pygments_lexer": "ipython3",
   "version": "3.12.9"
  }
 },
 "nbformat": 4,
 "nbformat_minor": 5
}
