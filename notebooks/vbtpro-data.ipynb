{
 "cells": [
  {
   "cell_type": "code",
   "execution_count": 1,
   "id": "62b375f6-cbbd-4f4f-9aca-4dcbce8e56cc",
   "metadata": {},
   "outputs": [
    {
     "name": "stderr",
     "output_type": "stream",
     "text": [
      "/Users/e1211913/miniconda3/envs/trading/lib/python3.12/site-packages/telegram/utils/request.py:49: UserWarning: python-telegram-bot is using upstream urllib3. This is allowed but not supported by python-telegram-bot maintainers.\n",
      "  warnings.warn(\n"
     ]
    },
    {
     "name": "stdout",
     "output_type": "stream",
     "text": [
      "logging mode: dev\n"
     ]
    }
   ],
   "source": [
    "import sys\n",
    "\n",
    "sys.path.append(\"../\")\n",
    "\n",
    "import pandas as pd\n",
    "import numpy as np\n",
    "import datetime\n",
    "import os\n",
    "from pprint import pprint\n",
    "import matplotlib.pyplot as plt\n",
    "import time\n",
    "from vectorbtpro import *\n",
    "from time import time\n",
    "import helpers as pth\n",
    "import platform\n",
    "from dotenv import load_dotenv\n",
    "import scipy.stats as stats\n",
    "import time\n",
    "import helpers as pth\n",
    "from numba import njit\n",
    "import talib\n",
    "\n",
    "theme = \"light\"\n",
    "vbt.settings.set_theme(theme)\n",
    "\n",
    "pd.set_option(\"display.max_rows\", 100)\n",
    "pd.set_option(\"display.max_columns\", 20)\n",
    "# plt.rcParams[\"axes.grid\"] = True\n",
    "plt.rcParams[\"figure.figsize\"] = (12, 7)\n",
    "plt.rcParams[\"axes.formatter.useoffset\"] = False\n",
    "plt.rcParams[\"axes.formatter.limits\"] = [-1000000000, 1000000000]\n",
    "plt.style.use(\"classic\" if theme == \"light\" else \"dark_background\")\n",
    "\n",
    "if platform.system().lower() == \"windows\":\n",
    "    base_data_path = \"H:\\\\phitech-data\\\\01_raw\"\n",
    "else:\n",
    "    from core_chains.simple.llm import make_Q_chain\n",
    "\n",
    "    base_data_path = \"../../phitech-data/01_raw\"\n",
    "    load_dotenv(\"../../sandatasci-core/credentials\")\n",
    "    Q = make_Q_chain(\"gpt-4o-instance1\", __vsc_ipynb_file__)"
   ]
  },
  {
   "cell_type": "code",
   "execution_count": 2,
   "id": "66d01b62",
   "metadata": {},
   "outputs": [
    {
     "data": {
      "text/html": [
       "<style>\n",
       ".dataframe {\n",
       "    font-size: 9pt; /* Adjust font size as needed */\n",
       "}\n",
       "</style>\n"
      ],
      "text/plain": [
       "<IPython.core.display.HTML object>"
      ]
     },
     "metadata": {},
     "output_type": "display_data"
    }
   ],
   "source": [
    "%%html\n",
    "<style>\n",
    ".dataframe {\n",
    "    font-size: 9pt; /* Adjust font size as needed */\n",
    "}\n",
    "</style>"
   ]
  },
  {
   "cell_type": "code",
   "execution_count": 13,
   "id": "267c3e1b",
   "metadata": {},
   "outputs": [
    {
     "name": "stderr",
     "output_type": "stream",
     "text": [
      "/Users/e1211913/miniconda3/envs/trading/lib/python3.12/site-packages/vectorbtpro/data/base.py:1728: VBTWarning: Symbols have mismatching index. Setting missing data points to NaN.\n"
     ]
    },
    {
     "data": {
      "text/plain": [
       "<helpers.SierraChartData at 0x177f5c1a0>"
      ]
     },
     "execution_count": 13,
     "metadata": {},
     "output_type": "execute_result"
    }
   ],
   "source": [
    "symbols = [\"MES\", \"6E\"]\n",
    "df = pth.SierraChartData.pull(symbols=symbols, start=\"2024-08-01\", end=\"2024-08-02\")\n",
    "df"
   ]
  },
  {
   "cell_type": "code",
   "execution_count": null,
   "id": "e60e1519",
   "metadata": {},
   "outputs": [
    {
     "data": {
      "application/vnd.jupyter.widget-view+json": {
       "model_id": "9c687f28192b45338c375acaa8c38771",
       "version_major": 2,
       "version_minor": 0
      },
      "text/plain": [
       "FigureWidget({\n",
       "    'data': [{'name': 'close',\n",
       "              'showlegend': True,\n",
       "              'type': 'scatter',\n",
       "              'uid': '24ba1289-1509-4814-80ed-5bb0bac96544',\n",
       "              'x': array([datetime.datetime(2024, 8, 1, 0, 0, tzinfo=datetime.timezone.utc),\n",
       "                          datetime.datetime(2024, 8, 1, 0, 0, 1, tzinfo=datetime.timezone.utc),\n",
       "                          datetime.datetime(2024, 8, 1, 0, 0, 2, tzinfo=datetime.timezone.utc),\n",
       "                          ...,\n",
       "                          datetime.datetime(2024, 8, 1, 23, 59, 55, tzinfo=datetime.timezone.utc),\n",
       "                          datetime.datetime(2024, 8, 1, 23, 59, 56, tzinfo=datetime.timezone.utc),\n",
       "                          datetime.datetime(2024, 8, 1, 23, 59, 59, tzinfo=datetime.timezone.utc)],\n",
       "                         dtype=object),\n",
       "              'y': array([5767.  , 5767.  , 5767.25, ..., 5635.5 , 5635.75, 5635.5 ])}],\n",
       "    'layout': {'height': 350,\n",
       "               'legend': {'orientation': 'h',\n",
       "                          'traceorder': 'normal',\n",
       "                          'x': 1,\n",
       "                          'xanchor': 'right',\n",
       "                          'y': 1.02,\n",
       "                          'yanchor': 'bottom'},\n",
       "               'margin': {'b': 30, 'l': 30, 'r': 30, 't': 30},\n",
       "               'template': '...',\n",
       "               'width': 700}\n",
       "})"
      ]
     },
     "execution_count": 14,
     "metadata": {},
     "output_type": "execute_result"
    }
   ],
   "source": [
    "df.get(\"Close\", \"MES\").vbt.plot()"
   ]
  },
  {
   "cell_type": "code",
   "execution_count": 20,
   "id": "da3e2dc3",
   "metadata": {},
   "outputs": [
    {
     "data": {
      "application/vnd.jupyter.widget-view+json": {
       "model_id": "97b70ae02ea745c380106f925eee1e91",
       "version_major": 2,
       "version_minor": 0
      },
      "text/plain": [
       "FigureWidget({\n",
       "    'data': [{'name': 'MES',\n",
       "              'showlegend': True,\n",
       "              'type': 'scatter',\n",
       "              'uid': 'a17e1a07-78d6-40bb-9212-c9fa3aaefc54',\n",
       "              'x': array([datetime.datetime(2024, 8, 1, 0, 0, tzinfo=datetime.timezone.utc),\n",
       "                          datetime.datetime(2024, 8, 1, 0, 15, tzinfo=datetime.timezone.utc),\n",
       "                          datetime.datetime(2024, 8, 1, 0, 30, tzinfo=datetime.timezone.utc),\n",
       "                          datetime.datetime(2024, 8, 1, 0, 45, tzinfo=datetime.timezone.utc),\n",
       "                          datetime.datetime(2024, 8, 1, 1, 0, tzinfo=datetime.timezone.utc),\n",
       "                          datetime.datetime(2024, 8, 1, 1, 15, tzinfo=datetime.timezone.utc),\n",
       "                          datetime.datetime(2024, 8, 1, 1, 30, tzinfo=datetime.timezone.utc),\n",
       "                          datetime.datetime(2024, 8, 1, 1, 45, tzinfo=datetime.timezone.utc),\n",
       "                          datetime.datetime(2024, 8, 1, 2, 0, tzinfo=datetime.timezone.utc),\n",
       "                          datetime.datetime(2024, 8, 1, 2, 15, tzinfo=datetime.timezone.utc),\n",
       "                          datetime.datetime(2024, 8, 1, 2, 30, tzinfo=datetime.timezone.utc),\n",
       "                          datetime.datetime(2024, 8, 1, 2, 45, tzinfo=datetime.timezone.utc),\n",
       "                          datetime.datetime(2024, 8, 1, 3, 0, tzinfo=datetime.timezone.utc),\n",
       "                          datetime.datetime(2024, 8, 1, 3, 15, tzinfo=datetime.timezone.utc),\n",
       "                          datetime.datetime(2024, 8, 1, 3, 30, tzinfo=datetime.timezone.utc),\n",
       "                          datetime.datetime(2024, 8, 1, 3, 45, tzinfo=datetime.timezone.utc),\n",
       "                          datetime.datetime(2024, 8, 1, 4, 0, tzinfo=datetime.timezone.utc),\n",
       "                          datetime.datetime(2024, 8, 1, 4, 15, tzinfo=datetime.timezone.utc),\n",
       "                          datetime.datetime(2024, 8, 1, 4, 30, tzinfo=datetime.timezone.utc),\n",
       "                          datetime.datetime(2024, 8, 1, 4, 45, tzinfo=datetime.timezone.utc),\n",
       "                          datetime.datetime(2024, 8, 1, 5, 0, tzinfo=datetime.timezone.utc),\n",
       "                          datetime.datetime(2024, 8, 1, 5, 15, tzinfo=datetime.timezone.utc),\n",
       "                          datetime.datetime(2024, 8, 1, 5, 30, tzinfo=datetime.timezone.utc),\n",
       "                          datetime.datetime(2024, 8, 1, 5, 45, tzinfo=datetime.timezone.utc),\n",
       "                          datetime.datetime(2024, 8, 1, 6, 0, tzinfo=datetime.timezone.utc),\n",
       "                          datetime.datetime(2024, 8, 1, 6, 15, tzinfo=datetime.timezone.utc),\n",
       "                          datetime.datetime(2024, 8, 1, 6, 30, tzinfo=datetime.timezone.utc),\n",
       "                          datetime.datetime(2024, 8, 1, 6, 45, tzinfo=datetime.timezone.utc),\n",
       "                          datetime.datetime(2024, 8, 1, 7, 0, tzinfo=datetime.timezone.utc),\n",
       "                          datetime.datetime(2024, 8, 1, 7, 15, tzinfo=datetime.timezone.utc),\n",
       "                          datetime.datetime(2024, 8, 1, 7, 30, tzinfo=datetime.timezone.utc),\n",
       "                          datetime.datetime(2024, 8, 1, 7, 45, tzinfo=datetime.timezone.utc),\n",
       "                          datetime.datetime(2024, 8, 1, 8, 0, tzinfo=datetime.timezone.utc),\n",
       "                          datetime.datetime(2024, 8, 1, 8, 15, tzinfo=datetime.timezone.utc),\n",
       "                          datetime.datetime(2024, 8, 1, 8, 30, tzinfo=datetime.timezone.utc),\n",
       "                          datetime.datetime(2024, 8, 1, 8, 45, tzinfo=datetime.timezone.utc),\n",
       "                          datetime.datetime(2024, 8, 1, 9, 0, tzinfo=datetime.timezone.utc),\n",
       "                          datetime.datetime(2024, 8, 1, 9, 15, tzinfo=datetime.timezone.utc),\n",
       "                          datetime.datetime(2024, 8, 1, 9, 30, tzinfo=datetime.timezone.utc),\n",
       "                          datetime.datetime(2024, 8, 1, 9, 45, tzinfo=datetime.timezone.utc),\n",
       "                          datetime.datetime(2024, 8, 1, 10, 0, tzinfo=datetime.timezone.utc),\n",
       "                          datetime.datetime(2024, 8, 1, 10, 15, tzinfo=datetime.timezone.utc),\n",
       "                          datetime.datetime(2024, 8, 1, 10, 30, tzinfo=datetime.timezone.utc),\n",
       "                          datetime.datetime(2024, 8, 1, 10, 45, tzinfo=datetime.timezone.utc),\n",
       "                          datetime.datetime(2024, 8, 1, 11, 0, tzinfo=datetime.timezone.utc),\n",
       "                          datetime.datetime(2024, 8, 1, 11, 15, tzinfo=datetime.timezone.utc),\n",
       "                          datetime.datetime(2024, 8, 1, 11, 30, tzinfo=datetime.timezone.utc),\n",
       "                          datetime.datetime(2024, 8, 1, 11, 45, tzinfo=datetime.timezone.utc),\n",
       "                          datetime.datetime(2024, 8, 1, 12, 0, tzinfo=datetime.timezone.utc),\n",
       "                          datetime.datetime(2024, 8, 1, 12, 15, tzinfo=datetime.timezone.utc),\n",
       "                          datetime.datetime(2024, 8, 1, 12, 30, tzinfo=datetime.timezone.utc),\n",
       "                          datetime.datetime(2024, 8, 1, 12, 45, tzinfo=datetime.timezone.utc),\n",
       "                          datetime.datetime(2024, 8, 1, 13, 0, tzinfo=datetime.timezone.utc),\n",
       "                          datetime.datetime(2024, 8, 1, 13, 15, tzinfo=datetime.timezone.utc),\n",
       "                          datetime.datetime(2024, 8, 1, 13, 30, tzinfo=datetime.timezone.utc),\n",
       "                          datetime.datetime(2024, 8, 1, 13, 45, tzinfo=datetime.timezone.utc),\n",
       "                          datetime.datetime(2024, 8, 1, 14, 0, tzinfo=datetime.timezone.utc),\n",
       "                          datetime.datetime(2024, 8, 1, 14, 15, tzinfo=datetime.timezone.utc),\n",
       "                          datetime.datetime(2024, 8, 1, 14, 30, tzinfo=datetime.timezone.utc),\n",
       "                          datetime.datetime(2024, 8, 1, 14, 45, tzinfo=datetime.timezone.utc),\n",
       "                          datetime.datetime(2024, 8, 1, 15, 0, tzinfo=datetime.timezone.utc),\n",
       "                          datetime.datetime(2024, 8, 1, 15, 15, tzinfo=datetime.timezone.utc),\n",
       "                          datetime.datetime(2024, 8, 1, 15, 30, tzinfo=datetime.timezone.utc),\n",
       "                          datetime.datetime(2024, 8, 1, 15, 45, tzinfo=datetime.timezone.utc),\n",
       "                          datetime.datetime(2024, 8, 1, 16, 0, tzinfo=datetime.timezone.utc),\n",
       "                          datetime.datetime(2024, 8, 1, 16, 15, tzinfo=datetime.timezone.utc),\n",
       "                          datetime.datetime(2024, 8, 1, 16, 30, tzinfo=datetime.timezone.utc),\n",
       "                          datetime.datetime(2024, 8, 1, 16, 45, tzinfo=datetime.timezone.utc),\n",
       "                          datetime.datetime(2024, 8, 1, 17, 0, tzinfo=datetime.timezone.utc),\n",
       "                          datetime.datetime(2024, 8, 1, 17, 15, tzinfo=datetime.timezone.utc),\n",
       "                          datetime.datetime(2024, 8, 1, 17, 30, tzinfo=datetime.timezone.utc),\n",
       "                          datetime.datetime(2024, 8, 1, 17, 45, tzinfo=datetime.timezone.utc),\n",
       "                          datetime.datetime(2024, 8, 1, 18, 0, tzinfo=datetime.timezone.utc),\n",
       "                          datetime.datetime(2024, 8, 1, 18, 15, tzinfo=datetime.timezone.utc),\n",
       "                          datetime.datetime(2024, 8, 1, 18, 30, tzinfo=datetime.timezone.utc),\n",
       "                          datetime.datetime(2024, 8, 1, 18, 45, tzinfo=datetime.timezone.utc),\n",
       "                          datetime.datetime(2024, 8, 1, 19, 0, tzinfo=datetime.timezone.utc),\n",
       "                          datetime.datetime(2024, 8, 1, 19, 15, tzinfo=datetime.timezone.utc),\n",
       "                          datetime.datetime(2024, 8, 1, 19, 30, tzinfo=datetime.timezone.utc),\n",
       "                          datetime.datetime(2024, 8, 1, 19, 45, tzinfo=datetime.timezone.utc),\n",
       "                          datetime.datetime(2024, 8, 1, 20, 0, tzinfo=datetime.timezone.utc),\n",
       "                          datetime.datetime(2024, 8, 1, 20, 15, tzinfo=datetime.timezone.utc),\n",
       "                          datetime.datetime(2024, 8, 1, 20, 30, tzinfo=datetime.timezone.utc),\n",
       "                          datetime.datetime(2024, 8, 1, 20, 45, tzinfo=datetime.timezone.utc),\n",
       "                          datetime.datetime(2024, 8, 1, 21, 0, tzinfo=datetime.timezone.utc),\n",
       "                          datetime.datetime(2024, 8, 1, 21, 15, tzinfo=datetime.timezone.utc),\n",
       "                          datetime.datetime(2024, 8, 1, 21, 30, tzinfo=datetime.timezone.utc),\n",
       "                          datetime.datetime(2024, 8, 1, 21, 45, tzinfo=datetime.timezone.utc),\n",
       "                          datetime.datetime(2024, 8, 1, 22, 0, tzinfo=datetime.timezone.utc),\n",
       "                          datetime.datetime(2024, 8, 1, 22, 15, tzinfo=datetime.timezone.utc),\n",
       "                          datetime.datetime(2024, 8, 1, 22, 30, tzinfo=datetime.timezone.utc),\n",
       "                          datetime.datetime(2024, 8, 1, 22, 45, tzinfo=datetime.timezone.utc),\n",
       "                          datetime.datetime(2024, 8, 1, 23, 0, tzinfo=datetime.timezone.utc),\n",
       "                          datetime.datetime(2024, 8, 1, 23, 15, tzinfo=datetime.timezone.utc),\n",
       "                          datetime.datetime(2024, 8, 1, 23, 30, tzinfo=datetime.timezone.utc),\n",
       "                          datetime.datetime(2024, 8, 1, 23, 45, tzinfo=datetime.timezone.utc)],\n",
       "                         dtype=object),\n",
       "              'y': array([5770.  , 5772.  , 5772.75, 5771.25, 5777.25, 5776.25, 5773.5 , 5766.25,\n",
       "                          5767.25, 5765.75, 5767.25, 5767.25, 5766.  , 5771.5 , 5774.  , 5774.  ,\n",
       "                          5773.  , 5775.75, 5774.5 , 5776.25, 5775.  , 5775.25, 5773.5 , 5774.5 ,\n",
       "                          5774.5 , 5774.5 , 5776.5 , 5780.  , 5767.  , 5766.5 , 5769.  , 5760.5 ,\n",
       "                          5767.75, 5764.75, 5766.25, 5758.25, 5745.5 , 5749.75, 5747.75, 5746.  ,\n",
       "                          5756.  , 5752.  , 5759.25, 5760.25, 5760.  , 5763.5 , 5761.75, 5764.  ,\n",
       "                          5766.75, 5769.75, 5769.  , 5761.  , 5764.5 , 5769.75, 5768.25, 5771.  ,\n",
       "                          5763.5 , 5761.75, 5782.  , 5776.5 , 5756.5 , 5733.75, 5722.5 , 5710.  ,\n",
       "                          5698.5 , 5696.75, 5681.5 , 5682.25, 5694.  , 5685.5 , 5672.25, 5672.25,\n",
       "                          5662.  , 5657.5 , 5644.5 , 5660.25, 5644.25, 5637.  , 5632.25, 5634.  ,\n",
       "                          5640.25, 5649.  , 5648.  , 5664.5 , 5648.75, 5640.75, 5643.75, 5654.75,\n",
       "                              nan,     nan,     nan,     nan, 5646.5 , 5649.75, 5637.5 , 5635.5 ])}],\n",
       "    'layout': {'height': 350,\n",
       "               'legend': {'orientation': 'h',\n",
       "                          'traceorder': 'normal',\n",
       "                          'x': 1,\n",
       "                          'xanchor': 'right',\n",
       "                          'y': 1.02,\n",
       "                          'yanchor': 'bottom'},\n",
       "               'margin': {'b': 30, 'l': 30, 'r': 30, 't': 30},\n",
       "               'template': '...',\n",
       "               'width': 700}\n",
       "})"
      ]
     },
     "execution_count": 20,
     "metadata": {},
     "output_type": "execute_result"
    }
   ],
   "source": [
    "df.resample(\"15min\").get(\"Close\")[\"MES\"].vbt.plot()"
   ]
  },
  {
   "cell_type": "code",
   "execution_count": null,
   "id": "f4803f65",
   "metadata": {},
   "outputs": [],
   "source": []
  }
 ],
 "metadata": {
  "kernelspec": {
   "display_name": "trading",
   "language": "python",
   "name": "python3"
  },
  "language_info": {
   "codemirror_mode": {
    "name": "ipython",
    "version": 3
   },
   "file_extension": ".py",
   "mimetype": "text/x-python",
   "name": "python",
   "nbconvert_exporter": "python",
   "pygments_lexer": "ipython3",
   "version": "3.12.9"
  }
 },
 "nbformat": 4,
 "nbformat_minor": 5
}
