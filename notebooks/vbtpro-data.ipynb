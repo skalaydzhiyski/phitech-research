{
 "cells": [
  {
   "cell_type": "code",
   "execution_count": 1,
   "id": "62b375f6-cbbd-4f4f-9aca-4dcbce8e56cc",
   "metadata": {},
   "outputs": [
    {
     "name": "stderr",
     "output_type": "stream",
     "text": [
      "/Users/e1211913/miniconda3/envs/trading/lib/python3.12/site-packages/telegram/utils/request.py:49: UserWarning: python-telegram-bot is using upstream urllib3. This is allowed but not supported by python-telegram-bot maintainers.\n",
      "  warnings.warn(\n"
     ]
    },
    {
     "name": "stdout",
     "output_type": "stream",
     "text": [
      "logging mode: dev\n"
     ]
    }
   ],
   "source": [
    "import sys\n",
    "\n",
    "sys.path.append(\"../\")\n",
    "\n",
    "import pandas as pd\n",
    "import numpy as np\n",
    "import datetime\n",
    "import os\n",
    "from pprint import pprint\n",
    "import matplotlib.pyplot as plt\n",
    "import time\n",
    "import vectorbtpro as vbt\n",
    "from time import time\n",
    "import helpers as pth\n",
    "import platform\n",
    "from dotenv import load_dotenv\n",
    "import scipy.stats as stats\n",
    "import time\n",
    "\n",
    "pd.set_option(\"display.max_rows\", 100)\n",
    "pd.set_option(\"display.max_columns\", 20)\n",
    "\n",
    "plt.style.use(\"classic\")\n",
    "# plt.rcParams[\"axes.grid\"] = True\n",
    "plt.rcParams[\"figure.figsize\"] = (10, 6)\n",
    "plt.rcParams[\"axes.formatter.useoffset\"] = False\n",
    "plt.rcParams[\"axes.formatter.limits\"] = [-1000000000, 1000000000]\n",
    "\n",
    "\n",
    "if platform.system().lower() == \"windows\":\n",
    "    base_data_path = \"H:\\\\phitech-data\\\\01_raw\"\n",
    "else:\n",
    "    from core_chains.simple.llm import make_Q_chain\n",
    "\n",
    "    base_data_path = \"../../phitech-data/01_raw\"\n",
    "    load_dotenv(\"../../sandatasci-core/credentials\")\n",
    "    Q = make_Q_chain(\"gpt-4o-instance1\", __vsc_ipynb_file__)"
   ]
  },
  {
   "cell_type": "code",
   "execution_count": 2,
   "id": "66d01b62",
   "metadata": {},
   "outputs": [
    {
     "data": {
      "text/html": [
       "<style>\n",
       ".dataframe {\n",
       "    font-size: 9pt; /* Adjust font size as needed */\n",
       "}\n",
       "</style>\n"
      ],
      "text/plain": [
       "<IPython.core.display.HTML object>"
      ]
     },
     "metadata": {},
     "output_type": "display_data"
    }
   ],
   "source": [
    "%%html\n",
    "<style>\n",
    ".dataframe {\n",
    "    font-size: 9pt; /* Adjust font size as needed */\n",
    "}\n",
    "</style>"
   ]
  },
  {
   "cell_type": "code",
   "execution_count": 3,
   "id": "4bf46df1",
   "metadata": {},
   "outputs": [
    {
     "name": "stderr",
     "output_type": "stream",
     "text": [
      "/Users/e1211913/miniconda3/envs/trading/lib/python3.12/site-packages/vectorbtpro/data/base.py:1728: VBTWarning: Symbols have mismatching index. Setting missing data points to NaN.\n"
     ]
    },
    {
     "data": {
      "text/plain": [
       "<helpers.SierraChartData at 0x173241f10>"
      ]
     },
     "execution_count": 3,
     "metadata": {},
     "output_type": "execute_result"
    }
   ],
   "source": [
    "df = pth.SierraChartData.pull([\"6B\", \"MES\"], interval=\"1min\")\n",
    "df = df.dropna()\n",
    "df"
   ]
  },
  {
   "cell_type": "code",
   "execution_count": 4,
   "id": "6f59bc27",
   "metadata": {},
   "outputs": [
    {
     "data": {
      "text/html": [
       "<div>\n",
       "<style scoped>\n",
       "    .dataframe tbody tr th:only-of-type {\n",
       "        vertical-align: middle;\n",
       "    }\n",
       "\n",
       "    .dataframe tbody tr th {\n",
       "        vertical-align: top;\n",
       "    }\n",
       "\n",
       "    .dataframe thead th {\n",
       "        text-align: right;\n",
       "    }\n",
       "</style>\n",
       "<table border=\"1\" class=\"dataframe\">\n",
       "  <thead>\n",
       "    <tr style=\"text-align: right;\">\n",
       "      <th>symbol</th>\n",
       "      <th>6B</th>\n",
       "      <th>MES</th>\n",
       "    </tr>\n",
       "  </thead>\n",
       "  <tbody>\n",
       "    <tr>\n",
       "      <th>0</th>\n",
       "      <td>1.2706</td>\n",
       "      <td>5527.25</td>\n",
       "    </tr>\n",
       "    <tr>\n",
       "      <th>1</th>\n",
       "      <td>1.2707</td>\n",
       "      <td>5526.50</td>\n",
       "    </tr>\n",
       "    <tr>\n",
       "      <th>2</th>\n",
       "      <td>1.2707</td>\n",
       "      <td>5527.00</td>\n",
       "    </tr>\n",
       "    <tr>\n",
       "      <th>3</th>\n",
       "      <td>1.2708</td>\n",
       "      <td>5528.25</td>\n",
       "    </tr>\n",
       "    <tr>\n",
       "      <th>4</th>\n",
       "      <td>1.2708</td>\n",
       "      <td>5528.50</td>\n",
       "    </tr>\n",
       "    <tr>\n",
       "      <th>...</th>\n",
       "      <td>...</td>\n",
       "      <td>...</td>\n",
       "    </tr>\n",
       "    <tr>\n",
       "      <th>268469</th>\n",
       "      <td>1.2928</td>\n",
       "      <td>6136.75</td>\n",
       "    </tr>\n",
       "    <tr>\n",
       "      <th>268470</th>\n",
       "      <td>1.2928</td>\n",
       "      <td>6137.25</td>\n",
       "    </tr>\n",
       "    <tr>\n",
       "      <th>268471</th>\n",
       "      <td>1.2927</td>\n",
       "      <td>6136.00</td>\n",
       "    </tr>\n",
       "    <tr>\n",
       "      <th>268472</th>\n",
       "      <td>1.2929</td>\n",
       "      <td>6131.75</td>\n",
       "    </tr>\n",
       "    <tr>\n",
       "      <th>268473</th>\n",
       "      <td>1.2929</td>\n",
       "      <td>6126.25</td>\n",
       "    </tr>\n",
       "  </tbody>\n",
       "</table>\n",
       "<p>268474 rows × 2 columns</p>\n",
       "</div>"
      ],
      "text/plain": [
       "symbol      6B      MES\n",
       "0       1.2706  5527.25\n",
       "1       1.2707  5526.50\n",
       "2       1.2707  5527.00\n",
       "3       1.2708  5528.25\n",
       "4       1.2708  5528.50\n",
       "...        ...      ...\n",
       "268469  1.2928  6136.75\n",
       "268470  1.2928  6137.25\n",
       "268471  1.2927  6136.00\n",
       "268472  1.2929  6131.75\n",
       "268473  1.2929  6126.25\n",
       "\n",
       "[268474 rows x 2 columns]"
      ]
     },
     "execution_count": 4,
     "metadata": {},
     "output_type": "execute_result"
    }
   ],
   "source": [
    "df.get(\"Close\")"
   ]
  }
 ],
 "metadata": {
  "kernelspec": {
   "display_name": "base",
   "language": "python",
   "name": "python3"
  },
  "language_info": {
   "codemirror_mode": {
    "name": "ipython",
    "version": 3
   },
   "file_extension": ".py",
   "mimetype": "text/x-python",
   "name": "python",
   "nbconvert_exporter": "python",
   "pygments_lexer": "ipython3",
   "version": "3.12.9"
  }
 },
 "nbformat": 4,
 "nbformat_minor": 5
}
