{
 "cells": [
  {
   "cell_type": "code",
   "execution_count": 1,
   "id": "62b375f6-cbbd-4f4f-9aca-4dcbce8e56cc",
   "metadata": {},
   "outputs": [],
   "source": [
    "import sys\n",
    "\n",
    "sys.path.append(\"../\")\n",
    "\n",
    "import pandas as pd\n",
    "import numpy as np\n",
    "import datetime\n",
    "import os\n",
    "from pprint import pprint\n",
    "import matplotlib.pyplot as plt\n",
    "import time\n",
    "from vectorbtpro import *\n",
    "from time import time\n",
    "import helpers as pth\n",
    "import platform\n",
    "from dotenv import load_dotenv\n",
    "import scipy.stats as stats\n",
    "import time\n",
    "import helpers as pth\n",
    "from numba import njit\n",
    "import talib\n",
    "\n",
    "theme = \"light\"\n",
    "vbt.settings.set_theme(theme)\n",
    "\n",
    "pd.set_option(\"display.max_rows\", 100)\n",
    "pd.set_option(\"display.max_columns\", 20)\n",
    "# plt.rcParams[\"axes.grid\"] = True\n",
    "plt.rcParams[\"figure.figsize\"] = (12, 7)\n",
    "plt.rcParams[\"axes.formatter.useoffset\"] = False\n",
    "plt.rcParams[\"axes.formatter.limits\"] = [-1000000000, 1000000000]\n",
    "plt.style.use(\"classic\" if theme == \"light\" else \"dark_background\")\n",
    "\n",
    "if platform.system().lower() == \"windows\":\n",
    "    base_data_path = \"H:\\\\phitech-data\\\\01_raw\"\n",
    "else:\n",
    "    from core_chains.simple.llm import make_Q_chain\n",
    "\n",
    "    base_data_path = \"../../phitech-data/01_raw\"\n",
    "    load_dotenv(\"../../sandatasci-core/credentials\")\n",
    "    Q = make_Q_chain(\"gpt-4o-instance1\", __vsc_ipynb_file__)"
   ]
  },
  {
   "cell_type": "code",
   "execution_count": 2,
   "id": "66d01b62",
   "metadata": {},
   "outputs": [
    {
     "data": {
      "text/html": [
       "<style>\n",
       ".dataframe {\n",
       "    font-size: 9pt; /* Adjust font size as needed */\n",
       "}\n",
       "</style>\n"
      ],
      "text/plain": [
       "<IPython.core.display.HTML object>"
      ]
     },
     "metadata": {},
     "output_type": "display_data"
    }
   ],
   "source": [
    "%%html\n",
    "<style>\n",
    ".dataframe {\n",
    "    font-size: 9pt; /* Adjust font size as needed */\n",
    "}\n",
    "</style>"
   ]
  },
  {
   "cell_type": "code",
   "execution_count": 3,
   "id": "267c3e1b",
   "metadata": {},
   "outputs": [
    {
     "name": "stderr",
     "output_type": "stream",
     "text": [
      "c:\\Users\\spask\\miniconda3\\Lib\\site-packages\\vectorbtpro\\data\\base.py:1728: VBTWarning: Symbols have mismatching index. Setting missing data points to NaN.\n"
     ]
    },
    {
     "data": {
      "text/plain": [
       "<helpers.SierraChartData at 0x28f97c1f500>"
      ]
     },
     "execution_count": 3,
     "metadata": {},
     "output_type": "execute_result"
    }
   ],
   "source": [
    "symbols = [\"MES\", \"6B\"]\n",
    "df = pth.SierraChartData.ffill(\n",
    "    pth.SierraChartData.pull(\n",
    "        symbols,\n",
    "        timeframe=\"1min\",\n",
    "        start=\"2024-11-01\",\n",
    "        end=\"2024-12-01\",\n",
    "    )\n",
    ")\n",
    "df"
   ]
  },
  {
   "cell_type": "code",
   "execution_count": 4,
   "id": "e4ad9429",
   "metadata": {},
   "outputs": [
    {
     "data": {
      "application/vnd.jupyter.widget-view+json": {
       "model_id": "1d32fc2112fe416a96e82dbd92ec47b6",
       "version_major": 2,
       "version_minor": 0
      },
      "text/plain": [
       "FigureWidget({\n",
       "    'data': [{'name': 'close',\n",
       "              'showlegend': True,\n",
       "              'type': 'scatter',\n",
       "              'uid': '8ae274f8-d8a5-44cf-bcac-b9472cc2be46',\n",
       "              'x': array([datetime.datetime(2024, 11, 1, 0, 0, tzinfo=datetime.timezone.utc),\n",
       "                          datetime.datetime(2024, 11, 1, 0, 1, tzinfo=datetime.timezone.utc),\n",
       "                          datetime.datetime(2024, 11, 1, 0, 2, tzinfo=datetime.timezone.utc), ...,\n",
       "                          datetime.datetime(2024, 12, 1, 23, 57, tzinfo=datetime.timezone.utc),\n",
       "                          datetime.datetime(2024, 12, 1, 23, 58, tzinfo=datetime.timezone.utc),\n",
       "                          datetime.datetime(2024, 12, 1, 23, 59, tzinfo=datetime.timezone.utc)],\n",
       "                         dtype=object),\n",
       "              'y': array([5808.5 , 5808.75, 5808.5 , ..., 6115.75, 6116.  , 6115.75])}],\n",
       "    'layout': {'height': 350,\n",
       "               'legend': {'orientation': 'h',\n",
       "                          'traceorder': 'normal',\n",
       "                          'x': 1,\n",
       "                          'xanchor': 'right',\n",
       "                          'y': 1.02,\n",
       "                          'yanchor': 'bottom'},\n",
       "               'margin': {'b': 30, 'l': 30, 'r': 30, 't': 30},\n",
       "               'template': '...',\n",
       "               'width': 700}\n",
       "})"
      ]
     },
     "execution_count": 4,
     "metadata": {},
     "output_type": "execute_result"
    }
   ],
   "source": [
    "close = df.data[\"MES\"].close\n",
    "close.vbt.plot()"
   ]
  },
  {
   "cell_type": "markdown",
   "id": "deb3b5d8",
   "metadata": {},
   "source": [
    "### Portfolio"
   ]
  },
  {
   "cell_type": "markdown",
   "id": "54dfb4e5",
   "metadata": {},
   "source": [
    "#### Buying"
   ]
  },
  {
   "cell_type": "code",
   "execution_count": 5,
   "id": "b0e2f999",
   "metadata": {},
   "outputs": [
    {
     "data": {
      "text/plain": [
       "AccountState(cash=100.0, position=0.0, debt=0.0, locked_cash=0.0, free_cash=100.0)"
      ]
     },
     "execution_count": 5,
     "metadata": {},
     "output_type": "execute_result"
    }
   ],
   "source": [
    "account_state = vbt.pf_enums.AccountState(\n",
    "    cash=100.0,\n",
    "    position=0.0,\n",
    "    debt=0.0,\n",
    "    locked_cash=0.0,\n",
    "    free_cash=100.0,\n",
    ")\n",
    "account_state"
   ]
  },
  {
   "cell_type": "code",
   "execution_count": 8,
   "id": "7cbf65a3",
   "metadata": {},
   "outputs": [
    {
     "data": {
      "text/plain": [
       "(OrderResult(size=1.0, price=15.0, fees=0.0, side=0, status=0, status_info=-1),\n",
       " AccountState(cash=85.0, position=1.0, debt=0.0, locked_cash=0.0, free_cash=85.0))"
      ]
     },
     "execution_count": 8,
     "metadata": {},
     "output_type": "execute_result"
    }
   ],
   "source": [
    "order_res, new_account_state = vbt.pf_nb.buy_nb(\n",
    "    account_state,\n",
    "    size=1.0,\n",
    "    price=15.0,\n",
    ")\n",
    "order_res, new_account_state"
   ]
  },
  {
   "cell_type": "code",
   "execution_count": 21,
   "id": "19285275",
   "metadata": {},
   "outputs": [
    {
     "data": {
      "text/plain": [
       "('Buy', 'Filled')"
      ]
     },
     "execution_count": 21,
     "metadata": {},
     "output_type": "execute_result"
    }
   ],
   "source": [
    "vbt.pf_enums.OrderSide._fields[order_res.side], vbt.pf_enums.OrderStatus._fields[order_res.status]"
   ]
  },
  {
   "cell_type": "code",
   "execution_count": 24,
   "id": "f3fe5e89",
   "metadata": {},
   "outputs": [
    {
     "data": {
      "text/plain": [
       "(OrderResult(size=6.0, price=15.0, fees=0.0, side=0, status=0, status_info=-1),\n",
       " AccountState(cash=10.0, position=6.0, debt=0.0, locked_cash=0.0, free_cash=10.0))"
      ]
     },
     "execution_count": 24,
     "metadata": {},
     "output_type": "execute_result"
    }
   ],
   "source": [
    "order_res, new_account_state = vbt.pf_nb.buy_nb(\n",
    "    account_state,\n",
    "    size=np.inf,\n",
    "    price=15.0,\n",
    "    size_granularity=1,  # disable fractional transactions\n",
    "    allow_partial=False,  # disable partial fills\n",
    ")\n",
    "order_res, new_account_state"
   ]
  },
  {
   "cell_type": "code",
   "execution_count": 39,
   "id": "02151131",
   "metadata": {},
   "outputs": [
    {
     "data": {
      "text/plain": [
       "(OrderResult(size=3.0, price=15.15, fees=0.4545, side=0, status=0, status_info=-1),\n",
       " AccountState(cash=54.095499999999994, position=3.0, debt=0.0, locked_cash=0.0, free_cash=54.095499999999994))"
      ]
     },
     "execution_count": 39,
     "metadata": {},
     "output_type": "execute_result"
    }
   ],
   "source": [
    "order_res, new_account_state = vbt.pf_nb.buy_nb(\n",
    "    account_state,\n",
    "    size=np.inf,\n",
    "    price=15.0,\n",
    "    fees=0.01,\n",
    "    slippage=0.01,\n",
    "    percent=0.5,  # this means -> \"use 50% of the cash available\"\n",
    "    allow_partial=False,\n",
    "    size_granularity=1,\n",
    ")\n",
    "order_res, new_account_state"
   ]
  },
  {
   "cell_type": "code",
   "execution_count": 32,
   "id": "16a431df",
   "metadata": {},
   "outputs": [
    {
     "ename": "ValueError",
     "evalue": "Adjusted order price is above the highest price",
     "output_type": "error",
     "traceback": [
      "\u001b[1;31m---------------------------------------------------------------------------\u001b[0m",
      "\u001b[1;31mValueError\u001b[0m                                Traceback (most recent call last)",
      "Cell \u001b[1;32mIn[32], line 7\u001b[0m\n\u001b[0;32m      1\u001b[0m price_area \u001b[38;5;241m=\u001b[39m vbt\u001b[38;5;241m.\u001b[39mpf_enums\u001b[38;5;241m.\u001b[39mPriceArea(\n\u001b[0;32m      2\u001b[0m     \u001b[38;5;28mopen\u001b[39m\u001b[38;5;241m=\u001b[39m\u001b[38;5;241m10\u001b[39m,\n\u001b[0;32m      3\u001b[0m     high\u001b[38;5;241m=\u001b[39m\u001b[38;5;241m14\u001b[39m,\n\u001b[0;32m      4\u001b[0m     low\u001b[38;5;241m=\u001b[39m\u001b[38;5;241m8\u001b[39m,\n\u001b[0;32m      5\u001b[0m     close\u001b[38;5;241m=\u001b[39m\u001b[38;5;241m12\u001b[39m\n\u001b[0;32m      6\u001b[0m )\n\u001b[1;32m----> 7\u001b[0m order_result, new_account_state \u001b[38;5;241m=\u001b[39m \u001b[43mvbt\u001b[49m\u001b[38;5;241;43m.\u001b[39;49m\u001b[43mpf_nb\u001b[49m\u001b[38;5;241;43m.\u001b[39;49m\u001b[43mbuy_nb\u001b[49m\u001b[43m(\u001b[49m\n\u001b[0;32m      8\u001b[0m \u001b[43m    \u001b[49m\u001b[43maccount_state\u001b[49m\u001b[38;5;241;43m=\u001b[39;49m\u001b[43maccount_state\u001b[49m\u001b[43m,\u001b[49m\n\u001b[0;32m      9\u001b[0m \u001b[43m    \u001b[49m\u001b[43msize\u001b[49m\u001b[38;5;241;43m=\u001b[39;49m\u001b[43mnp\u001b[49m\u001b[38;5;241;43m.\u001b[39;49m\u001b[43minf\u001b[49m\u001b[43m,\u001b[49m\n\u001b[0;32m     10\u001b[0m \u001b[43m    \u001b[49m\u001b[43mprice\u001b[49m\u001b[38;5;241;43m=\u001b[39;49m\u001b[43mnp\u001b[49m\u001b[38;5;241;43m.\u001b[39;49m\u001b[43minf\u001b[49m\u001b[43m,\u001b[49m\u001b[43m  \u001b[49m\u001b[38;5;66;43;03m# this should throw an error !\u001b[39;49;00m\n\u001b[0;32m     11\u001b[0m \u001b[43m    \u001b[49m\u001b[43mprice_area\u001b[49m\u001b[38;5;241;43m=\u001b[39;49m\u001b[43mprice_area\u001b[49m\u001b[43m,\u001b[49m\n\u001b[0;32m     12\u001b[0m \u001b[43m    \u001b[49m\u001b[43mprice_area_vio_mode\u001b[49m\u001b[38;5;241;43m=\u001b[39;49m\u001b[43mvbt\u001b[49m\u001b[38;5;241;43m.\u001b[39;49m\u001b[43mpf_enums\u001b[49m\u001b[38;5;241;43m.\u001b[39;49m\u001b[43mPriceAreaVioMode\u001b[49m\u001b[38;5;241;43m.\u001b[39;49m\u001b[43mError\u001b[49m\n\u001b[0;32m     13\u001b[0m \u001b[43m)\u001b[49m\n",
      "File \u001b[1;32mc:\\Users\\spask\\miniconda3\\Lib\\site-packages\\vectorbtpro\\portfolio\\nb\\core.py:42\u001b[0m, in \u001b[0;36mcheck_adj_price_nb\u001b[1;34m()\u001b[0m\n\u001b[0;32m     40\u001b[0m \u001b[38;5;28;01mif\u001b[39;00m adj_price \u001b[38;5;241m>\u001b[39m price_area\u001b[38;5;241m.\u001b[39mhigh:\n\u001b[0;32m     41\u001b[0m     \u001b[38;5;28;01mif\u001b[39;00m price_area_vio_mode \u001b[38;5;241m==\u001b[39m PriceAreaVioMode\u001b[38;5;241m.\u001b[39mError:\n\u001b[1;32m---> 42\u001b[0m         \u001b[38;5;28;01mraise\u001b[39;00m \u001b[38;5;167;01mValueError\u001b[39;00m(\u001b[38;5;124m\"\u001b[39m\u001b[38;5;124mAdjusted order price is above the highest price\u001b[39m\u001b[38;5;124m\"\u001b[39m)\n\u001b[0;32m     43\u001b[0m     \u001b[38;5;28;01melif\u001b[39;00m price_area_vio_mode \u001b[38;5;241m==\u001b[39m PriceAreaVioMode\u001b[38;5;241m.\u001b[39mCap:\n\u001b[0;32m     44\u001b[0m         adj_price \u001b[38;5;241m=\u001b[39m price_area\u001b[38;5;241m.\u001b[39mhigh\n",
      "\u001b[1;31mValueError\u001b[0m: Adjusted order price is above the highest price"
     ]
    }
   ],
   "source": [
    "price_area = vbt.pf_enums.PriceArea(\n",
    "    open=10,\n",
    "    high=14,\n",
    "    low=8,\n",
    "    close=12\n",
    ")\n",
    "order_result, new_account_state = vbt.pf_nb.buy_nb(\n",
    "    account_state=account_state,\n",
    "    size=np.inf,\n",
    "    price=np.inf,  # this should throw an error !\n",
    "    price_area=price_area,\n",
    "    price_area_vio_mode=vbt.pf_enums.PriceAreaVioMode.Error\n",
    ")"
   ]
  },
  {
   "cell_type": "markdown",
   "id": "649a43aa",
   "metadata": {},
   "source": [
    "#### Selling"
   ]
  },
  {
   "cell_type": "code",
   "execution_count": 34,
   "id": "715560db",
   "metadata": {},
   "outputs": [
    {
     "data": {
      "text/plain": [
       "(OrderResult(size=2.0, price=15.0, fees=0.0, side=1, status=0, status_info=-1),\n",
       " AccountState(cash=30.0, position=8.0, debt=0.0, locked_cash=0.0, free_cash=30.0))"
      ]
     },
     "execution_count": 34,
     "metadata": {},
     "output_type": "execute_result"
    }
   ],
   "source": [
    "account_state = vbt.pf_enums.AccountState(\n",
    "    cash=0.0,\n",
    "    position=10.0,\n",
    "    debt=0.0,\n",
    "    locked_cash=0.0,\n",
    "    free_cash=0.0\n",
    ")\n",
    "order_result, new_account_state = vbt.pf_nb.sell_nb(\n",
    "    account_state=account_state,\n",
    "    size=2.0,\n",
    "    price=15.0\n",
    ")\n",
    "order_result, new_account_state"
   ]
  },
  {
   "cell_type": "code",
   "execution_count": 63,
   "id": "b7b23105",
   "metadata": {},
   "outputs": [
    {
     "data": {
      "text/plain": [
       "(OrderResult(size=6.0, price=15.0, fees=0.0, side=1, status=0, status_info=-1),\n",
       " AccountState(cash=190.0, position=-6.0, debt=90.0, locked_cash=90.0, free_cash=10.0))"
      ]
     },
     "execution_count": 63,
     "metadata": {},
     "output_type": "execute_result"
    }
   ],
   "source": [
    "# short!\n",
    "account_state = vbt.pf_enums.AccountState(\n",
    "    cash=100.0,\n",
    "    position=0.0,\n",
    "    debt=0.0,\n",
    "    locked_cash=0.0,\n",
    "    free_cash=100.0\n",
    ")\n",
    "order_result, new_account_state = vbt.pf_nb.sell_nb(\n",
    "    account_state=account_state, \n",
    "    size=np.inf,  \n",
    "    price=15.0,\n",
    "    allow_partial=False,\n",
    "    size_granularity=1,\n",
    ")\n",
    "order_result, new_account_state"
   ]
  },
  {
   "cell_type": "code",
   "execution_count": 64,
   "id": "47c20c71",
   "metadata": {},
   "outputs": [
    {
     "data": {
      "text/plain": [
       "(OrderResult(size=7.0, price=15.0, fees=0.0, side=0, status=0, status_info=-1),\n",
       " AccountState(cash=85.0, position=1.0, debt=0.0, locked_cash=0.0, free_cash=85.0))"
      ]
     },
     "execution_count": 64,
     "metadata": {},
     "output_type": "execute_result"
    }
   ],
   "source": [
    "# reverse position\n",
    "order_result, new_account_state = vbt.pf_nb.buy_nb(\n",
    "    account_state=new_account_state, \n",
    "    size=7,  \n",
    "    price=15.0,\n",
    "    allow_partial=False,\n",
    "    size_granularity=1,\n",
    ")\n",
    "order_result, new_account_state"
   ]
  },
  {
   "cell_type": "markdown",
   "id": "7054a7fe",
   "metadata": {},
   "source": [
    "#### Short with profit"
   ]
  },
  {
   "cell_type": "code",
   "execution_count": 109,
   "id": "0de0e774",
   "metadata": {},
   "outputs": [
    {
     "data": {
      "text/plain": [
       "(OrderResult(size=2.0, price=15.0, fees=0.0, side=1, status=0, status_info=-1),\n",
       " AccountState(cash=130.0, position=-2.0, debt=30.0, locked_cash=30.0, free_cash=70.0))"
      ]
     },
     "execution_count": 109,
     "metadata": {},
     "output_type": "execute_result"
    }
   ],
   "source": [
    "# short!\n",
    "account_state = vbt.pf_enums.AccountState(\n",
    "    cash=100.0,\n",
    "    position=0.0,\n",
    "    debt=0.0,\n",
    "    locked_cash=0.0,\n",
    "    free_cash=100.0\n",
    ")\n",
    "order_result, new_account_state = vbt.pf_nb.sell_nb(\n",
    "    account_state=account_state, \n",
    "    size=2,  \n",
    "    price=15.0,\n",
    "    allow_partial=False,\n",
    "    size_granularity=1,\n",
    ")\n",
    "order_result, new_account_state"
   ]
  },
  {
   "cell_type": "code",
   "execution_count": 110,
   "id": "b4e6930e",
   "metadata": {},
   "outputs": [
    {
     "name": "stdout",
     "output_type": "stream",
     "text": [
      "moneyyy -> 110.0!\n"
     ]
    },
    {
     "data": {
      "text/plain": [
       "(OrderResult(size=2.0, price=10.0, fees=0.0, side=0, status=0, status_info=-1),\n",
       " AccountState(cash=110.0, position=0.0, debt=0.0, locked_cash=0.0, free_cash=110.0))"
      ]
     },
     "execution_count": 110,
     "metadata": {},
     "output_type": "execute_result"
    }
   ],
   "source": [
    "# cover the short\n",
    "order_result, new_account_state = vbt.pf_nb.buy_nb(\n",
    "    account_state=new_account_state, \n",
    "    size=order_result.size,\n",
    "    price=10.0,\n",
    "    allow_partial=False,\n",
    "    size_granularity=1,\n",
    ")\n",
    "\n",
    "print(f\"moneyyy -> {new_account_state.free_cash}!\")\n",
    "order_result, new_account_state"
   ]
  },
  {
   "cell_type": "markdown",
   "id": "97dc05da",
   "metadata": {},
   "source": [
    "#### Closing positions"
   ]
  },
  {
   "cell_type": "code",
   "execution_count": 112,
   "id": "06bba5a1",
   "metadata": {},
   "outputs": [
    {
     "data": {
      "text/plain": [
       "(OrderResult(size=10.0, price=15.0, fees=0.0, side=1, status=0, status_info=-1),\n",
       " AccountState(cash=110.0, position=0.0, debt=0.0, locked_cash=0.0, free_cash=110.0))"
      ]
     },
     "execution_count": 112,
     "metadata": {},
     "output_type": "execute_result"
    }
   ],
   "source": [
    "# long poisition\n",
    "account_state = vbt.pf_enums.AccountState(\n",
    "    cash=0.0,\n",
    "    position=10.0,\n",
    "    debt=0.0,\n",
    "    locked_cash=0.0,\n",
    "    free_cash=100.0\n",
    ")\n",
    "order_result, new_account_statem = vbt.pf_nb.long_sell_nb(\n",
    "    account_state,\n",
    "    size=np.inf,\n",
    "    price=15.0,\n",
    ")\n",
    "order_result, new_account_state"
   ]
  },
  {
   "cell_type": "markdown",
   "id": "25b14f4c",
   "metadata": {},
   "source": [
    "#### Orders"
   ]
  },
  {
   "cell_type": "code",
   "execution_count": 155,
   "id": "99d7737a",
   "metadata": {},
   "outputs": [
    {
     "name": "stdout",
     "output_type": "stream",
     "text": [
      "Order(\n",
      "    size=1.0,\n",
      "    price=15.0,\n",
      "    size_type=0,\n",
      "    direction=2,\n",
      "    fees=0.0,\n",
      "    fixed_fees=0.0,\n",
      "    slippage=0.0,\n",
      "    min_size=np.nan,\n",
      "    max_size=np.nan,\n",
      "    size_granularity=np.nan,\n",
      "    leverage=1.0,\n",
      "    leverage_mode=0,\n",
      "    reject_prob=0.0,\n",
      "    price_area_vio_mode=0,\n",
      "    allow_partial=True,\n",
      "    raise_reject=False,\n",
      "    log=False\n",
      ")\n",
      "---\n",
      "OrderResult(\n",
      "    size=1.0,\n",
      "    price=15.0,\n",
      "    fees=0.0,\n",
      "    side=0,\n",
      "    status=0,\n",
      "    status_info=-1\n",
      ")\n",
      "ExecState(\n",
      "    cash=85.0,\n",
      "    position=1.0,\n",
      "    debt=0.0,\n",
      "    locked_cash=0.0,\n",
      "    free_cash=85.0,\n",
      "    val_price=15.0,\n",
      "    value=100.0\n",
      ")\n"
     ]
    }
   ],
   "source": [
    "exec_state = vbt.pf_enums.ExecState(\n",
    "    cash=100.0,\n",
    "    position=0.0,\n",
    "    debt=0.0,\n",
    "    locked_cash=0.0,\n",
    "    free_cash=100.0,\n",
    "    val_price=15.0,\n",
    "    value=100.0\n",
    ")\n",
    "\n",
    "order = vbt.pf_nb.order_nb(1, 15, direction=2)\n",
    "vbt.pprint(order)\n",
    "\n",
    "print('---')\n",
    "order_result, new_exec_state = vbt.pf_nb.execute_order_nb(exec_state, order)\n",
    "vbt.pprint(order_result)\n",
    "vbt.pprint(new_exec_state)"
   ]
  },
  {
   "cell_type": "code",
   "execution_count": 156,
   "id": "80cbb657",
   "metadata": {},
   "outputs": [
    {
     "name": "stdout",
     "output_type": "stream",
     "text": [
      "---\n",
      "Order(\n",
      "    size=1.0,\n",
      "    price=15.0,\n",
      "    size_type=0,\n",
      "    direction=1,\n",
      "    fees=0.0,\n",
      "    fixed_fees=0.0,\n",
      "    slippage=0.0,\n",
      "    min_size=np.nan,\n",
      "    max_size=np.nan,\n",
      "    size_granularity=np.nan,\n",
      "    leverage=1.0,\n",
      "    leverage_mode=0,\n",
      "    reject_prob=0.0,\n",
      "    price_area_vio_mode=0,\n",
      "    allow_partial=True,\n",
      "    raise_reject=False,\n",
      "    log=False\n",
      ")\n",
      "---\n",
      "OrderResult(\n",
      "    size=1.0,\n",
      "    price=15.0,\n",
      "    fees=0.0,\n",
      "    side=1,\n",
      "    status=0,\n",
      "    status_info=-1\n",
      ")\n",
      "ExecState(\n",
      "    cash=100.0,\n",
      "    position=0.0,\n",
      "    debt=0.0,\n",
      "    locked_cash=0.0,\n",
      "    free_cash=100.0,\n",
      "    val_price=15.0,\n",
      "    value=100.0\n",
      ")\n"
     ]
    }
   ],
   "source": [
    "print('---')\n",
    "order = vbt.pf_nb.order_nb(1, 15, direction=1)\n",
    "vbt.pprint(order)\n",
    "\n",
    "print('---')\n",
    "order_result, new_exec_state = vbt.pf_nb.execute_order_nb(new_exec_state, order)\n",
    "vbt.pprint(order_result)\n",
    "vbt.pprint(new_exec_state)"
   ]
  },
  {
   "cell_type": "code",
   "execution_count": null,
   "id": "9be9eb95",
   "metadata": {},
   "outputs": [],
   "source": []
  }
 ],
 "metadata": {
  "kernelspec": {
   "display_name": "base",
   "language": "python",
   "name": "python3"
  },
  "language_info": {
   "codemirror_mode": {
    "name": "ipython",
    "version": 3
   },
   "file_extension": ".py",
   "mimetype": "text/x-python",
   "name": "python",
   "nbconvert_exporter": "python",
   "pygments_lexer": "ipython3",
   "version": "3.12.3"
  }
 },
 "nbformat": 4,
 "nbformat_minor": 5
}
