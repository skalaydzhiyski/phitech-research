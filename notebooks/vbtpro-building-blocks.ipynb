{
 "cells": [
  {
   "cell_type": "code",
   "execution_count": 24,
   "id": "62b375f6-cbbd-4f4f-9aca-4dcbce8e56cc",
   "metadata": {},
   "outputs": [],
   "source": [
    "import sys\n",
    "\n",
    "sys.path.append(\"../\")\n",
    "\n",
    "import pandas as pd\n",
    "import numpy as np\n",
    "import datetime\n",
    "import os\n",
    "from pprint import pprint\n",
    "import matplotlib.pyplot as plt\n",
    "import time\n",
    "import vectorbtpro as vbt\n",
    "from time import time\n",
    "import helpers as pth\n",
    "import platform\n",
    "from dotenv import load_dotenv\n",
    "import scipy.stats as stats\n",
    "import time\n",
    "\n",
    "pd.set_option(\"display.max_rows\", 100)\n",
    "pd.set_option(\"display.max_columns\", 20)\n",
    "\n",
    "plt.style.use(\"classic\")\n",
    "# plt.rcParams[\"axes.grid\"] = True\n",
    "plt.rcParams[\"figure.figsize\"] = (10, 6)\n",
    "plt.rcParams[\"axes.formatter.useoffset\"] = False\n",
    "plt.rcParams[\"axes.formatter.limits\"] = [-1000000000, 1000000000]\n",
    "\n",
    "\n",
    "if platform.system().lower() == \"windows\":\n",
    "    base_data_path = \"H:\\\\phitech-data\\\\01_raw\"\n",
    "else:\n",
    "    from core_chains.simple.llm import make_Q_chain\n",
    "\n",
    "    base_data_path = \"../../phitech-data/01_raw\"\n",
    "    load_dotenv(\"../../sandatasci-core/credentials\")\n",
    "    Q = make_Q_chain(\"gpt-4o-instance1\", __vsc_ipynb_file__)"
   ]
  },
  {
   "cell_type": "code",
   "execution_count": 25,
   "id": "66d01b62",
   "metadata": {},
   "outputs": [
    {
     "data": {
      "text/html": [
       "<style>\n",
       ".dataframe {\n",
       "    font-size: 9pt; /* Adjust font size as needed */\n",
       "}\n",
       "</style>\n"
      ],
      "text/plain": [
       "<IPython.core.display.HTML object>"
      ]
     },
     "metadata": {},
     "output_type": "display_data"
    }
   ],
   "source": [
    "%%html\n",
    "<style>\n",
    ".dataframe {\n",
    "    font-size: 9pt; /* Adjust font size as needed */\n",
    "}\n",
    "</style>"
   ]
  },
  {
   "cell_type": "code",
   "execution_count": 26,
   "id": "267c3e1b",
   "metadata": {},
   "outputs": [
    {
     "data": {
      "text/plain": [
       "dict_keys(['6B', 'MES'])"
      ]
     },
     "execution_count": 26,
     "metadata": {},
     "output_type": "execute_result"
    }
   ],
   "source": [
    "I = pth.load_instruments(base_path=base_data_path)\n",
    "I.keys()"
   ]
  },
  {
   "cell_type": "code",
   "execution_count": 27,
   "id": "d25a10c8",
   "metadata": {},
   "outputs": [
    {
     "data": {
      "text/plain": [
       "array([[  1.2708,   1.2715,   1.2705, ...,   1.271 , 274.    , 269.    ],\n",
       "       [  1.2706,   1.2707,   1.2706, ...,   1.2706,  18.    ,  55.    ],\n",
       "       [  1.2707,   1.2707,   1.2706, ...,   1.2706,  58.    ,  15.    ],\n",
       "       ...,\n",
       "       [  1.2928,   1.2928,   1.2927, ...,   1.2927,  13.    ,  25.    ],\n",
       "       [  1.2928,   1.2929,   1.2928, ...,   1.2929,   1.    ,  39.    ],\n",
       "       [  1.2929,   1.2929,   1.2929, ...,   1.2929,  17.    ,  13.    ]])"
      ]
     },
     "execution_count": 27,
     "metadata": {},
     "output_type": "execute_result"
    }
   ],
   "source": [
    "I[\"6B\"].vbt.to_2d_array()"
   ]
  },
  {
   "cell_type": "code",
   "execution_count": 28,
   "id": "6019f4da",
   "metadata": {},
   "outputs": [
    {
     "data": {
      "application/vnd.jupyter.widget-view+json": {
       "model_id": "5c87d7fddbe94ac5a30d816fb4d6b693",
       "version_major": 2,
       "version_minor": 0
      },
      "text/plain": [
       "FigureWidget({\n",
       "    'data': [{'name': 'close',\n",
       "              'showlegend': True,\n",
       "              'type': 'scatter',\n",
       "              'uid': 'fa21356a-a368-4c8e-afd4-04998978e454',\n",
       "              'x': array([datetime.datetime(2024, 5, 19, 23, 0),\n",
       "                          datetime.datetime(2024, 5, 19, 23, 1),\n",
       "                          datetime.datetime(2024, 5, 19, 23, 2), ...,\n",
       "                          datetime.datetime(2024, 5, 20, 18, 17),\n",
       "                          datetime.datetime(2024, 5, 20, 18, 18),\n",
       "                          datetime.datetime(2024, 5, 20, 18, 19)], dtype=object),\n",
       "              'y': array([1.2706, 1.2707, 1.2707, ..., 1.2727, 1.2726, 1.2724])}],\n",
       "    'layout': {'height': 350,\n",
       "               'legend': {'orientation': 'h',\n",
       "                          'traceorder': 'normal',\n",
       "                          'x': 1,\n",
       "                          'xanchor': 'right',\n",
       "                          'y': 1.02,\n",
       "                          'yanchor': 'bottom'},\n",
       "               'margin': {'b': 30, 'l': 30, 'r': 30, 't': 30},\n",
       "               'template': '...',\n",
       "               'width': 700}\n",
       "})"
      ]
     },
     "execution_count": 28,
     "metadata": {},
     "output_type": "execute_result"
    }
   ],
   "source": [
    "I[\"6B\"].iloc[:1024].close.vbt.plot()"
   ]
  },
  {
   "cell_type": "code",
   "execution_count": 29,
   "id": "5872f2f9",
   "metadata": {},
   "outputs": [
    {
     "data": {
      "text/html": [
       "<div>\n",
       "<style scoped>\n",
       "    .dataframe tbody tr th:only-of-type {\n",
       "        vertical-align: middle;\n",
       "    }\n",
       "\n",
       "    .dataframe tbody tr th {\n",
       "        vertical-align: top;\n",
       "    }\n",
       "\n",
       "    .dataframe thead th {\n",
       "        text-align: right;\n",
       "    }\n",
       "</style>\n",
       "<table border=\"1\" class=\"dataframe\">\n",
       "  <thead>\n",
       "    <tr style=\"text-align: right;\">\n",
       "      <th></th>\n",
       "      <th>Drawdown Id</th>\n",
       "      <th>Column</th>\n",
       "      <th>Start Index</th>\n",
       "      <th>Valley Index</th>\n",
       "      <th>End Index</th>\n",
       "      <th>Start Value</th>\n",
       "      <th>Valley Value</th>\n",
       "      <th>End Value</th>\n",
       "      <th>Status</th>\n",
       "    </tr>\n",
       "  </thead>\n",
       "  <tbody>\n",
       "    <tr>\n",
       "      <th>0</th>\n",
       "      <td>0</td>\n",
       "      <td>close</td>\n",
       "      <td>2024-05-19 23:05:00</td>\n",
       "      <td>2024-05-19 23:07:00</td>\n",
       "      <td>2024-05-19 23:26:00</td>\n",
       "      <td>1.2708</td>\n",
       "      <td>1.2706</td>\n",
       "      <td>1.2708</td>\n",
       "      <td>Recovered</td>\n",
       "    </tr>\n",
       "    <tr>\n",
       "      <th>1</th>\n",
       "      <td>1</td>\n",
       "      <td>close</td>\n",
       "      <td>2024-05-19 23:29:00</td>\n",
       "      <td>2024-05-20 00:00:00</td>\n",
       "      <td>2024-05-20 00:04:00</td>\n",
       "      <td>1.2708</td>\n",
       "      <td>1.2705</td>\n",
       "      <td>1.2708</td>\n",
       "      <td>Recovered</td>\n",
       "    </tr>\n",
       "    <tr>\n",
       "      <th>2</th>\n",
       "      <td>2</td>\n",
       "      <td>close</td>\n",
       "      <td>2024-05-20 00:14:00</td>\n",
       "      <td>2024-05-20 00:15:00</td>\n",
       "      <td>2024-05-20 00:17:00</td>\n",
       "      <td>1.2709</td>\n",
       "      <td>1.2708</td>\n",
       "      <td>1.2709</td>\n",
       "      <td>Recovered</td>\n",
       "    </tr>\n",
       "    <tr>\n",
       "      <th>3</th>\n",
       "      <td>3</td>\n",
       "      <td>close</td>\n",
       "      <td>2024-05-20 00:22:00</td>\n",
       "      <td>2024-05-20 00:25:00</td>\n",
       "      <td>2024-05-20 00:27:00</td>\n",
       "      <td>1.2710</td>\n",
       "      <td>1.2709</td>\n",
       "      <td>1.2710</td>\n",
       "      <td>Recovered</td>\n",
       "    </tr>\n",
       "    <tr>\n",
       "      <th>4</th>\n",
       "      <td>4</td>\n",
       "      <td>close</td>\n",
       "      <td>2024-05-20 00:31:00</td>\n",
       "      <td>2024-05-20 00:33:00</td>\n",
       "      <td>2024-05-20 00:38:00</td>\n",
       "      <td>1.2712</td>\n",
       "      <td>1.2711</td>\n",
       "      <td>1.2712</td>\n",
       "      <td>Recovered</td>\n",
       "    </tr>\n",
       "  </tbody>\n",
       "</table>\n",
       "</div>"
      ],
      "text/plain": [
       "   Drawdown Id Column         Start Index        Valley Index  \\\n",
       "0            0  close 2024-05-19 23:05:00 2024-05-19 23:07:00   \n",
       "1            1  close 2024-05-19 23:29:00 2024-05-20 00:00:00   \n",
       "2            2  close 2024-05-20 00:14:00 2024-05-20 00:15:00   \n",
       "3            3  close 2024-05-20 00:22:00 2024-05-20 00:25:00   \n",
       "4            4  close 2024-05-20 00:31:00 2024-05-20 00:33:00   \n",
       "\n",
       "            End Index  Start Value  Valley Value  End Value     Status  \n",
       "0 2024-05-19 23:26:00       1.2708        1.2706     1.2708  Recovered  \n",
       "1 2024-05-20 00:04:00       1.2708        1.2705     1.2708  Recovered  \n",
       "2 2024-05-20 00:17:00       1.2709        1.2708     1.2709  Recovered  \n",
       "3 2024-05-20 00:27:00       1.2710        1.2709     1.2710  Recovered  \n",
       "4 2024-05-20 00:38:00       1.2712        1.2711     1.2712  Recovered  "
      ]
     },
     "execution_count": 29,
     "metadata": {},
     "output_type": "execute_result"
    }
   ],
   "source": [
    "ds = I[\"6B\"].close.iloc[:1024].vbt.drawdowns\n",
    "ds.readable.head()"
   ]
  },
  {
   "cell_type": "code",
   "execution_count": 30,
   "id": "f63d879b",
   "metadata": {},
   "outputs": [
    {
     "data": {
      "text/plain": [
       "array([1, 1, 1, 1, 1, 1, 1, 1, 1, 1, 1, 1, 1, 1, 1, 1, 1, 1, 0])"
      ]
     },
     "execution_count": 30,
     "metadata": {},
     "output_type": "execute_result"
    }
   ],
   "source": [
    "ds.status.values"
   ]
  },
  {
   "cell_type": "code",
   "execution_count": 52,
   "id": "ad36532f",
   "metadata": {},
   "outputs": [
    {
     "data": {
      "text/plain": [
       "array(['Recovered', 'Recovered', 'Recovered', 'Recovered', 'Recovered',\n",
       "       'Recovered', 'Recovered', 'Recovered', 'Recovered', 'Recovered',\n",
       "       'Recovered', 'Recovered', 'Recovered', 'Recovered', 'Recovered',\n",
       "       'Recovered', 'Recovered', 'Recovered', 'Active'], dtype=object)"
      ]
     },
     "execution_count": 52,
     "metadata": {},
     "output_type": "execute_result"
    }
   ],
   "source": [
    "ds.get_apply_mapping_arr(\"status\")"
   ]
  },
  {
   "cell_type": "code",
   "execution_count": 38,
   "id": "8758d4b8",
   "metadata": {},
   "outputs": [
    {
     "data": {
      "text/plain": [
       "<vectorbtpro.records.mapped_array.MappedArray at 0x1f586323e90>"
      ]
     },
     "execution_count": 38,
     "metadata": {},
     "output_type": "execute_result"
    }
   ],
   "source": [
    "ds.drawdown"
   ]
  },
  {
   "cell_type": "code",
   "execution_count": 44,
   "id": "b4085e1b",
   "metadata": {},
   "outputs": [
    {
     "data": {
      "text/plain": [
       "array([-1.57381177e-04, -2.36071766e-04, -7.86843969e-05, -7.86782061e-05,\n",
       "       -7.86658276e-05, -8.65256037e-04, -6.29277118e-04, -7.86596397e-05,\n",
       "       -7.86472670e-05, -1.57294534e-03, -8.64983880e-04, -7.86225332e-05,\n",
       "       -7.86163522e-05, -1.57232704e-04, -7.86101722e-05, -7.85978150e-05,\n",
       "       -7.85916378e-05, -7.85854617e-05, -4.71327573e-04])"
      ]
     },
     "execution_count": 44,
     "metadata": {},
     "output_type": "execute_result"
    }
   ],
   "source": [
    "ds.drawdown.values"
   ]
  },
  {
   "cell_type": "code",
   "execution_count": 48,
   "id": "c81cf46d",
   "metadata": {},
   "outputs": [
    {
     "data": {
      "text/plain": [
       "Start Index       2024-05-19 23:00:00\n",
       "End Index         2024-05-20 18:19:00\n",
       "Total Duration        0 days 17:04:00\n",
       "Count                              19\n",
       "Mean                        -0.000306\n",
       "Std                          0.000407\n",
       "Min                         -0.001573\n",
       "Median                      -0.000079\n",
       "Max                         -0.000079\n",
       "Min Index         2024-05-20 15:31:00\n",
       "Max Index         2024-05-20 18:07:00\n",
       "Name: close, dtype: object"
      ]
     },
     "execution_count": 48,
     "metadata": {},
     "output_type": "execute_result"
    }
   ],
   "source": [
    "ds.drawdown.stats(column='close')"
   ]
  },
  {
   "cell_type": "code",
   "execution_count": 52,
   "id": "bd9b002c",
   "metadata": {},
   "outputs": [
    {
     "data": {
      "text/plain": [
       "<Axes: xlabel='timestamp'>"
      ]
     },
     "execution_count": 52,
     "metadata": {},
     "output_type": "execute_result"
    },
    {
     "data": {
      "image/png": "[encoded data removed]",
      "text/plain": [
       "<Figure size 800x480 with 1 Axes>"
      ]
     },
     "metadata": {},
     "output_type": "display_data"
    }
   ],
   "source": [
    "ds.drawdown.to_pd().fillna(0).plot()"
   ]
  }
 ],
 "metadata": {
  "kernelspec": {
   "display_name": "base",
   "language": "python",
   "name": "python3"
  },
  "language_info": {
   "codemirror_mode": {
    "name": "ipython",
    "version": 3
   },
   "file_extension": ".py",
   "mimetype": "text/x-python",
   "name": "python",
   "nbconvert_exporter": "python",
   "pygments_lexer": "ipython3",
   "version": "3.12.9"
  }
 },
 "nbformat": 4,
 "nbformat_minor": 5
}
