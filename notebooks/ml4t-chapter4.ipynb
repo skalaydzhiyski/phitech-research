{
 "cells": [
  {
   "cell_type": "code",
   "execution_count": 1,
   "id": "62b375f6-cbbd-4f4f-9aca-4dcbce8e56cc",
   "metadata": {},
   "outputs": [
    {
     "name": "stderr",
     "output_type": "stream",
     "text": [
      "/Users/e1211913/miniconda3/envs/trading/lib/python3.12/site-packages/telegram/utils/request.py:54: UserWarning: python-telegram-bot wasn't properly installed. Please refer to README.rst on how to properly install.\n",
      "  warnings.warn(\n"
     ]
    }
   ],
   "source": [
    "import sys\n",
    "\n",
    "sys.path.append(\"../\")\n",
    "\n",
    "import pandas as pd\n",
    "import numpy as np\n",
    "import datetime\n",
    "import os\n",
    "from pprint import pprint\n",
    "import matplotlib.pyplot as plt\n",
    "import time\n",
    "import vectorbt as vbt\n",
    "from time import time\n",
    "import helpers as pth\n",
    "\n",
    "pd.set_option(\"display.max_rows\", 100)\n",
    "pd.set_option(\"display.max_columns\", 20)\n",
    "\n",
    "plt.style.use(\"classic\")\n",
    "plt.rcParams[\"axes.grid\"] = True\n",
    "plt.rcParams[\"figure.figsize\"] = (10, 6)\n",
    "plt.rcParams[\"axes.formatter.useoffset\"] = False\n",
    "plt.rcParams[\"axes.formatter.limits\"] = [-1000000000, 1000000000]"
   ]
  },
  {
   "cell_type": "code",
   "execution_count": 2,
   "id": "7efce6f9",
   "metadata": {},
   "outputs": [],
   "source": [
    "# TODO: explain and revise the Information Ratio\n",
    "# TODO: add examples of the IR that show 100% predictive power 0% predictive power and something in between\n",
    "# TODO: perform t-tests for the 3 examples above."
   ]
  }
 ],
 "metadata": {
  "kernelspec": {
   "display_name": "Python 3 (ipykernel)",
   "language": "python",
   "name": "python3"
  },
  "language_info": {
   "codemirror_mode": {
    "name": "ipython",
    "version": 3
   },
   "file_extension": ".py",
   "mimetype": "text/x-python",
   "name": "python",
   "nbconvert_exporter": "python",
   "pygments_lexer": "ipython3",
   "version": "3.12.9"
  }
 },
 "nbformat": 4,
 "nbformat_minor": 5
}
