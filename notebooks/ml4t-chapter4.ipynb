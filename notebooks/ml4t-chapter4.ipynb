{
 "cells": [
  {
   "cell_type": "code",
   "execution_count": 1,
   "id": "62b375f6-cbbd-4f4f-9aca-4dcbce8e56cc",
   "metadata": {},
   "outputs": [
    {
     "name": "stderr",
     "output_type": "stream",
     "text": [
      "/Users/e1211913/miniconda3/envs/trading/lib/python3.12/site-packages/telegram/utils/request.py:54: UserWarning: python-telegram-bot wasn't properly installed. Please refer to README.rst on how to properly install.\n",
      "  warnings.warn(\n"
     ]
    }
   ],
   "source": [
    "import sys\n",
    "\n",
    "sys.path.append(\"../\")\n",
    "\n",
    "import pandas as pd\n",
    "import numpy as np\n",
    "import datetime\n",
    "import os\n",
    "from pprint import pprint\n",
    "import matplotlib.pyplot as plt\n",
    "import time\n",
    "import vectorbt as vbt\n",
    "from time import time\n",
    "import helpers as pth\n",
    "\n",
    "pd.set_option(\"display.max_rows\", 100)\n",
    "pd.set_option(\"display.max_columns\", 20)\n",
    "\n",
    "plt.style.use(\"classic\")\n",
    "plt.rcParams[\"axes.grid\"] = True\n",
    "plt.rcParams[\"figure.figsize\"] = (10, 6)\n",
    "plt.rcParams[\"axes.formatter.useoffset\"] = False\n",
    "plt.rcParams[\"axes.formatter.limits\"] = [-1000000000, 1000000000]"
   ]
  },
  {
   "cell_type": "code",
   "execution_count": 2,
   "id": "433f67a8-0ca9-4202-bf1a-a8221ce92139",
   "metadata": {},
   "outputs": [
    {
     "data": {
      "text/plain": [
       "dict_keys(['6B', 'MES'])"
      ]
     },
     "execution_count": 2,
     "metadata": {},
     "output_type": "execute_result"
    }
   ],
   "source": [
    "I = pth.load_instruments()\n",
    "I.keys()"
   ]
  },
  {
   "cell_type": "code",
   "execution_count": 3,
   "id": "63eadd28",
   "metadata": {},
   "outputs": [
    {
     "data": {
      "text/plain": [
       "((58438,), (58438,), (58438, 15))"
      ]
     },
     "execution_count": 3,
     "metadata": {},
     "output_type": "execute_result"
    }
   ],
   "source": [
    "fast = pth.to_indicator(I[\"6B\"].avg)\n",
    "slow = pth.to_indicator(I[\"6B\"].avg_1)\n",
    "price = pth.to_indicator(I[\"6B\"].close)\n",
    "\n",
    "entries = price.values_crossed_below(slow.values)\n",
    "exits = price.values_crossed_above(slow.values)\n",
    "exits.shape, entries.shape, I[\"6B\"].shape"
   ]
  },
  {
   "cell_type": "code",
   "execution_count": 9,
   "id": "dce61222",
   "metadata": {},
   "outputs": [
    {
     "data": {
      "application/vnd.jupyter.widget-view+json": {
       "model_id": "563910f1ce0841048eb6385a5d920731",
       "version_major": 2,
       "version_minor": 0
      },
      "text/plain": [
       "FigureWidget({\n",
       "    'data': [{'hoverinfo': 'skip',\n",
       "              'line': {'color': 'rgba(0, 0, 0, 0)', 'width': 0},\n",
       "              'opacity': 0,\n",
       "              'showlegend': False,\n",
       "              'type': 'scatter',\n",
       "              'uid': '2732105d-5ebf-458b-8564-21cb78830108',\n",
       "              'x': array([    0,     1,     2, ..., 58435, 58436, 58437]),\n",
       "              'y': array([100., 100., 100., ..., 100., 100., 100.])},\n",
       "             {'connectgaps': False,\n",
       "              'fill': 'tonexty',\n",
       "              'fillcolor': 'rgba(0, 128, 0, 0.3)',\n",
       "              'hoverinfo': 'skip',\n",
       "              'line': {'color': 'rgba(0, 0, 0, 0)', 'width': 0},\n",
       "              'opacity': 0,\n",
       "              'showlegend': False,\n",
       "              'type': 'scatter',\n",
       "              'uid': '1c8458bc-da6e-4a05-8a40-89737a05488d',\n",
       "              'x': array([    0,     1,     2, ..., 58435, 58436, 58437]),\n",
       "              'y': array([100.        , 100.        , 100.        , ..., 104.04633881,\n",
       "                          104.04633881, 104.04633881])},\n",
       "             {'hoverinfo': 'skip',\n",
       "              'line': {'color': 'rgba(0, 0, 0, 0)', 'width': 0},\n",
       "              'opacity': 0,\n",
       "              'showlegend': False,\n",
       "              'type': 'scatter',\n",
       "              'uid': 'e3226bb8-0e9c-470c-95cf-d9b4fcc6c989',\n",
       "              'x': array([    0,     1,     2, ..., 58435, 58436, 58437]),\n",
       "              'y': array([100., 100., 100., ..., 100., 100., 100.])},\n",
       "             {'connectgaps': False,\n",
       "              'fill': 'tonexty',\n",
       "              'fillcolor': 'rgba(255, 0, 0, 0.3)',\n",
       "              'hoverinfo': 'skip',\n",
       "              'line': {'color': 'rgba(0, 0, 0, 0)', 'width': 0},\n",
       "              'opacity': 0,\n",
       "              'showlegend': False,\n",
       "              'type': 'scatter',\n",
       "              'uid': '3e30caa4-168e-4c54-a7d6-140ef80154a2',\n",
       "              'x': array([    0,     1,     2, ..., 58435, 58436, 58437]),\n",
       "              'y': array([100., 100., 100., ..., 100., 100., 100.])},\n",
       "             {'line': {'color': '#9467bd'},\n",
       "              'name': 'Value',\n",
       "              'showlegend': True,\n",
       "              'type': 'scatter',\n",
       "              'uid': 'c951d72a-bd78-4e29-852c-6e56764d6ad8',\n",
       "              'x': array([    0,     1,     2, ..., 58435, 58436, 58437]),\n",
       "              'y': array([100.        , 100.        , 100.        , ..., 104.04633881,\n",
       "                          104.04633881, 104.04633881])},\n",
       "             {'hoverinfo': 'skip',\n",
       "              'line': {'color': 'rgba(0, 0, 0, 0)', 'width': 0},\n",
       "              'opacity': 0.0,\n",
       "              'showlegend': False,\n",
       "              'type': 'scatter',\n",
       "              'uid': '1c27d253-9d3e-4046-99b7-729c48ebdc44',\n",
       "              'x': array([    0,     1,     2, ..., 58435, 58436, 58437]),\n",
       "              'y': array([100., 100., 100., ..., 100., 100., 100.])}],\n",
       "    'layout': {'height': 350,\n",
       "               'legend': {'orientation': 'h',\n",
       "                          'traceorder': 'normal',\n",
       "                          'x': 1,\n",
       "                          'xanchor': 'right',\n",
       "                          'y': 1.02,\n",
       "                          'yanchor': 'bottom'},\n",
       "               'margin': {'b': 30, 'l': 30, 'r': 30, 't': 30},\n",
       "               'shapes': [{'line': {'color': 'gray', 'dash': 'dash'},\n",
       "                           'type': 'line',\n",
       "                           'x0': 0,\n",
       "                           'x1': 1,\n",
       "                           'xref': 'paper',\n",
       "                           'y0': np.float64(100.0),\n",
       "                           'y1': np.float64(100.0),\n",
       "                           'yref': 'y'}],\n",
       "               'template': '...',\n",
       "               'width': 700}\n",
       "})"
      ]
     },
     "execution_count": 9,
     "metadata": {},
     "output_type": "execute_result"
    }
   ],
   "source": [
    "res = vbt.Portfolio.from_signals(I[\"6B\"].close, entries=entries, exits=exits)\n",
    "res.plot_value()"
   ]
  },
  {
   "cell_type": "code",
   "execution_count": null,
   "id": "e3998527",
   "metadata": {},
   "outputs": [],
   "source": []
  }
 ],
 "metadata": {
  "kernelspec": {
   "display_name": "Python 3 (ipykernel)",
   "language": "python",
   "name": "python3"
  },
  "language_info": {
   "codemirror_mode": {
    "name": "ipython",
    "version": 3
   },
   "file_extension": ".py",
   "mimetype": "text/x-python",
   "name": "python",
   "nbconvert_exporter": "python",
   "pygments_lexer": "ipython3",
   "version": "3.12.9"
  }
 },
 "nbformat": 4,
 "nbformat_minor": 5
}
