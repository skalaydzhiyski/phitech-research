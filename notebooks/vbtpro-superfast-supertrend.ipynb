{
 "cells": [
  {
   "cell_type": "code",
   "execution_count": 3,
   "id": "62b375f6-cbbd-4f4f-9aca-4dcbce8e56cc",
   "metadata": {},
   "outputs": [
    {
     "name": "stderr",
     "output_type": "stream",
     "text": [
      "/Users/e1211913/miniconda3/envs/trading/lib/python3.12/site-packages/telegram/utils/request.py:49: UserWarning: python-telegram-bot is using upstream urllib3. This is allowed but not supported by python-telegram-bot maintainers.\n",
      "  warnings.warn(\n"
     ]
    },
    {
     "name": "stdout",
     "output_type": "stream",
     "text": [
      "logging mode: dev\n"
     ]
    }
   ],
   "source": [
    "import sys\n",
    "\n",
    "sys.path.append(\"../\")\n",
    "\n",
    "import pandas as pd\n",
    "import numpy as np\n",
    "import datetime\n",
    "import os\n",
    "from pprint import pprint\n",
    "import matplotlib.pyplot as plt\n",
    "import time\n",
    "import vectorbtpro as vbt\n",
    "from time import time\n",
    "import helpers as pth\n",
    "import platform\n",
    "from dotenv import load_dotenv\n",
    "import scipy.stats as stats\n",
    "import time\n",
    "import helpers as pth\n",
    "from numba import njit\n",
    "import talib\n",
    "\n",
    "theme = \"light\"\n",
    "vbt.settings.set_theme(theme)\n",
    "\n",
    "pd.set_option(\"display.max_rows\", 100)\n",
    "pd.set_option(\"display.max_columns\", 20)\n",
    "# plt.rcParams[\"axes.grid\"] = True\n",
    "plt.rcParams[\"figure.figsize\"] = (12, 7)\n",
    "plt.rcParams[\"axes.formatter.useoffset\"] = False\n",
    "plt.rcParams[\"axes.formatter.limits\"] = [-1000000000, 1000000000]\n",
    "plt.style.use(\"classic\" if theme == \"light\" else \"dark_background\")\n",
    "\n",
    "if platform.system().lower() == \"windows\":\n",
    "    base_data_path = \"H:\\\\phitech-data\\\\01_raw\"\n",
    "else:\n",
    "    from core_chains.simple.llm import make_Q_chain\n",
    "\n",
    "    base_data_path = \"../../phitech-data/01_raw\"\n",
    "    load_dotenv(\"../../sandatasci-core/credentials\")\n",
    "    Q = make_Q_chain(\"gpt-4o-instance1\", __vsc_ipynb_file__)"
   ]
  },
  {
   "cell_type": "code",
   "execution_count": 4,
   "id": "66d01b62",
   "metadata": {},
   "outputs": [
    {
     "data": {
      "text/html": [
       "<style>\n",
       ".dataframe {\n",
       "    font-size: 9pt; /* Adjust font size as needed */\n",
       "}\n",
       "</style>\n"
      ],
      "text/plain": [
       "<IPython.core.display.HTML object>"
      ]
     },
     "metadata": {},
     "output_type": "display_data"
    }
   ],
   "source": [
    "%%html\n",
    "<style>\n",
    ".dataframe {\n",
    "    font-size: 9pt; /* Adjust font size as needed */\n",
    "}\n",
    "</style>"
   ]
  },
  {
   "cell_type": "code",
   "execution_count": 5,
   "id": "267c3e1b",
   "metadata": {},
   "outputs": [
    {
     "data": {
      "application/vnd.jupyter.widget-view+json": {
       "model_id": "188ef37342d9444db00ec1001094b98d",
       "version_major": 2,
       "version_minor": 0
      },
      "text/plain": [
       "100%|##########| 2/2 [00:02<00:00,  1.33s/it, symbol=6B]"
      ]
     },
     "metadata": {},
     "output_type": "display_data"
    },
    {
     "name": "stderr",
     "output_type": "stream",
     "text": [
      "/Users/e1211913/miniconda3/envs/trading/lib/python3.12/site-packages/vectorbtpro/data/base.py:1728: VBTWarning: Symbols have mismatching index. Setting missing data points to NaN.\n"
     ]
    },
    {
     "data": {
      "text/plain": [
       "<helpers.SierraChartData at 0x17a9a1a90>"
      ]
     },
     "execution_count": 5,
     "metadata": {},
     "output_type": "execute_result"
    }
   ],
   "source": [
    "symbols = [\"MES\", \"6B\"]\n",
    "df = pth.SierraChartData.pull(\n",
    "    symbols,\n",
    "    timeframe=\"1min\",\n",
    "    start=\"2024-08-01\",\n",
    "    end=\"2024-12-01\",\n",
    ")\n",
    "df"
   ]
  },
  {
   "cell_type": "code",
   "execution_count": 6,
   "id": "8bc91f2d",
   "metadata": {},
   "outputs": [
    {
     "name": "stdout",
     "output_type": "stream",
     "text": [
      "<class 'pandas.core.frame.DataFrame'>\n",
      "DatetimeIndex: 119631 entries, 2024-08-01 00:00:00+00:00 to 2024-12-01 23:59:00+00:00\n",
      "Data columns (total 11 columns):\n",
      " #   Column       Non-Null Count   Dtype  \n",
      "---  ------       --------------   -----  \n",
      " 0   open         119331 non-null  float64\n",
      " 1   high         119331 non-null  float64\n",
      " 2   low          119331 non-null  float64\n",
      " 3   close        119331 non-null  float64\n",
      " 4   volume       119331 non-null  float64\n",
      " 5   #_of_trades  119331 non-null  float64\n",
      " 6   ohlc_avg     119331 non-null  float64\n",
      " 7   hlc_avg      119331 non-null  float64\n",
      " 8   hl_avg       119331 non-null  float64\n",
      " 9   bid_volume   119331 non-null  float64\n",
      " 10  ask_volume   119331 non-null  float64\n",
      "dtypes: float64(11)\n",
      "memory usage: 11.0 MB\n"
     ]
    }
   ],
   "source": [
    "df.data[\"MES\"].info()"
   ]
  },
  {
   "cell_type": "code",
   "execution_count": 7,
   "id": "71dd81d0",
   "metadata": {},
   "outputs": [
    {
     "data": {
      "text/html": [
       "<div>\n",
       "<style scoped>\n",
       "    .dataframe tbody tr th:only-of-type {\n",
       "        vertical-align: middle;\n",
       "    }\n",
       "\n",
       "    .dataframe tbody tr th {\n",
       "        vertical-align: top;\n",
       "    }\n",
       "\n",
       "    .dataframe thead th {\n",
       "        text-align: right;\n",
       "    }\n",
       "</style>\n",
       "<table border=\"1\" class=\"dataframe\">\n",
       "  <thead>\n",
       "    <tr style=\"text-align: right;\">\n",
       "      <th>symbol</th>\n",
       "      <th>MES</th>\n",
       "      <th>6B</th>\n",
       "    </tr>\n",
       "    <tr>\n",
       "      <th>timestamp</th>\n",
       "      <th></th>\n",
       "      <th></th>\n",
       "    </tr>\n",
       "  </thead>\n",
       "  <tbody>\n",
       "    <tr>\n",
       "      <th>2024-08-01 00:00:00+00:00</th>\n",
       "      <td>5714.75</td>\n",
       "      <td>1.2858</td>\n",
       "    </tr>\n",
       "    <tr>\n",
       "      <th>2024-08-01 00:01:00+00:00</th>\n",
       "      <td>5715.25</td>\n",
       "      <td>1.2858</td>\n",
       "    </tr>\n",
       "    <tr>\n",
       "      <th>2024-08-01 00:02:00+00:00</th>\n",
       "      <td>5715.50</td>\n",
       "      <td>1.2858</td>\n",
       "    </tr>\n",
       "    <tr>\n",
       "      <th>2024-08-01 00:03:00+00:00</th>\n",
       "      <td>5714.50</td>\n",
       "      <td>1.2857</td>\n",
       "    </tr>\n",
       "    <tr>\n",
       "      <th>2024-08-01 00:05:00+00:00</th>\n",
       "      <td>5713.75</td>\n",
       "      <td>1.2857</td>\n",
       "    </tr>\n",
       "    <tr>\n",
       "      <th>...</th>\n",
       "      <td>...</td>\n",
       "      <td>...</td>\n",
       "    </tr>\n",
       "    <tr>\n",
       "      <th>2024-12-01 23:55:00+00:00</th>\n",
       "      <td>6115.00</td>\n",
       "      <td>1.2689</td>\n",
       "    </tr>\n",
       "    <tr>\n",
       "      <th>2024-12-01 23:56:00+00:00</th>\n",
       "      <td>6115.25</td>\n",
       "      <td>1.2689</td>\n",
       "    </tr>\n",
       "    <tr>\n",
       "      <th>2024-12-01 23:57:00+00:00</th>\n",
       "      <td>6115.75</td>\n",
       "      <td>1.2690</td>\n",
       "    </tr>\n",
       "    <tr>\n",
       "      <th>2024-12-01 23:58:00+00:00</th>\n",
       "      <td>6116.00</td>\n",
       "      <td>1.2693</td>\n",
       "    </tr>\n",
       "    <tr>\n",
       "      <th>2024-12-01 23:59:00+00:00</th>\n",
       "      <td>6115.75</td>\n",
       "      <td>1.2692</td>\n",
       "    </tr>\n",
       "  </tbody>\n",
       "</table>\n",
       "<p>110541 rows × 2 columns</p>\n",
       "</div>"
      ],
      "text/plain": [
       "symbol                         MES      6B\n",
       "timestamp                                 \n",
       "2024-08-01 00:00:00+00:00  5714.75  1.2858\n",
       "2024-08-01 00:01:00+00:00  5715.25  1.2858\n",
       "2024-08-01 00:02:00+00:00  5715.50  1.2858\n",
       "2024-08-01 00:03:00+00:00  5714.50  1.2857\n",
       "2024-08-01 00:05:00+00:00  5713.75  1.2857\n",
       "...                            ...     ...\n",
       "2024-12-01 23:55:00+00:00  6115.00  1.2689\n",
       "2024-12-01 23:56:00+00:00  6115.25  1.2689\n",
       "2024-12-01 23:57:00+00:00  6115.75  1.2690\n",
       "2024-12-01 23:58:00+00:00  6116.00  1.2693\n",
       "2024-12-01 23:59:00+00:00  6115.75  1.2692\n",
       "\n",
       "[110541 rows x 2 columns]"
      ]
     },
     "execution_count": 7,
     "metadata": {},
     "output_type": "execute_result"
    }
   ],
   "source": [
    "high, low, close = (\n",
    "    df.get(\"High\").dropna(),\n",
    "    df.get(\"Low\").dropna(),\n",
    "    df.get(\"Close\").dropna(),\n",
    ")\n",
    "close"
   ]
  },
  {
   "cell_type": "markdown",
   "id": "269bc5a7",
   "metadata": {},
   "source": [
    "### Pandas Implementation"
   ]
  },
  {
   "cell_type": "code",
   "execution_count": 8,
   "id": "2287c5c8",
   "metadata": {},
   "outputs": [],
   "source": [
    "def get_mid_price(high, low):\n",
    "    return (high + low) / 2\n",
    "\n",
    "\n",
    "def get_atr(high, low, close, period):\n",
    "    tr0 = abs(high - low)\n",
    "    tr1 = abs(high - close.shift(1))\n",
    "    tr2 = abs(low - close.shift(1))\n",
    "    tr = pd.concat((tr0, tr1, tr2), axis=1).max(axis=1)\n",
    "    atr = tr.ewm(alpha=1 / period, adjust=False, min_periods=period).mean()\n",
    "    return atr\n",
    "\n",
    "\n",
    "def get_basic_bands(midprice, atr, multiplier):\n",
    "    matr = multiplier * atr\n",
    "    upper = midprice + matr\n",
    "    lower = midprice - matr\n",
    "    return upper, lower\n",
    "\n",
    "\n",
    "def get_final_bands(close, upper, lower):\n",
    "    trend = pd.Series(np.full(close.shape, np.nan), index=close.index)\n",
    "    direction = pd.Series(np.full(close.shape, 1), index=close.index)\n",
    "    long = pd.Series(np.full(close.shape, np.nan), index=close.index)\n",
    "    short = pd.Series(np.full(close.shape, np.nan), index=close.index)\n",
    "\n",
    "    for i in range(1, close.shape[0]):\n",
    "        if close.iloc[i] > upper.iloc[i - 1]:\n",
    "            direction.iloc[i] = 1\n",
    "        elif close.iloc[i] < lower.iloc[i - 1]:\n",
    "            direction.iloc[i] = -1\n",
    "        else:\n",
    "            direction.iloc[i] = direction.iloc[i - 1]\n",
    "            if direction.iloc[i] > 0 and lower.iloc[i] < lower.iloc[i - 1]:\n",
    "                lower.iloc[i] = lower.iloc[i - 1]\n",
    "            if direction.iloc[i] < 0 and upper.iloc[i] > upper.iloc[i - 1]:\n",
    "                upper.iloc[i] = upper.iloc[i - 1]\n",
    "\n",
    "        if direction.iloc[i] > 0:\n",
    "            trend.iloc[i] = long.iloc[i] = lower.iloc[i]\n",
    "        else:\n",
    "            trend.iloc[i] = short.iloc[i] = upper.iloc[i]\n",
    "\n",
    "    return trend, direction, long, short\n",
    "\n",
    "\n",
    "def supertrend(high, low, close, period=7, multiplier=3):\n",
    "    midprice = get_mid_price(high, low)\n",
    "    atr = get_atr(high, low, close, period=period)\n",
    "    upper, lower = get_basic_bands(midprice, atr, multiplier=multiplier)\n",
    "    return get_final_bands(close, upper, lower)"
   ]
  },
  {
   "cell_type": "code",
   "execution_count": 9,
   "id": "cfdd10c5",
   "metadata": {},
   "outputs": [],
   "source": [
    "# %%timeit\n",
    "ticker = \"MES\"\n",
    "supert, superd, superl, supers = supertrend(high[ticker], low[ticker], close[ticker])"
   ]
  },
  {
   "cell_type": "code",
   "execution_count": 10,
   "id": "6d571d81",
   "metadata": {},
   "outputs": [
    {
     "data": {
      "application/vnd.jupyter.widget-view+json": {
       "model_id": "ecbaff9d650849c7a3ed7415affeea51",
       "version_major": 2,
       "version_minor": 0
      },
      "text/plain": [
       "FigureWidget({\n",
       "    'data': [{'name': 'MES',\n",
       "              'showlegend': True,\n",
       "              'type': 'scatter',\n",
       "              'uid': 'fac61ce0-bc15-42c5-b7b2-999b76169930',\n",
       "              'x': array([datetime.datetime(2024, 8, 1, 0, 0, tzinfo=datetime.timezone.utc),\n",
       "                          datetime.datetime(2024, 8, 1, 0, 1, tzinfo=datetime.timezone.utc),\n",
       "                          datetime.datetime(2024, 8, 1, 0, 2, tzinfo=datetime.timezone.utc), ...,\n",
       "                          datetime.datetime(2024, 12, 1, 23, 57, tzinfo=datetime.timezone.utc),\n",
       "                          datetime.datetime(2024, 12, 1, 23, 58, tzinfo=datetime.timezone.utc),\n",
       "                          datetime.datetime(2024, 12, 1, 23, 59, tzinfo=datetime.timezone.utc)],\n",
       "                         dtype=object),\n",
       "              'y': array([5714.75, 5715.25, 5715.5 , ..., 6115.75, 6116.  , 6115.75])},\n",
       "             {'showlegend': False,\n",
       "              'type': 'scatter',\n",
       "              'uid': 'b5d960e4-4dd9-4191-bcce-e9718d108320',\n",
       "              'x': array([datetime.datetime(2024, 8, 1, 0, 0, tzinfo=datetime.timezone.utc),\n",
       "                          datetime.datetime(2024, 8, 1, 0, 1, tzinfo=datetime.timezone.utc),\n",
       "                          datetime.datetime(2024, 8, 1, 0, 2, tzinfo=datetime.timezone.utc), ...,\n",
       "                          datetime.datetime(2024, 12, 1, 23, 57, tzinfo=datetime.timezone.utc),\n",
       "                          datetime.datetime(2024, 12, 1, 23, 58, tzinfo=datetime.timezone.utc),\n",
       "                          datetime.datetime(2024, 12, 1, 23, 59, tzinfo=datetime.timezone.utc)],\n",
       "                         dtype=object),\n",
       "              'y': array([          nan,           nan,           nan, ..., 6117.73618405,\n",
       "                          6117.73618405, 6117.73618405])},\n",
       "             {'showlegend': False,\n",
       "              'type': 'scatter',\n",
       "              'uid': '115ddfea-7ae1-44dc-8360-c3e1dd2d644e',\n",
       "              'x': array([datetime.datetime(2024, 8, 1, 0, 0, tzinfo=datetime.timezone.utc),\n",
       "                          datetime.datetime(2024, 8, 1, 0, 1, tzinfo=datetime.timezone.utc),\n",
       "                          datetime.datetime(2024, 8, 1, 0, 2, tzinfo=datetime.timezone.utc), ...,\n",
       "                          datetime.datetime(2024, 12, 1, 23, 57, tzinfo=datetime.timezone.utc),\n",
       "                          datetime.datetime(2024, 12, 1, 23, 58, tzinfo=datetime.timezone.utc),\n",
       "                          datetime.datetime(2024, 12, 1, 23, 59, tzinfo=datetime.timezone.utc)],\n",
       "                         dtype=object),\n",
       "              'y': array([nan, nan, nan, ..., nan, nan, nan])}],\n",
       "    'layout': {'height': 350,\n",
       "               'legend': {'orientation': 'h',\n",
       "                          'traceorder': 'normal',\n",
       "                          'x': 1,\n",
       "                          'xanchor': 'right',\n",
       "                          'y': 1.02,\n",
       "                          'yanchor': 'bottom'},\n",
       "               'margin': {'b': 30, 'l': 30, 'r': 30, 't': 30},\n",
       "               'template': '...',\n",
       "               'width': 700}\n",
       "})"
      ]
     },
     "execution_count": 10,
     "metadata": {},
     "output_type": "execute_result"
    }
   ],
   "source": [
    "fig = close[ticker].vbt.plot()\n",
    "supers.vbt.plot(fig=fig)\n",
    "superl.vbt.plot(fig=fig)"
   ]
  },
  {
   "cell_type": "markdown",
   "id": "10a36974",
   "metadata": {},
   "source": [
    "### Numpy + Numba"
   ]
  },
  {
   "cell_type": "code",
   "execution_count": 13,
   "id": "0d55d64f",
   "metadata": {},
   "outputs": [],
   "source": [
    "def get_atr_np(high, low, close, period):\n",
    "    shifted_close = vbt.nb.fshift_1d_nb(close, 1)\n",
    "    tr0 = np.abs(high - low)\n",
    "    tr1 = np.abs(high - shifted_close)\n",
    "    tr2 = np.abs(low - shifted_close)\n",
    "    tr = np.column_stack((tr0, tr1, tr2)).max(axis=1)\n",
    "    atr = vbt.nb.wwm_mean_1d_nb(tr, period)\n",
    "    return atr\n",
    "\n",
    "\n",
    "@njit\n",
    "def get_final_bands_nb(close, upper, lower):\n",
    "    trend = np.full(close.shape, np.nan)\n",
    "    direction = np.full(close.shape, 1)\n",
    "    long = np.full(close.shape, np.nan)\n",
    "    short = np.full(close.shape, np.nan)\n",
    "\n",
    "    for i in range(1, close.shape[0]):\n",
    "        if close[i] > upper[i - 1]:\n",
    "            direction[i] = 1\n",
    "        elif close[i] < lower[i - 1]:\n",
    "            direction[i] = -1\n",
    "        else:\n",
    "            direction[i] = direction[i - 1]\n",
    "            if direction[i] > 0 and lower[i] < lower[i - 1]:\n",
    "                lower[i] = lower[i - 1]\n",
    "            if direction[i] < 0 and upper[i] > upper[i - 1]:\n",
    "                upper[i] = upper[i - 1]\n",
    "\n",
    "        if direction[i] > 0:\n",
    "            trend[i] = long[i] = lower[i]\n",
    "        else:\n",
    "            trend[i] = short[i] = upper[i]\n",
    "\n",
    "    return trend, direction, long, short\n",
    "\n",
    "\n",
    "def faster_supertrend_nb(high, low, close, period=7, multiplier=3):\n",
    "    midprice = get_mid_price(high, low)\n",
    "    atr = get_atr_np(high, low, close, period)\n",
    "    upper, lower = get_basic_bands(midprice, atr, multiplier)\n",
    "    return get_final_bands_nb(close, upper, lower)"
   ]
  },
  {
   "cell_type": "code",
   "execution_count": 14,
   "id": "869ed729",
   "metadata": {},
   "outputs": [
    {
     "name": "stdout",
     "output_type": "stream",
     "text": [
      "3.96 ms ± 73 μs per loop (mean ± std. dev. of 7 runs, 1 loop each)\n"
     ]
    }
   ],
   "source": [
    "%%timeit\n",
    "faster_supertrend_nb(\n",
    "    high[ticker].values, low[ticker].values, close[ticker].values\n",
    ")"
   ]
  },
  {
   "cell_type": "code",
   "execution_count": 15,
   "id": "e14c2781",
   "metadata": {},
   "outputs": [],
   "source": [
    "def faster_supertrend_talib(high, low, close, period=7, multiplier=3):\n",
    "    midprice = talib.MEDPRICE(high, low)\n",
    "    atr = talib.ATR(high, low, close, period)\n",
    "    upper, lower = get_basic_bands(midprice, atr, multiplier)\n",
    "    return get_final_bands_nb(close, upper, lower)"
   ]
  },
  {
   "cell_type": "code",
   "execution_count": 16,
   "id": "dc5d8b16",
   "metadata": {},
   "outputs": [
    {
     "name": "stdout",
     "output_type": "stream",
     "text": [
      "1.35 ms ± 13.2 μs per loop (mean ± std. dev. of 7 runs, 1,000 loops each)\n"
     ]
    }
   ],
   "source": [
    "%%timeit\n",
    "faster_supertrend_talib(high[ticker].values, low[ticker].values, close[ticker].values)"
   ]
  },
  {
   "cell_type": "code",
   "execution_count": 17,
   "id": "54e386b4",
   "metadata": {},
   "outputs": [
    {
     "data": {
      "text/plain": [
       "vectorbtpro.indicators.factory.SuperTrend"
      ]
     },
     "execution_count": 17,
     "metadata": {},
     "output_type": "execute_result"
    }
   ],
   "source": [
    "SuperTrend = vbt.IndicatorFactory(\n",
    "    class_name=\"SuperTrend\",\n",
    "    short_name=\"st\",\n",
    "    input_names=[\"high\", \"low\", \"close\"],\n",
    "    param_names=[\"period\", \"multiplier\"],\n",
    "    output_names=[\"supert\", \"superd\", \"superl\", \"supers\"],\n",
    ").with_apply_func(\n",
    "    faster_supertrend_talib,\n",
    "    takes_1d=True,\n",
    "    period=7,\n",
    "    multiplier=3,\n",
    ")\n",
    "SuperTrend"
   ]
  },
  {
   "cell_type": "code",
   "execution_count": 18,
   "id": "3002f5a2",
   "metadata": {},
   "outputs": [
    {
     "data": {
      "text/plain": [
       "<vectorbtpro.indicators.factory.SuperTrend at 0x17be1b050>"
      ]
     },
     "execution_count": 18,
     "metadata": {},
     "output_type": "execute_result"
    }
   ],
   "source": [
    "# %%timeit\n",
    "st = SuperTrend.run(high, low, close)\n",
    "st"
   ]
  },
  {
   "cell_type": "code",
   "execution_count": 24,
   "id": "477ce654",
   "metadata": {},
   "outputs": [
    {
     "data": {
      "application/vnd.jupyter.widget-view+json": {
       "model_id": "1b3b71ecb8284f4188410b702894e63f",
       "version_major": 2,
       "version_minor": 0
      },
      "text/plain": [
       "FigureWidget({\n",
       "    'data': [{'name': 'MES',\n",
       "              'showlegend': True,\n",
       "              'type': 'scatter',\n",
       "              'uid': 'f0abf110-3573-473b-a3a6-bd2408e7ecdb',\n",
       "              'x': array([datetime.datetime(2024, 8, 1, 0, 0, tzinfo=datetime.timezone.utc),\n",
       "                          datetime.datetime(2024, 8, 1, 0, 1, tzinfo=datetime.timezone.utc),\n",
       "                          datetime.datetime(2024, 8, 1, 0, 2, tzinfo=datetime.timezone.utc), ...,\n",
       "                          datetime.datetime(2024, 12, 1, 23, 57, tzinfo=datetime.timezone.utc),\n",
       "                          datetime.datetime(2024, 12, 1, 23, 58, tzinfo=datetime.timezone.utc),\n",
       "                          datetime.datetime(2024, 12, 1, 23, 59, tzinfo=datetime.timezone.utc)],\n",
       "                         dtype=object),\n",
       "              'y': array([5714.75, 5715.25, 5715.5 , ..., 6115.75, 6116.  , 6115.75])},\n",
       "             {'name': 'MES',\n",
       "              'showlegend': True,\n",
       "              'type': 'scatter',\n",
       "              'uid': 'fba24475-ec3a-423b-ad3d-992d4acb10c0',\n",
       "              'x': array([datetime.datetime(2024, 8, 1, 0, 0, tzinfo=datetime.timezone.utc),\n",
       "                          datetime.datetime(2024, 8, 1, 0, 1, tzinfo=datetime.timezone.utc),\n",
       "                          datetime.datetime(2024, 8, 1, 0, 2, tzinfo=datetime.timezone.utc), ...,\n",
       "                          datetime.datetime(2024, 12, 1, 23, 57, tzinfo=datetime.timezone.utc),\n",
       "                          datetime.datetime(2024, 12, 1, 23, 58, tzinfo=datetime.timezone.utc),\n",
       "                          datetime.datetime(2024, 12, 1, 23, 59, tzinfo=datetime.timezone.utc)],\n",
       "                         dtype=object),\n",
       "              'y': array([nan, nan, nan, ..., nan, nan, nan])},\n",
       "             {'name': 'MES',\n",
       "              'showlegend': True,\n",
       "              'type': 'scatter',\n",
       "              'uid': '78ad151c-7127-4509-9633-7820efaaf7ca',\n",
       "              'x': array([datetime.datetime(2024, 8, 1, 0, 0, tzinfo=datetime.timezone.utc),\n",
       "                          datetime.datetime(2024, 8, 1, 0, 1, tzinfo=datetime.timezone.utc),\n",
       "                          datetime.datetime(2024, 8, 1, 0, 2, tzinfo=datetime.timezone.utc), ...,\n",
       "                          datetime.datetime(2024, 12, 1, 23, 57, tzinfo=datetime.timezone.utc),\n",
       "                          datetime.datetime(2024, 12, 1, 23, 58, tzinfo=datetime.timezone.utc),\n",
       "                          datetime.datetime(2024, 12, 1, 23, 59, tzinfo=datetime.timezone.utc)],\n",
       "                         dtype=object),\n",
       "              'y': array([          nan,           nan,           nan, ..., 6117.73618405,\n",
       "                          6117.73618405, 6117.73618405])}],\n",
       "    'layout': {'height': 350,\n",
       "               'legend': {'orientation': 'h',\n",
       "                          'traceorder': 'normal',\n",
       "                          'x': 1,\n",
       "                          'xanchor': 'right',\n",
       "                          'y': 1.02,\n",
       "                          'yanchor': 'bottom'},\n",
       "               'margin': {'b': 30, 'l': 30, 'r': 30, 't': 30},\n",
       "               'template': '...',\n",
       "               'width': 700}\n",
       "})"
      ]
     },
     "execution_count": 24,
     "metadata": {},
     "output_type": "execute_result"
    }
   ],
   "source": [
    "fig = close[ticker].vbt.plot()\n",
    "st.superl[ticker].vbt.plot(fig=fig)\n",
    "st.supers[ticker].vbt.plot(fig=fig)"
   ]
  },
  {
   "cell_type": "code",
   "execution_count": 47,
   "id": "46a57767",
   "metadata": {},
   "outputs": [
    {
     "data": {
      "text/html": [
       "<div>\n",
       "<style scoped>\n",
       "    .dataframe tbody tr th:only-of-type {\n",
       "        vertical-align: middle;\n",
       "    }\n",
       "\n",
       "    .dataframe tbody tr th {\n",
       "        vertical-align: top;\n",
       "    }\n",
       "\n",
       "    .dataframe thead th {\n",
       "        text-align: right;\n",
       "    }\n",
       "</style>\n",
       "<table border=\"1\" class=\"dataframe\">\n",
       "  <thead>\n",
       "    <tr style=\"text-align: right;\">\n",
       "      <th>symbol</th>\n",
       "      <th>MES</th>\n",
       "      <th>6B</th>\n",
       "    </tr>\n",
       "    <tr>\n",
       "      <th>timestamp</th>\n",
       "      <th></th>\n",
       "      <th></th>\n",
       "    </tr>\n",
       "  </thead>\n",
       "  <tbody>\n",
       "    <tr>\n",
       "      <th>2024-08-01 00:00:00+00:00</th>\n",
       "      <td>False</td>\n",
       "      <td>False</td>\n",
       "    </tr>\n",
       "    <tr>\n",
       "      <th>2024-08-01 00:01:00+00:00</th>\n",
       "      <td>False</td>\n",
       "      <td>False</td>\n",
       "    </tr>\n",
       "    <tr>\n",
       "      <th>2024-08-01 00:02:00+00:00</th>\n",
       "      <td>False</td>\n",
       "      <td>False</td>\n",
       "    </tr>\n",
       "    <tr>\n",
       "      <th>2024-08-01 00:03:00+00:00</th>\n",
       "      <td>False</td>\n",
       "      <td>False</td>\n",
       "    </tr>\n",
       "    <tr>\n",
       "      <th>2024-08-01 00:05:00+00:00</th>\n",
       "      <td>False</td>\n",
       "      <td>False</td>\n",
       "    </tr>\n",
       "    <tr>\n",
       "      <th>...</th>\n",
       "      <td>...</td>\n",
       "      <td>...</td>\n",
       "    </tr>\n",
       "    <tr>\n",
       "      <th>2024-12-01 23:55:00+00:00</th>\n",
       "      <td>False</td>\n",
       "      <td>False</td>\n",
       "    </tr>\n",
       "    <tr>\n",
       "      <th>2024-12-01 23:56:00+00:00</th>\n",
       "      <td>False</td>\n",
       "      <td>False</td>\n",
       "    </tr>\n",
       "    <tr>\n",
       "      <th>2024-12-01 23:57:00+00:00</th>\n",
       "      <td>False</td>\n",
       "      <td>False</td>\n",
       "    </tr>\n",
       "    <tr>\n",
       "      <th>2024-12-01 23:58:00+00:00</th>\n",
       "      <td>False</td>\n",
       "      <td>False</td>\n",
       "    </tr>\n",
       "    <tr>\n",
       "      <th>2024-12-01 23:59:00+00:00</th>\n",
       "      <td>False</td>\n",
       "      <td>False</td>\n",
       "    </tr>\n",
       "  </tbody>\n",
       "</table>\n",
       "<p>110541 rows × 2 columns</p>\n",
       "</div>"
      ],
      "text/plain": [
       "symbol                       MES     6B\n",
       "timestamp                              \n",
       "2024-08-01 00:00:00+00:00  False  False\n",
       "2024-08-01 00:01:00+00:00  False  False\n",
       "2024-08-01 00:02:00+00:00  False  False\n",
       "2024-08-01 00:03:00+00:00  False  False\n",
       "2024-08-01 00:05:00+00:00  False  False\n",
       "...                          ...    ...\n",
       "2024-12-01 23:55:00+00:00  False  False\n",
       "2024-12-01 23:56:00+00:00  False  False\n",
       "2024-12-01 23:57:00+00:00  False  False\n",
       "2024-12-01 23:58:00+00:00  False  False\n",
       "2024-12-01 23:59:00+00:00  False  False\n",
       "\n",
       "[110541 rows x 2 columns]"
      ]
     },
     "execution_count": 47,
     "metadata": {},
     "output_type": "execute_result"
    }
   ],
   "source": [
    "entries = (~st.superl.isnull()).vbt.signals.get()\n",
    "exits = (~st.supers.isnull()).vbt.signals.get()\n",
    "entries"
   ]
  },
  {
   "cell_type": "code",
   "execution_count": 56,
   "id": "145b1ec9",
   "metadata": {},
   "outputs": [
    {
     "data": {
      "text/plain": [
       "<vectorbtpro.portfolio.base.Portfolio at 0x18d19b680>"
      ]
     },
     "execution_count": 56,
     "metadata": {},
     "output_type": "execute_result"
    }
   ],
   "source": [
    "pf = vbt.Portfolio.from_signals(close, entries, exits)\n",
    "pf"
   ]
  },
  {
   "cell_type": "code",
   "execution_count": 58,
   "id": "bd3fd816",
   "metadata": {},
   "outputs": [
    {
     "data": {
      "application/vnd.jupyter.widget-view+json": {
       "model_id": "de531c44933c49a1b5d47acbe3b804b4",
       "version_major": 2,
       "version_minor": 0
      },
      "text/plain": [
       "FigureWidget({\n",
       "    'data': [{'hoverinfo': 'skip',\n",
       "              'line': {'color': 'rgba(0, 0, 0, 0)', 'width': 0},\n",
       "              'mode': 'lines',\n",
       "              'opacity': 0,\n",
       "              'showlegend': False,\n",
       "              'type': 'scatter',\n",
       "              'uid': '42cdb074-0b44-44df-9f7c-d5905a8de555',\n",
       "              'x': array([datetime.datetime(2024, 8, 1, 0, 0, tzinfo=datetime.timezone.utc),\n",
       "                          datetime.datetime(2024, 8, 1, 0, 1, tzinfo=datetime.timezone.utc),\n",
       "                          datetime.datetime(2024, 8, 1, 0, 2, tzinfo=datetime.timezone.utc), ...,\n",
       "                          datetime.datetime(2024, 12, 1, 23, 57, tzinfo=datetime.timezone.utc),\n",
       "                          datetime.datetime(2024, 12, 1, 23, 58, tzinfo=datetime.timezone.utc),\n",
       "                          datetime.datetime(2024, 12, 1, 23, 59, tzinfo=datetime.timezone.utc)],\n",
       "                         dtype=object),\n",
       "              'y': array([100., 100., 100., ..., 100., 100., 100.])},\n",
       "             {'connectgaps': False,\n",
       "              'fill': 'tonexty',\n",
       "              'fillcolor': 'rgba(148,103,189,0.3000)',\n",
       "              'hoverinfo': 'skip',\n",
       "              'line': {'color': 'rgba(0, 0, 0, 0)', 'width': 0},\n",
       "              'mode': 'lines',\n",
       "              'opacity': 0,\n",
       "              'showlegend': False,\n",
       "              'type': 'scatter',\n",
       "              'uid': 'b113e5a4-c757-4f86-aece-b8f57ddeeabc',\n",
       "              'x': array([datetime.datetime(2024, 8, 1, 0, 0, tzinfo=datetime.timezone.utc),\n",
       "                          datetime.datetime(2024, 8, 1, 0, 1, tzinfo=datetime.timezone.utc),\n",
       "                          datetime.datetime(2024, 8, 1, 0, 2, tzinfo=datetime.timezone.utc), ...,\n",
       "                          datetime.datetime(2024, 12, 1, 23, 57, tzinfo=datetime.timezone.utc),\n",
       "                          datetime.datetime(2024, 12, 1, 23, 58, tzinfo=datetime.timezone.utc),\n",
       "                          datetime.datetime(2024, 12, 1, 23, 59, tzinfo=datetime.timezone.utc)],\n",
       "                         dtype=object),\n",
       "              'y': array([100.        , 100.        , 100.        , ..., 100.52183182,\n",
       "                          100.52183182, 100.52183182])},\n",
       "             {'hoverinfo': 'skip',\n",
       "              'line': {'color': 'rgba(0, 0, 0, 0)', 'width': 0},\n",
       "              'mode': 'lines',\n",
       "              'opacity': 0,\n",
       "              'showlegend': False,\n",
       "              'type': 'scatter',\n",
       "              'uid': '7735241a-d5e8-414a-b91b-88bed3a43a9b',\n",
       "              'x': array([datetime.datetime(2024, 8, 1, 0, 0, tzinfo=datetime.timezone.utc),\n",
       "                          datetime.datetime(2024, 8, 1, 0, 1, tzinfo=datetime.timezone.utc),\n",
       "                          datetime.datetime(2024, 8, 1, 0, 2, tzinfo=datetime.timezone.utc), ...,\n",
       "                          datetime.datetime(2024, 12, 1, 23, 57, tzinfo=datetime.timezone.utc),\n",
       "                          datetime.datetime(2024, 12, 1, 23, 58, tzinfo=datetime.timezone.utc),\n",
       "                          datetime.datetime(2024, 12, 1, 23, 59, tzinfo=datetime.timezone.utc)],\n",
       "                         dtype=object),\n",
       "              'y': array([100., 100., 100., ..., 100., 100., 100.])},\n",
       "             {'connectgaps': False,\n",
       "              'fill': 'tonexty',\n",
       "              'fillcolor': 'rgba(220,57,18,0.3000)',\n",
       "              'hoverinfo': 'skip',\n",
       "              'line': {'color': 'rgba(0, 0, 0, 0)', 'width': 0},\n",
       "              'mode': 'lines',\n",
       "              'opacity': 0,\n",
       "              'showlegend': False,\n",
       "              'type': 'scatter',\n",
       "              'uid': '7bba3021-f308-4f50-a08c-11fd356bef78',\n",
       "              'x': array([datetime.datetime(2024, 8, 1, 0, 0, tzinfo=datetime.timezone.utc),\n",
       "                          datetime.datetime(2024, 8, 1, 0, 1, tzinfo=datetime.timezone.utc),\n",
       "                          datetime.datetime(2024, 8, 1, 0, 2, tzinfo=datetime.timezone.utc), ...,\n",
       "                          datetime.datetime(2024, 12, 1, 23, 57, tzinfo=datetime.timezone.utc),\n",
       "                          datetime.datetime(2024, 12, 1, 23, 58, tzinfo=datetime.timezone.utc),\n",
       "                          datetime.datetime(2024, 12, 1, 23, 59, tzinfo=datetime.timezone.utc)],\n",
       "                         dtype=object),\n",
       "              'y': array([100., 100., 100., ..., 100., 100., 100.])},\n",
       "             {'line': {'color': '#9467bd'},\n",
       "              'mode': 'lines',\n",
       "              'name': 'Value',\n",
       "              'showlegend': True,\n",
       "              'type': 'scatter',\n",
       "              'uid': 'eaadcc6a-0ae3-4278-b583-7e121f5d6e96',\n",
       "              'x': array([datetime.datetime(2024, 8, 1, 0, 0, tzinfo=datetime.timezone.utc),\n",
       "                          datetime.datetime(2024, 8, 1, 0, 1, tzinfo=datetime.timezone.utc),\n",
       "                          datetime.datetime(2024, 8, 1, 0, 2, tzinfo=datetime.timezone.utc), ...,\n",
       "                          datetime.datetime(2024, 12, 1, 23, 57, tzinfo=datetime.timezone.utc),\n",
       "                          datetime.datetime(2024, 12, 1, 23, 58, tzinfo=datetime.timezone.utc),\n",
       "                          datetime.datetime(2024, 12, 1, 23, 59, tzinfo=datetime.timezone.utc)],\n",
       "                         dtype=object),\n",
       "              'y': array([100.        , 100.        , 100.        , ..., 100.52183182,\n",
       "                          100.52183182, 100.52183182])},\n",
       "             {'hoverinfo': 'skip',\n",
       "              'line': {'color': 'rgba(0, 0, 0, 0)', 'width': 0},\n",
       "              'mode': 'lines',\n",
       "              'opacity': 0.0,\n",
       "              'showlegend': False,\n",
       "              'type': 'scatter',\n",
       "              'uid': 'dca7bbf8-d4ea-405d-bc1c-68020cfd7607',\n",
       "              'x': array([datetime.datetime(2024, 8, 1, 0, 0, tzinfo=datetime.timezone.utc),\n",
       "                          datetime.datetime(2024, 8, 1, 0, 1, tzinfo=datetime.timezone.utc),\n",
       "                          datetime.datetime(2024, 8, 1, 0, 2, tzinfo=datetime.timezone.utc), ...,\n",
       "                          datetime.datetime(2024, 12, 1, 23, 57, tzinfo=datetime.timezone.utc),\n",
       "                          datetime.datetime(2024, 12, 1, 23, 58, tzinfo=datetime.timezone.utc),\n",
       "                          datetime.datetime(2024, 12, 1, 23, 59, tzinfo=datetime.timezone.utc)],\n",
       "                         dtype=object),\n",
       "              'y': array([100., 100., 100., ..., 100., 100., 100.])}],\n",
       "    'layout': {'height': 350,\n",
       "               'legend': {'orientation': 'h',\n",
       "                          'traceorder': 'normal',\n",
       "                          'x': 1,\n",
       "                          'xanchor': 'right',\n",
       "                          'y': 1.02,\n",
       "                          'yanchor': 'bottom'},\n",
       "               'margin': {'b': 30, 'l': 30, 'r': 30, 't': 30},\n",
       "               'shapes': [{'line': {'color': 'gray', 'dash': 'dash'},\n",
       "                           'type': 'line',\n",
       "                           'x0': 0,\n",
       "                           'x1': 1,\n",
       "                           'xref': 'paper',\n",
       "                           'y0': np.float64(100.0),\n",
       "                           'y1': np.float64(100.0),\n",
       "                           'yref': 'y'}],\n",
       "               'template': '...',\n",
       "               'width': 700}\n",
       "})"
      ]
     },
     "execution_count": 58,
     "metadata": {},
     "output_type": "execute_result"
    }
   ],
   "source": [
    "pf[\"MES\"].plot_value()"
   ]
  },
  {
   "cell_type": "code",
   "execution_count": 59,
   "id": "988e1b36",
   "metadata": {},
   "outputs": [],
   "source": [
    "periods = np.arange(4, 20)\n",
    "multipliers = np.arange(20, 31) / 10"
   ]
  },
  {
   "cell_type": "code",
   "execution_count": 61,
   "id": "a87237f2",
   "metadata": {},
   "outputs": [
    {
     "data": {
      "text/plain": [
       "<vectorbtpro.indicators.factory.SuperTrend at 0x17cda1c10>"
      ]
     },
     "execution_count": 61,
     "metadata": {},
     "output_type": "execute_result"
    }
   ],
   "source": [
    "st = SuperTrend.run(high, low, close, periods, multipliers, param_product=True)\n",
    "st"
   ]
  },
  {
   "cell_type": "code",
   "execution_count": 62,
   "id": "38a2b17b",
   "metadata": {},
   "outputs": [
    {
     "data": {
      "text/plain": [
       "MultiIndex([( 4, 2.0, 'MES'),\n",
       "            ( 4, 2.0,  '6B'),\n",
       "            ( 4, 2.1, 'MES'),\n",
       "            ( 4, 2.1,  '6B'),\n",
       "            ( 4, 2.2, 'MES'),\n",
       "            ( 4, 2.2,  '6B'),\n",
       "            ( 4, 2.3, 'MES'),\n",
       "            ( 4, 2.3,  '6B'),\n",
       "            ( 4, 2.4, 'MES'),\n",
       "            ( 4, 2.4,  '6B'),\n",
       "            ...\n",
       "            (19, 2.6, 'MES'),\n",
       "            (19, 2.6,  '6B'),\n",
       "            (19, 2.7, 'MES'),\n",
       "            (19, 2.7,  '6B'),\n",
       "            (19, 2.8, 'MES'),\n",
       "            (19, 2.8,  '6B'),\n",
       "            (19, 2.9, 'MES'),\n",
       "            (19, 2.9,  '6B'),\n",
       "            (19, 3.0, 'MES'),\n",
       "            (19, 3.0,  '6B')],\n",
       "           names=['st_period', 'st_multiplier', 'symbol'], length=352)"
      ]
     },
     "execution_count": 62,
     "metadata": {},
     "output_type": "execute_result"
    }
   ],
   "source": [
    "st.wrapper.columns"
   ]
  },
  {
   "cell_type": "code",
   "execution_count": 64,
   "id": "fdfaed44",
   "metadata": {},
   "outputs": [
    {
     "data": {
      "text/plain": [
       "<vectorbtpro.portfolio.base.Portfolio at 0x187aaf5c0>"
      ]
     },
     "execution_count": 64,
     "metadata": {},
     "output_type": "execute_result"
    }
   ],
   "source": [
    "entries = (~st.superl.isnull()).vbt.signals.fshift()\n",
    "exits = (~st.supers.isnull()).vbt.signals.fshift()\n",
    "\n",
    "pf = vbt.Portfolio.from_signals(\n",
    "    close=close, entries=entries, exits=exits, fees=0.001, freq=\"1h\"\n",
    ")\n",
    "pf"
   ]
  },
  {
   "cell_type": "code",
   "execution_count": 66,
   "id": "8a0f0f98",
   "metadata": {},
   "outputs": [
    {
     "data": {
      "application/vnd.jupyter.widget-view+json": {
       "model_id": "b2e2adcce19546648b2889713a742fa1",
       "version_major": 2,
       "version_minor": 0
      },
      "text/plain": [
       "FigureWidget({\n",
       "    'data': [{'colorscale': [[0.0, '#0d0887'], [0.1111111111111111, '#46039f'],\n",
       "                             [0.2222222222222222, '#7201a8'], [0.3333333333333333,\n",
       "                             '#9c179e'], [0.4444444444444444, '#bd3786'],\n",
       "                             [0.5555555555555556, '#d8576b'], [0.6666666666666666,\n",
       "                             '#ed7953'], [0.7777777777777778, '#fb9f3a'],\n",
       "                             [0.8888888888888888, '#fdca26'], [1.0, '#f0f921']],\n",
       "              'hoverongaps': False,\n",
       "              'hovertemplate': 'st_period: %{x}<br>st_multiplier: %{y}<br>value: %{z}<extra></extra>',\n",
       "              'name': '6B',\n",
       "              'type': 'heatmap',\n",
       "              'uid': '5c0af82b-e209-422b-a016-02f197541150',\n",
       "              'visible': True,\n",
       "              'x': array([ 4,  5,  6,  7,  8,  9, 10, 11, 12, 13, 14, 15, 16, 17, 18, 19]),\n",
       "              'y': array([2. , 2.1, 2.2, 2.3, 2.4, 2.5, 2.6, 2.7, 2.8, 2.9, 3. ]),\n",
       "              'z': array([[-27.01810365, -26.71519262, -26.48577533, -26.40830876, -26.23846865,\n",
       "                           -26.11703347, -26.08632411, -26.06192639, -26.05663754, -26.02285854,\n",
       "                           -25.94147718, -25.93861267, -25.90057456, -25.89586512, -25.9006802 ,\n",
       "                           -25.81970255],\n",
       "                          [-26.08276273, -25.69871843, -25.50769795, -25.42110799, -25.23703139,\n",
       "                           -25.13231706, -25.13160089, -25.1079865 , -25.08145986, -25.00445759,\n",
       "                           -25.01381807, -24.92063938, -24.91817112, -24.85562022, -24.81322877,\n",
       "                           -24.85022572],\n",
       "                          [-25.21616758, -24.91085544, -24.69146969, -24.48658174, -24.36665571,\n",
       "                           -24.29726208, -24.30718254, -24.28370728, -24.20522027, -24.20574338,\n",
       "                           -24.16987604, -24.11956488, -24.06675969, -24.07905805, -24.08298921,\n",
       "                           -24.07935767],\n",
       "                          [-24.48768425, -24.16146276, -23.93959623, -23.79601269, -23.69220473,\n",
       "                           -23.52244735, -23.43112139, -23.33016009, -23.37017253, -23.29433651,\n",
       "                           -23.28404663, -23.26915432, -23.26501319, -23.21504091, -23.19817141,\n",
       "                           -23.21329401],\n",
       "                          [-23.80736628, -23.54066395, -23.27846165, -23.01110573, -22.86411585,\n",
       "                           -22.74407462, -22.71755157, -22.65554799, -22.61137754, -22.5713492 ,\n",
       "                           -22.59864077, -22.60112935, -22.54486854, -22.53942072, -22.52672799,\n",
       "                           -22.51295714],\n",
       "                          [-23.11428514, -22.74548772, -22.45458005, -22.28188234, -22.15765298,\n",
       "                           -22.1124232 , -22.04092634, -21.96605115, -21.88997819, -21.78151762,\n",
       "                           -21.72052009, -21.72280921, -21.73971921, -21.71516625, -21.73252118,\n",
       "                           -21.6944121 ],\n",
       "                          [-22.55841716, -22.03350385, -21.90346342, -21.66876694, -21.6341595 ,\n",
       "                           -21.50934805, -21.40837649, -21.31807144, -21.25645899, -21.20736581,\n",
       "                           -21.1531859 , -21.13008527, -21.07111899, -21.01968027, -21.01184284,\n",
       "                           -21.01334   ],\n",
       "                          [-22.01557436, -21.53298059, -21.25820442, -21.05146505, -21.01190955,\n",
       "                           -20.86199827, -20.78232588, -20.66727896, -20.60490719, -20.58617675,\n",
       "                           -20.50110036, -20.48000129, -20.50567081, -20.47780972, -20.40767949,\n",
       "                           -20.39072644],\n",
       "                          [-21.3417251 , -20.92318967, -20.64374753, -20.43099795, -20.32249269,\n",
       "                           -20.20476369, -20.11394856, -20.08736664, -20.01428077, -19.92960402,\n",
       "                           -19.84167239, -19.88715771, -19.78707789, -19.75955142, -19.74258633,\n",
       "                           -19.71743021],\n",
       "                          [-20.80084992, -20.29642611, -19.99909843, -19.77514507, -19.63989857,\n",
       "                           -19.5837357 , -19.49084546, -19.40539976, -19.39883062, -19.36786639,\n",
       "                           -19.30532192, -19.22719101, -19.20880357, -19.2036789 , -19.19733315,\n",
       "                           -19.2066814 ],\n",
       "                          [-20.18841746, -19.66194034, -19.45090264, -19.270442  , -19.0707412 ,\n",
       "                           -18.96654699, -18.86756555, -18.81615213, -18.80543814, -18.78578682,\n",
       "                           -18.72047725, -18.70915607, -18.68676285, -18.63636847, -18.59642048,\n",
       "                           -18.58443798]])},\n",
       "             {'colorscale': [[0.0, '#0d0887'], [0.1111111111111111, '#46039f'],\n",
       "                             [0.2222222222222222, '#7201a8'], [0.3333333333333333,\n",
       "                             '#9c179e'], [0.4444444444444444, '#bd3786'],\n",
       "                             [0.5555555555555556, '#d8576b'], [0.6666666666666666,\n",
       "                             '#ed7953'], [0.7777777777777778, '#fb9f3a'],\n",
       "                             [0.8888888888888888, '#fdca26'], [1.0, '#f0f921']],\n",
       "              'hoverongaps': False,\n",
       "              'hovertemplate': 'st_period: %{x}<br>st_multiplier: %{y}<br>value: %{z}<extra></extra>',\n",
       "              'name': 'MES',\n",
       "              'type': 'heatmap',\n",
       "              'uid': '723381ce-fe3e-46e4-a3e0-9019b92e6bcd',\n",
       "              'visible': False,\n",
       "              'x': array([ 4,  5,  6,  7,  8,  9, 10, 11, 12, 13, 14, 15, 16, 17, 18, 19]),\n",
       "              'y': array([2. , 2.1, 2.2, 2.3, 2.4, 2.5, 2.6, 2.7, 2.8, 2.9, 3. ]),\n",
       "              'z': array([[-16.8232669 , -16.66720926, -16.52620414, -16.4650766 , -16.53243483,\n",
       "                           -16.57295932, -16.54842687, -16.59195095, -16.60287508, -16.54949581,\n",
       "                           -16.5107604 , -16.52456228, -16.55538636, -16.51433239, -16.55983113,\n",
       "                           -16.61109636],\n",
       "                          [-16.0306076 , -15.78433961, -15.79561168, -15.61180133, -15.55888806,\n",
       "                           -15.5537968 , -15.59298419, -15.64241907, -15.70859171, -15.72822711,\n",
       "                           -15.70489782, -15.70125575, -15.76607815, -15.77062047, -15.73594977,\n",
       "                           -15.71641441],\n",
       "                          [-15.3616993 , -15.13936198, -14.99816955, -14.95396309, -14.94407084,\n",
       "                           -15.00296994, -14.97942295, -14.99525784, -14.95389689, -15.01776049,\n",
       "                           -15.06686279, -15.0476759 , -15.09270388, -15.11457949, -15.07555133,\n",
       "                           -15.10878221],\n",
       "                          [-14.67368508, -14.5766865 , -14.46060831, -14.42531073, -14.41250489,\n",
       "                           -14.35372933, -14.25254286, -14.28985107, -14.31606875, -14.27583491,\n",
       "                           -14.26134335, -14.32969785, -14.34227341, -14.34629696, -14.37879283,\n",
       "                           -14.35320066],\n",
       "                          [-14.00604084, -13.8562054 , -13.63970866, -13.60608347, -13.67166962,\n",
       "                           -13.6557896 , -13.69980945, -13.74152869, -13.73064349, -13.63450358,\n",
       "                           -13.69359412, -13.68086564, -13.7160723 , -13.6889739 , -13.7203489 ,\n",
       "                           -13.73898322],\n",
       "                          [-13.49239033, -13.35429725, -13.17173441, -13.09091074, -13.07443787,\n",
       "                           -13.07683168, -13.0474774 , -13.13802512, -13.14159376, -13.11055722,\n",
       "                           -13.12942095, -13.10928317, -13.08652094, -13.14054407, -13.14935847,\n",
       "                           -13.20148134],\n",
       "                          [-12.91236453, -12.77524799, -12.7307915 , -12.61741047, -12.5836416 ,\n",
       "                           -12.55032787, -12.50788376, -12.43695351, -12.40643181, -12.44804452,\n",
       "                           -12.49130246, -12.4561755 , -12.51276873, -12.54118264, -12.56092268,\n",
       "                           -12.55064946],\n",
       "                          [-12.4049157 , -12.31184556, -12.14196286, -12.12691155, -12.04251129,\n",
       "                           -11.92937731, -11.87980997, -11.87398355, -11.86767928, -11.85526641,\n",
       "                           -11.82771126, -11.85261977, -11.87173209, -11.8933133 , -11.92434123,\n",
       "                           -11.92898836],\n",
       "                          [-11.86036356, -11.87313754, -11.77130074, -11.59079474, -11.50448023,\n",
       "                           -11.43769678, -11.36610427, -11.35844178, -11.33050102, -11.35316221,\n",
       "                           -11.39182225, -11.4290373 , -11.41871884, -11.4053987 , -11.4904919 ,\n",
       "                           -11.52547162],\n",
       "                          [-11.52507741, -11.30979671, -11.23059929, -11.05575165, -11.14669275,\n",
       "                           -11.03389563, -10.99063204, -11.01439839, -10.94476363, -10.9765961 ,\n",
       "                           -10.99462715, -11.06320787, -11.04030974, -11.03097996, -11.03518992,\n",
       "                           -11.02218001],\n",
       "                          [-10.9814304 , -10.91072274, -10.78938367, -10.77290117, -10.65728056,\n",
       "                           -10.59834598, -10.62798119, -10.60626401, -10.64872488, -10.58207931,\n",
       "                           -10.51722739, -10.52055565, -10.49930196, -10.57470927, -10.54698835,\n",
       "                           -10.5412286 ]])}],\n",
       "    'layout': {'height': 510,\n",
       "               'legend': {'orientation': 'h',\n",
       "                          'traceorder': 'normal',\n",
       "                          'x': 1,\n",
       "                          'xanchor': 'right',\n",
       "                          'y': 1.02,\n",
       "                          'yanchor': 'bottom'},\n",
       "               'margin': {'b': 30, 'l': 30, 'r': 30, 't': 30},\n",
       "               'sliders': [{'active': 0,\n",
       "                            'currentvalue': {'prefix': 'symbol: '},\n",
       "                            'pad': {'t': 50},\n",
       "                            'steps': [{'args': [{'visible': [True, False]}, {}], 'label': '6B', 'method': 'update'},\n",
       "                                      {'args': [{'visible': [False, True]}, {}], 'label': 'MES', 'method': 'update'}]}],\n",
       "               'template': '...',\n",
       "               'width': 651,\n",
       "               'xaxis': {'title': {'text': 'st_period'}},\n",
       "               'yaxis': {'title': {'text': 'st_multiplier'}}}\n",
       "})"
      ]
     },
     "execution_count": 66,
     "metadata": {},
     "output_type": "execute_result"
    }
   ],
   "source": [
    "pf.sharpe_ratio.vbt.heatmap(slider_level=\"symbol\")"
   ]
  }
 ],
 "metadata": {
  "kernelspec": {
   "display_name": "trading",
   "language": "python",
   "name": "python3"
  },
  "language_info": {
   "codemirror_mode": {
    "name": "ipython",
    "version": 3
   },
   "file_extension": ".py",
   "mimetype": "text/x-python",
   "name": "python",
   "nbconvert_exporter": "python",
   "pygments_lexer": "ipython3",
   "version": "3.12.9"
  }
 },
 "nbformat": 4,
 "nbformat_minor": 5
}
