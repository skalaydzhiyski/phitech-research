{
 "cells": [
  {
   "cell_type": "code",
   "execution_count": 1,
   "id": "62b375f6-cbbd-4f4f-9aca-4dcbce8e56cc",
   "metadata": {},
   "outputs": [
    {
     "name": "stderr",
     "output_type": "stream",
     "text": [
      "/Users/e1211913/miniconda3/envs/trading/lib/python3.12/site-packages/telegram/utils/request.py:49: UserWarning: python-telegram-bot is using upstream urllib3. This is allowed but not supported by python-telegram-bot maintainers.\n",
      "  warnings.warn(\n"
     ]
    },
    {
     "name": "stdout",
     "output_type": "stream",
     "text": [
      "logging mode: dev\n"
     ]
    }
   ],
   "source": [
    "import sys\n",
    "\n",
    "sys.path.append(\"../\")\n",
    "\n",
    "import pandas as pd\n",
    "import numpy as np\n",
    "import datetime\n",
    "import os\n",
    "from pprint import pprint\n",
    "import matplotlib.pyplot as plt\n",
    "import time\n",
    "import vectorbtpro as vbt\n",
    "from time import time\n",
    "import helpers as pth\n",
    "import platform\n",
    "from dotenv import load_dotenv\n",
    "import scipy.stats as stats\n",
    "import time\n",
    "import helpers as pth\n",
    "from numba import njit\n",
    "import talib\n",
    "\n",
    "theme = \"light\"\n",
    "vbt.settings.set_theme(theme)\n",
    "\n",
    "pd.set_option(\"display.max_rows\", 100)\n",
    "pd.set_option(\"display.max_columns\", 20)\n",
    "# plt.rcParams[\"axes.grid\"] = True\n",
    "plt.rcParams[\"figure.figsize\"] = (12, 7)\n",
    "plt.rcParams[\"axes.formatter.useoffset\"] = False\n",
    "plt.rcParams[\"axes.formatter.limits\"] = [-1000000000, 1000000000]\n",
    "plt.style.use(\"classic\" if theme == \"light\" else \"dark_background\")\n",
    "\n",
    "if platform.system().lower() == \"windows\":\n",
    "    base_data_path = \"H:\\\\phitech-data\\\\01_raw\"\n",
    "else:\n",
    "    from core_chains.simple.llm import make_Q_chain\n",
    "\n",
    "    base_data_path = \"../../phitech-data/01_raw\"\n",
    "    load_dotenv(\"../../sandatasci-core/credentials\")\n",
    "    Q = make_Q_chain(\"gpt-4o-instance1\", __vsc_ipynb_file__)"
   ]
  },
  {
   "cell_type": "code",
   "execution_count": 2,
   "id": "66d01b62",
   "metadata": {},
   "outputs": [
    {
     "data": {
      "text/html": [
       "<style>\n",
       ".dataframe {\n",
       "    font-size: 9pt; /* Adjust font size as needed */\n",
       "}\n",
       "</style>\n"
      ],
      "text/plain": [
       "<IPython.core.display.HTML object>"
      ]
     },
     "metadata": {},
     "output_type": "display_data"
    }
   ],
   "source": [
    "%%html\n",
    "<style>\n",
    ".dataframe {\n",
    "    font-size: 9pt; /* Adjust font size as needed */\n",
    "}\n",
    "</style>"
   ]
  },
  {
   "cell_type": "code",
   "execution_count": 3,
   "id": "267c3e1b",
   "metadata": {},
   "outputs": [
    {
     "data": {
      "application/vnd.jupyter.widget-view+json": {
       "model_id": "8a17bcb84ef8497d8f1a90d6ffd5f25d",
       "version_major": 2,
       "version_minor": 0
      },
      "text/plain": [
       "100%|##########| 2/2 [00:02<00:00,  1.40s/it, symbol=6B]"
      ]
     },
     "metadata": {},
     "output_type": "display_data"
    },
    {
     "name": "stderr",
     "output_type": "stream",
     "text": [
      "/Users/e1211913/miniconda3/envs/trading/lib/python3.12/site-packages/vectorbtpro/data/base.py:1728: VBTWarning: Symbols have mismatching index. Setting missing data points to NaN.\n"
     ]
    },
    {
     "data": {
      "text/plain": [
       "<helpers.SierraChartData at 0x1757c1a00>"
      ]
     },
     "execution_count": 3,
     "metadata": {},
     "output_type": "execute_result"
    }
   ],
   "source": [
    "symbols = [\"MES\", \"6B\"]\n",
    "df = pth.SierraChartData.pull(\n",
    "    symbols,\n",
    "    timeframe=\"1min\",\n",
    "    start=\"2024-08-01\",\n",
    "    end=\"2024-12-01\",\n",
    ")\n",
    "df"
   ]
  },
  {
   "cell_type": "code",
   "execution_count": 4,
   "id": "8bc91f2d",
   "metadata": {},
   "outputs": [
    {
     "name": "stdout",
     "output_type": "stream",
     "text": [
      "<class 'pandas.core.frame.DataFrame'>\n",
      "DatetimeIndex: 119631 entries, 2024-08-01 00:00:00+00:00 to 2024-12-01 23:59:00+00:00\n",
      "Data columns (total 11 columns):\n",
      " #   Column       Non-Null Count   Dtype  \n",
      "---  ------       --------------   -----  \n",
      " 0   open         119331 non-null  float64\n",
      " 1   high         119331 non-null  float64\n",
      " 2   low          119331 non-null  float64\n",
      " 3   close        119331 non-null  float64\n",
      " 4   volume       119331 non-null  float64\n",
      " 5   #_of_trades  119331 non-null  float64\n",
      " 6   ohlc_avg     119331 non-null  float64\n",
      " 7   hlc_avg      119331 non-null  float64\n",
      " 8   hl_avg       119331 non-null  float64\n",
      " 9   bid_volume   119331 non-null  float64\n",
      " 10  ask_volume   119331 non-null  float64\n",
      "dtypes: float64(11)\n",
      "memory usage: 11.0 MB\n"
     ]
    }
   ],
   "source": [
    "df.data[\"MES\"].info()"
   ]
  },
  {
   "cell_type": "code",
   "execution_count": 5,
   "id": "71dd81d0",
   "metadata": {},
   "outputs": [
    {
     "data": {
      "text/html": [
       "<div>\n",
       "<style scoped>\n",
       "    .dataframe tbody tr th:only-of-type {\n",
       "        vertical-align: middle;\n",
       "    }\n",
       "\n",
       "    .dataframe tbody tr th {\n",
       "        vertical-align: top;\n",
       "    }\n",
       "\n",
       "    .dataframe thead th {\n",
       "        text-align: right;\n",
       "    }\n",
       "</style>\n",
       "<table border=\"1\" class=\"dataframe\">\n",
       "  <thead>\n",
       "    <tr style=\"text-align: right;\">\n",
       "      <th>symbol</th>\n",
       "      <th>MES</th>\n",
       "      <th>6B</th>\n",
       "    </tr>\n",
       "    <tr>\n",
       "      <th>timestamp</th>\n",
       "      <th></th>\n",
       "      <th></th>\n",
       "    </tr>\n",
       "  </thead>\n",
       "  <tbody>\n",
       "    <tr>\n",
       "      <th>2024-08-01 00:00:00+00:00</th>\n",
       "      <td>5714.75</td>\n",
       "      <td>1.2858</td>\n",
       "    </tr>\n",
       "    <tr>\n",
       "      <th>2024-08-01 00:01:00+00:00</th>\n",
       "      <td>5715.25</td>\n",
       "      <td>1.2858</td>\n",
       "    </tr>\n",
       "    <tr>\n",
       "      <th>2024-08-01 00:02:00+00:00</th>\n",
       "      <td>5715.50</td>\n",
       "      <td>1.2858</td>\n",
       "    </tr>\n",
       "    <tr>\n",
       "      <th>2024-08-01 00:03:00+00:00</th>\n",
       "      <td>5714.50</td>\n",
       "      <td>1.2857</td>\n",
       "    </tr>\n",
       "    <tr>\n",
       "      <th>2024-08-01 00:05:00+00:00</th>\n",
       "      <td>5713.75</td>\n",
       "      <td>1.2857</td>\n",
       "    </tr>\n",
       "    <tr>\n",
       "      <th>...</th>\n",
       "      <td>...</td>\n",
       "      <td>...</td>\n",
       "    </tr>\n",
       "    <tr>\n",
       "      <th>2024-12-01 23:55:00+00:00</th>\n",
       "      <td>6115.00</td>\n",
       "      <td>1.2689</td>\n",
       "    </tr>\n",
       "    <tr>\n",
       "      <th>2024-12-01 23:56:00+00:00</th>\n",
       "      <td>6115.25</td>\n",
       "      <td>1.2689</td>\n",
       "    </tr>\n",
       "    <tr>\n",
       "      <th>2024-12-01 23:57:00+00:00</th>\n",
       "      <td>6115.75</td>\n",
       "      <td>1.2690</td>\n",
       "    </tr>\n",
       "    <tr>\n",
       "      <th>2024-12-01 23:58:00+00:00</th>\n",
       "      <td>6116.00</td>\n",
       "      <td>1.2693</td>\n",
       "    </tr>\n",
       "    <tr>\n",
       "      <th>2024-12-01 23:59:00+00:00</th>\n",
       "      <td>6115.75</td>\n",
       "      <td>1.2692</td>\n",
       "    </tr>\n",
       "  </tbody>\n",
       "</table>\n",
       "<p>110541 rows × 2 columns</p>\n",
       "</div>"
      ],
      "text/plain": [
       "symbol                         MES      6B\n",
       "timestamp                                 \n",
       "2024-08-01 00:00:00+00:00  5714.75  1.2858\n",
       "2024-08-01 00:01:00+00:00  5715.25  1.2858\n",
       "2024-08-01 00:02:00+00:00  5715.50  1.2858\n",
       "2024-08-01 00:03:00+00:00  5714.50  1.2857\n",
       "2024-08-01 00:05:00+00:00  5713.75  1.2857\n",
       "...                            ...     ...\n",
       "2024-12-01 23:55:00+00:00  6115.00  1.2689\n",
       "2024-12-01 23:56:00+00:00  6115.25  1.2689\n",
       "2024-12-01 23:57:00+00:00  6115.75  1.2690\n",
       "2024-12-01 23:58:00+00:00  6116.00  1.2693\n",
       "2024-12-01 23:59:00+00:00  6115.75  1.2692\n",
       "\n",
       "[110541 rows x 2 columns]"
      ]
     },
     "execution_count": 5,
     "metadata": {},
     "output_type": "execute_result"
    }
   ],
   "source": [
    "high, low, close = (\n",
    "    df.get(\"High\").dropna(),\n",
    "    df.get(\"Low\").dropna(),\n",
    "    df.get(\"Close\").dropna(),\n",
    ")\n",
    "close"
   ]
  },
  {
   "cell_type": "markdown",
   "id": "269bc5a7",
   "metadata": {},
   "source": [
    "### Pandas Implementation"
   ]
  },
  {
   "cell_type": "code",
   "execution_count": 6,
   "id": "2287c5c8",
   "metadata": {},
   "outputs": [],
   "source": [
    "def get_mid_price(high, low):\n",
    "    return (high + low) / 2\n",
    "\n",
    "\n",
    "def get_atr(high, low, close, period):\n",
    "    tr0 = abs(high - low)\n",
    "    tr1 = abs(high - close.shift(1))\n",
    "    tr2 = abs(low - close.shift(1))\n",
    "    tr = pd.concat((tr0, tr1, tr2), axis=1).max(axis=1)\n",
    "    atr = tr.ewm(alpha=1 / period, adjust=False, min_periods=period).mean()\n",
    "    return atr\n",
    "\n",
    "\n",
    "def get_basic_bands(midprice, atr, multiplier):\n",
    "    matr = multiplier * atr\n",
    "    upper = midprice + matr\n",
    "    lower = midprice - matr\n",
    "    return upper, lower\n",
    "\n",
    "\n",
    "def get_final_bands(close, upper, lower):\n",
    "    trend = pd.Series(np.full(close.shape, np.nan), index=close.index)\n",
    "    direction = pd.Series(np.full(close.shape, 1), index=close.index)\n",
    "    long = pd.Series(np.full(close.shape, np.nan), index=close.index)\n",
    "    short = pd.Series(np.full(close.shape, np.nan), index=close.index)\n",
    "\n",
    "    for i in range(1, close.shape[0]):\n",
    "        if close.iloc[i] > upper.iloc[i - 1]:\n",
    "            direction.iloc[i] = 1\n",
    "        elif close.iloc[i] < lower.iloc[i - 1]:\n",
    "            direction.iloc[i] = -1\n",
    "        else:\n",
    "            direction.iloc[i] = direction.iloc[i - 1]\n",
    "            if direction.iloc[i] > 0 and lower.iloc[i] < lower.iloc[i - 1]:\n",
    "                lower.iloc[i] = lower.iloc[i - 1]\n",
    "            if direction.iloc[i] < 0 and upper.iloc[i] > upper.iloc[i - 1]:\n",
    "                upper.iloc[i] = upper.iloc[i - 1]\n",
    "\n",
    "        if direction.iloc[i] > 0:\n",
    "            trend.iloc[i] = long.iloc[i] = lower.iloc[i]\n",
    "        else:\n",
    "            trend.iloc[i] = short.iloc[i] = upper.iloc[i]\n",
    "\n",
    "    return trend, direction, long, short\n",
    "\n",
    "\n",
    "def supertrend(high, low, close, period=7, multiplier=3):\n",
    "    midprice = get_mid_price(high, low)\n",
    "    atr = get_atr(high, low, close, period=period)\n",
    "    upper, lower = get_basic_bands(midprice, atr, multiplier=multiplier)\n",
    "    return get_final_bands(close, upper, lower)"
   ]
  },
  {
   "cell_type": "code",
   "execution_count": 8,
   "id": "cfdd10c5",
   "metadata": {},
   "outputs": [],
   "source": [
    "# %%timeit\n",
    "ticker = \"MES\"\n",
    "supert, superd, superl, supers = supertrend(high[ticker], low[ticker], close[ticker])"
   ]
  },
  {
   "cell_type": "code",
   "execution_count": 9,
   "id": "6d571d81",
   "metadata": {},
   "outputs": [
    {
     "data": {
      "application/vnd.jupyter.widget-view+json": {
       "model_id": "74e27f60b8ef4acc8f723d647bddbf6b",
       "version_major": 2,
       "version_minor": 0
      },
      "text/plain": [
       "FigureWidget({\n",
       "    'data': [{'name': 'MES',\n",
       "              'showlegend': True,\n",
       "              'type': 'scatter',\n",
       "              'uid': '7625f58b-a07e-4ca5-b6ea-df22fec4f4af',\n",
       "              'x': array([datetime.datetime(2024, 8, 1, 0, 0, tzinfo=datetime.timezone.utc),\n",
       "                          datetime.datetime(2024, 8, 1, 0, 1, tzinfo=datetime.timezone.utc),\n",
       "                          datetime.datetime(2024, 8, 1, 0, 2, tzinfo=datetime.timezone.utc), ...,\n",
       "                          datetime.datetime(2024, 12, 1, 23, 57, tzinfo=datetime.timezone.utc),\n",
       "                          datetime.datetime(2024, 12, 1, 23, 58, tzinfo=datetime.timezone.utc),\n",
       "                          datetime.datetime(2024, 12, 1, 23, 59, tzinfo=datetime.timezone.utc)],\n",
       "                         dtype=object),\n",
       "              'y': array([5714.75, 5715.25, 5715.5 , ..., 6115.75, 6116.  , 6115.75])},\n",
       "             {'showlegend': False,\n",
       "              'type': 'scatter',\n",
       "              'uid': '3859056b-81b7-4765-99f1-a7af79d29efe',\n",
       "              'x': array([datetime.datetime(2024, 8, 1, 0, 0, tzinfo=datetime.timezone.utc),\n",
       "                          datetime.datetime(2024, 8, 1, 0, 1, tzinfo=datetime.timezone.utc),\n",
       "                          datetime.datetime(2024, 8, 1, 0, 2, tzinfo=datetime.timezone.utc), ...,\n",
       "                          datetime.datetime(2024, 12, 1, 23, 57, tzinfo=datetime.timezone.utc),\n",
       "                          datetime.datetime(2024, 12, 1, 23, 58, tzinfo=datetime.timezone.utc),\n",
       "                          datetime.datetime(2024, 12, 1, 23, 59, tzinfo=datetime.timezone.utc)],\n",
       "                         dtype=object),\n",
       "              'y': array([          nan,           nan,           nan, ..., 6117.73618405,\n",
       "                          6117.73618405, 6117.73618405])},\n",
       "             {'showlegend': False,\n",
       "              'type': 'scatter',\n",
       "              'uid': '10ec4bf4-16bf-4b85-8b67-b5d64299438d',\n",
       "              'x': array([datetime.datetime(2024, 8, 1, 0, 0, tzinfo=datetime.timezone.utc),\n",
       "                          datetime.datetime(2024, 8, 1, 0, 1, tzinfo=datetime.timezone.utc),\n",
       "                          datetime.datetime(2024, 8, 1, 0, 2, tzinfo=datetime.timezone.utc), ...,\n",
       "                          datetime.datetime(2024, 12, 1, 23, 57, tzinfo=datetime.timezone.utc),\n",
       "                          datetime.datetime(2024, 12, 1, 23, 58, tzinfo=datetime.timezone.utc),\n",
       "                          datetime.datetime(2024, 12, 1, 23, 59, tzinfo=datetime.timezone.utc)],\n",
       "                         dtype=object),\n",
       "              'y': array([nan, nan, nan, ..., nan, nan, nan])}],\n",
       "    'layout': {'height': 350,\n",
       "               'legend': {'orientation': 'h',\n",
       "                          'traceorder': 'normal',\n",
       "                          'x': 1,\n",
       "                          'xanchor': 'right',\n",
       "                          'y': 1.02,\n",
       "                          'yanchor': 'bottom'},\n",
       "               'margin': {'b': 30, 'l': 30, 'r': 30, 't': 30},\n",
       "               'template': '...',\n",
       "               'width': 700}\n",
       "})"
      ]
     },
     "execution_count": 9,
     "metadata": {},
     "output_type": "execute_result"
    }
   ],
   "source": [
    "fig = close[ticker].vbt.plot()\n",
    "supers.vbt.plot(fig=fig)\n",
    "superl.vbt.plot(fig=fig)"
   ]
  },
  {
   "cell_type": "markdown",
   "id": "10a36974",
   "metadata": {},
   "source": [
    "### Numpy + Numba"
   ]
  },
  {
   "cell_type": "code",
   "execution_count": 7,
   "id": "0d55d64f",
   "metadata": {},
   "outputs": [],
   "source": [
    "def get_atr_np(high, low, close, period):\n",
    "    shifted_close = vbt.nb.fshift_1d_nb(close, 1)\n",
    "    tr0 = np.abs(high - low)\n",
    "    tr1 = np.abs(high - shifted_close)\n",
    "    tr2 = np.abs(low - shifted_close)\n",
    "    tr = np.column_stack((tr0, tr1, tr2)).max(axis=1)\n",
    "    atr = vbt.nb.wwm_mean_1d_nb(tr, period)\n",
    "    return atr\n",
    "\n",
    "\n",
    "@njit\n",
    "def get_final_bands_nb(close, upper, lower):\n",
    "    trend = np.full(close.shape, np.nan)\n",
    "    direction = np.full(close.shape, 1)\n",
    "    long = np.full(close.shape, np.nan)\n",
    "    short = np.full(close.shape, np.nan)\n",
    "\n",
    "    for i in range(1, close.shape[0]):\n",
    "        if close[i] > upper[i - 1]:\n",
    "            direction[i] = 1\n",
    "        elif close[i] < lower[i - 1]:\n",
    "            direction[i] = -1\n",
    "        else:\n",
    "            direction[i] = direction[i - 1]\n",
    "            if direction[i] > 0 and lower[i] < lower[i - 1]:\n",
    "                lower[i] = lower[i - 1]\n",
    "            if direction[i] < 0 and upper[i] > upper[i - 1]:\n",
    "                upper[i] = upper[i - 1]\n",
    "\n",
    "        if direction[i] > 0:\n",
    "            trend[i] = long[i] = lower[i]\n",
    "        else:\n",
    "            trend[i] = short[i] = upper[i]\n",
    "\n",
    "    return trend, direction, long, short\n",
    "\n",
    "\n",
    "def faster_supertrend_nb(high, low, close, period=7, multiplier=3):\n",
    "    midprice = get_mid_price(high, low)\n",
    "    atr = get_atr_np(high, low, close, period)\n",
    "    upper, lower = get_basic_bands(midprice, atr, multiplier)\n",
    "    return get_final_bands_nb(close, upper, lower)"
   ]
  },
  {
   "cell_type": "code",
   "execution_count": 11,
   "id": "869ed729",
   "metadata": {},
   "outputs": [
    {
     "name": "stdout",
     "output_type": "stream",
     "text": [
      "4.14 ms ± 190 μs per loop (mean ± std. dev. of 7 runs, 1 loop each)\n"
     ]
    }
   ],
   "source": [
    "%%timeit\n",
    "faster_supertrend_nb(\n",
    "    high[ticker].values, low[ticker].values, close[ticker].values\n",
    ")"
   ]
  },
  {
   "cell_type": "code",
   "execution_count": 8,
   "id": "e14c2781",
   "metadata": {},
   "outputs": [],
   "source": [
    "def faster_supertrend_talib(high, low, close, period=7, multiplier=3):\n",
    "    midprice = talib.MEDPRICE(high, low)\n",
    "    atr = talib.ATR(high, low, close, period)\n",
    "    upper, lower = get_basic_bands(midprice, atr, multiplier)\n",
    "    return get_final_bands_nb(close, upper, lower)"
   ]
  },
  {
   "cell_type": "code",
   "execution_count": 13,
   "id": "dc5d8b16",
   "metadata": {},
   "outputs": [
    {
     "name": "stdout",
     "output_type": "stream",
     "text": [
      "1.39 ms ± 20.1 μs per loop (mean ± std. dev. of 7 runs, 1,000 loops each)\n"
     ]
    }
   ],
   "source": [
    "%%timeit\n",
    "faster_supertrend_talib(high[ticker].values, low[ticker].values, close[ticker].values)"
   ]
  },
  {
   "cell_type": "code",
   "execution_count": 9,
   "id": "54e386b4",
   "metadata": {},
   "outputs": [
    {
     "data": {
      "text/plain": [
       "vectorbtpro.indicators.factory.SuperTrend"
      ]
     },
     "execution_count": 9,
     "metadata": {},
     "output_type": "execute_result"
    }
   ],
   "source": [
    "SuperTrend = vbt.IndicatorFactory(\n",
    "    class_name=\"SuperTrend\",\n",
    "    short_name=\"st\",\n",
    "    input_names=[\"high\", \"low\", \"close\"],\n",
    "    param_names=[\"period\", \"multiplier\"],\n",
    "    output_names=[\"supert\", \"superd\", \"superl\", \"supers\"],\n",
    ").with_apply_func(\n",
    "    faster_supertrend_talib,\n",
    "    takes_1d=True,\n",
    "    period=7,\n",
    "    multiplier=3,\n",
    ")\n",
    "SuperTrend"
   ]
  },
  {
   "cell_type": "code",
   "execution_count": 15,
   "id": "3002f5a2",
   "metadata": {},
   "outputs": [
    {
     "data": {
      "text/plain": [
       "<vectorbtpro.indicators.factory.SuperTrend at 0x178cbaff0>"
      ]
     },
     "execution_count": 15,
     "metadata": {},
     "output_type": "execute_result"
    }
   ],
   "source": [
    "# %%timeit\n",
    "st = SuperTrend.run(high, low, close)\n",
    "st"
   ]
  },
  {
   "cell_type": "code",
   "execution_count": 16,
   "id": "477ce654",
   "metadata": {},
   "outputs": [
    {
     "data": {
      "application/vnd.jupyter.widget-view+json": {
       "model_id": "9849800087e54d37a70ab71174dfb18f",
       "version_major": 2,
       "version_minor": 0
      },
      "text/plain": [
       "FigureWidget({\n",
       "    'data': [{'name': 'MES',\n",
       "              'showlegend': True,\n",
       "              'type': 'scatter',\n",
       "              'uid': '89dd3b63-50ab-435b-8c1c-d3f8da84268e',\n",
       "              'x': array([datetime.datetime(2024, 8, 1, 0, 0, tzinfo=datetime.timezone.utc),\n",
       "                          datetime.datetime(2024, 8, 1, 0, 1, tzinfo=datetime.timezone.utc),\n",
       "                          datetime.datetime(2024, 8, 1, 0, 2, tzinfo=datetime.timezone.utc), ...,\n",
       "                          datetime.datetime(2024, 12, 1, 23, 57, tzinfo=datetime.timezone.utc),\n",
       "                          datetime.datetime(2024, 12, 1, 23, 58, tzinfo=datetime.timezone.utc),\n",
       "                          datetime.datetime(2024, 12, 1, 23, 59, tzinfo=datetime.timezone.utc)],\n",
       "                         dtype=object),\n",
       "              'y': array([5714.75, 5715.25, 5715.5 , ..., 6115.75, 6116.  , 6115.75])},\n",
       "             {'name': 'MES',\n",
       "              'showlegend': True,\n",
       "              'type': 'scatter',\n",
       "              'uid': 'da251e45-8426-427c-99f6-e4c5e7360d5e',\n",
       "              'x': array([datetime.datetime(2024, 8, 1, 0, 0, tzinfo=datetime.timezone.utc),\n",
       "                          datetime.datetime(2024, 8, 1, 0, 1, tzinfo=datetime.timezone.utc),\n",
       "                          datetime.datetime(2024, 8, 1, 0, 2, tzinfo=datetime.timezone.utc), ...,\n",
       "                          datetime.datetime(2024, 12, 1, 23, 57, tzinfo=datetime.timezone.utc),\n",
       "                          datetime.datetime(2024, 12, 1, 23, 58, tzinfo=datetime.timezone.utc),\n",
       "                          datetime.datetime(2024, 12, 1, 23, 59, tzinfo=datetime.timezone.utc)],\n",
       "                         dtype=object),\n",
       "              'y': array([nan, nan, nan, ..., nan, nan, nan])},\n",
       "             {'name': 'MES',\n",
       "              'showlegend': True,\n",
       "              'type': 'scatter',\n",
       "              'uid': 'da7efcf2-4c20-4274-884f-524425cce4c8',\n",
       "              'x': array([datetime.datetime(2024, 8, 1, 0, 0, tzinfo=datetime.timezone.utc),\n",
       "                          datetime.datetime(2024, 8, 1, 0, 1, tzinfo=datetime.timezone.utc),\n",
       "                          datetime.datetime(2024, 8, 1, 0, 2, tzinfo=datetime.timezone.utc), ...,\n",
       "                          datetime.datetime(2024, 12, 1, 23, 57, tzinfo=datetime.timezone.utc),\n",
       "                          datetime.datetime(2024, 12, 1, 23, 58, tzinfo=datetime.timezone.utc),\n",
       "                          datetime.datetime(2024, 12, 1, 23, 59, tzinfo=datetime.timezone.utc)],\n",
       "                         dtype=object),\n",
       "              'y': array([          nan,           nan,           nan, ..., 6117.73618405,\n",
       "                          6117.73618405, 6117.73618405])}],\n",
       "    'layout': {'height': 350,\n",
       "               'legend': {'orientation': 'h',\n",
       "                          'traceorder': 'normal',\n",
       "                          'x': 1,\n",
       "                          'xanchor': 'right',\n",
       "                          'y': 1.02,\n",
       "                          'yanchor': 'bottom'},\n",
       "               'margin': {'b': 30, 'l': 30, 'r': 30, 't': 30},\n",
       "               'template': '...',\n",
       "               'width': 700}\n",
       "})"
      ]
     },
     "execution_count": 16,
     "metadata": {},
     "output_type": "execute_result"
    }
   ],
   "source": [
    "fig = close[ticker].vbt.plot()\n",
    "st.superl[ticker].vbt.plot(fig=fig)\n",
    "st.supers[ticker].vbt.plot(fig=fig)"
   ]
  },
  {
   "cell_type": "code",
   "execution_count": 17,
   "id": "46a57767",
   "metadata": {},
   "outputs": [
    {
     "data": {
      "text/html": [
       "<div>\n",
       "<style scoped>\n",
       "    .dataframe tbody tr th:only-of-type {\n",
       "        vertical-align: middle;\n",
       "    }\n",
       "\n",
       "    .dataframe tbody tr th {\n",
       "        vertical-align: top;\n",
       "    }\n",
       "\n",
       "    .dataframe thead th {\n",
       "        text-align: right;\n",
       "    }\n",
       "</style>\n",
       "<table border=\"1\" class=\"dataframe\">\n",
       "  <thead>\n",
       "    <tr style=\"text-align: right;\">\n",
       "      <th>symbol</th>\n",
       "      <th>MES</th>\n",
       "      <th>6B</th>\n",
       "    </tr>\n",
       "    <tr>\n",
       "      <th>timestamp</th>\n",
       "      <th></th>\n",
       "      <th></th>\n",
       "    </tr>\n",
       "  </thead>\n",
       "  <tbody>\n",
       "    <tr>\n",
       "      <th>2024-08-01 00:00:00+00:00</th>\n",
       "      <td>False</td>\n",
       "      <td>False</td>\n",
       "    </tr>\n",
       "    <tr>\n",
       "      <th>2024-08-01 00:01:00+00:00</th>\n",
       "      <td>False</td>\n",
       "      <td>False</td>\n",
       "    </tr>\n",
       "    <tr>\n",
       "      <th>2024-08-01 00:02:00+00:00</th>\n",
       "      <td>False</td>\n",
       "      <td>False</td>\n",
       "    </tr>\n",
       "    <tr>\n",
       "      <th>2024-08-01 00:03:00+00:00</th>\n",
       "      <td>False</td>\n",
       "      <td>False</td>\n",
       "    </tr>\n",
       "    <tr>\n",
       "      <th>2024-08-01 00:05:00+00:00</th>\n",
       "      <td>False</td>\n",
       "      <td>False</td>\n",
       "    </tr>\n",
       "    <tr>\n",
       "      <th>...</th>\n",
       "      <td>...</td>\n",
       "      <td>...</td>\n",
       "    </tr>\n",
       "    <tr>\n",
       "      <th>2024-12-01 23:55:00+00:00</th>\n",
       "      <td>False</td>\n",
       "      <td>False</td>\n",
       "    </tr>\n",
       "    <tr>\n",
       "      <th>2024-12-01 23:56:00+00:00</th>\n",
       "      <td>False</td>\n",
       "      <td>False</td>\n",
       "    </tr>\n",
       "    <tr>\n",
       "      <th>2024-12-01 23:57:00+00:00</th>\n",
       "      <td>False</td>\n",
       "      <td>False</td>\n",
       "    </tr>\n",
       "    <tr>\n",
       "      <th>2024-12-01 23:58:00+00:00</th>\n",
       "      <td>False</td>\n",
       "      <td>False</td>\n",
       "    </tr>\n",
       "    <tr>\n",
       "      <th>2024-12-01 23:59:00+00:00</th>\n",
       "      <td>False</td>\n",
       "      <td>False</td>\n",
       "    </tr>\n",
       "  </tbody>\n",
       "</table>\n",
       "<p>110541 rows × 2 columns</p>\n",
       "</div>"
      ],
      "text/plain": [
       "symbol                       MES     6B\n",
       "timestamp                              \n",
       "2024-08-01 00:00:00+00:00  False  False\n",
       "2024-08-01 00:01:00+00:00  False  False\n",
       "2024-08-01 00:02:00+00:00  False  False\n",
       "2024-08-01 00:03:00+00:00  False  False\n",
       "2024-08-01 00:05:00+00:00  False  False\n",
       "...                          ...    ...\n",
       "2024-12-01 23:55:00+00:00  False  False\n",
       "2024-12-01 23:56:00+00:00  False  False\n",
       "2024-12-01 23:57:00+00:00  False  False\n",
       "2024-12-01 23:58:00+00:00  False  False\n",
       "2024-12-01 23:59:00+00:00  False  False\n",
       "\n",
       "[110541 rows x 2 columns]"
      ]
     },
     "execution_count": 17,
     "metadata": {},
     "output_type": "execute_result"
    }
   ],
   "source": [
    "entries = (~st.superl.isnull()).vbt.signals.fshift()\n",
    "exits = (~st.supers.isnull()).vbt.signals.fshift()\n",
    "entries"
   ]
  },
  {
   "cell_type": "code",
   "execution_count": 18,
   "id": "145b1ec9",
   "metadata": {},
   "outputs": [
    {
     "data": {
      "text/plain": [
       "<vectorbtpro.portfolio.base.Portfolio at 0x1791c8f50>"
      ]
     },
     "execution_count": 18,
     "metadata": {},
     "output_type": "execute_result"
    }
   ],
   "source": [
    "pf = vbt.Portfolio.from_signals(close, entries, exits, freq=\"1min\")\n",
    "pf"
   ]
  },
  {
   "cell_type": "code",
   "execution_count": 19,
   "id": "bd3fd816",
   "metadata": {},
   "outputs": [
    {
     "data": {
      "application/vnd.jupyter.widget-view+json": {
       "model_id": "460ff3b664b34fb9aa30734477c07ad6",
       "version_major": 2,
       "version_minor": 0
      },
      "text/plain": [
       "FigureWidget({\n",
       "    'data': [{'hoverinfo': 'skip',\n",
       "              'line': {'color': 'rgba(0, 0, 0, 0)', 'width': 0},\n",
       "              'mode': 'lines',\n",
       "              'opacity': 0,\n",
       "              'showlegend': False,\n",
       "              'type': 'scatter',\n",
       "              'uid': '3d344db5-f02f-4f3d-8cae-e28c2225d31c',\n",
       "              'x': array([datetime.datetime(2024, 8, 1, 0, 0, tzinfo=datetime.timezone.utc),\n",
       "                          datetime.datetime(2024, 8, 1, 0, 1, tzinfo=datetime.timezone.utc),\n",
       "                          datetime.datetime(2024, 8, 1, 0, 2, tzinfo=datetime.timezone.utc), ...,\n",
       "                          datetime.datetime(2024, 12, 1, 23, 57, tzinfo=datetime.timezone.utc),\n",
       "                          datetime.datetime(2024, 12, 1, 23, 58, tzinfo=datetime.timezone.utc),\n",
       "                          datetime.datetime(2024, 12, 1, 23, 59, tzinfo=datetime.timezone.utc)],\n",
       "                         dtype=object),\n",
       "              'y': array([100., 100., 100., ..., 100., 100., 100.])},\n",
       "             {'connectgaps': False,\n",
       "              'fill': 'tonexty',\n",
       "              'fillcolor': 'rgba(148,103,189,0.3000)',\n",
       "              'hoverinfo': 'skip',\n",
       "              'line': {'color': 'rgba(0, 0, 0, 0)', 'width': 0},\n",
       "              'mode': 'lines',\n",
       "              'opacity': 0,\n",
       "              'showlegend': False,\n",
       "              'type': 'scatter',\n",
       "              'uid': '2ab22c8d-8e34-4e08-910d-bccadae1297d',\n",
       "              'x': array([datetime.datetime(2024, 8, 1, 0, 0, tzinfo=datetime.timezone.utc),\n",
       "                          datetime.datetime(2024, 8, 1, 0, 1, tzinfo=datetime.timezone.utc),\n",
       "                          datetime.datetime(2024, 8, 1, 0, 2, tzinfo=datetime.timezone.utc), ...,\n",
       "                          datetime.datetime(2024, 12, 1, 23, 57, tzinfo=datetime.timezone.utc),\n",
       "                          datetime.datetime(2024, 12, 1, 23, 58, tzinfo=datetime.timezone.utc),\n",
       "                          datetime.datetime(2024, 12, 1, 23, 59, tzinfo=datetime.timezone.utc)],\n",
       "                         dtype=object),\n",
       "              'y': array([100.        , 100.        , 100.        , ..., 101.53772566,\n",
       "                          101.53772566, 101.53772566])},\n",
       "             {'hoverinfo': 'skip',\n",
       "              'line': {'color': 'rgba(0, 0, 0, 0)', 'width': 0},\n",
       "              'mode': 'lines',\n",
       "              'opacity': 0,\n",
       "              'showlegend': False,\n",
       "              'type': 'scatter',\n",
       "              'uid': '06ee3f60-b840-47dc-8e1c-f83eadbcccd5',\n",
       "              'x': array([datetime.datetime(2024, 8, 1, 0, 0, tzinfo=datetime.timezone.utc),\n",
       "                          datetime.datetime(2024, 8, 1, 0, 1, tzinfo=datetime.timezone.utc),\n",
       "                          datetime.datetime(2024, 8, 1, 0, 2, tzinfo=datetime.timezone.utc), ...,\n",
       "                          datetime.datetime(2024, 12, 1, 23, 57, tzinfo=datetime.timezone.utc),\n",
       "                          datetime.datetime(2024, 12, 1, 23, 58, tzinfo=datetime.timezone.utc),\n",
       "                          datetime.datetime(2024, 12, 1, 23, 59, tzinfo=datetime.timezone.utc)],\n",
       "                         dtype=object),\n",
       "              'y': array([100., 100., 100., ..., 100., 100., 100.])},\n",
       "             {'connectgaps': False,\n",
       "              'fill': 'tonexty',\n",
       "              'fillcolor': 'rgba(220,57,18,0.3000)',\n",
       "              'hoverinfo': 'skip',\n",
       "              'line': {'color': 'rgba(0, 0, 0, 0)', 'width': 0},\n",
       "              'mode': 'lines',\n",
       "              'opacity': 0,\n",
       "              'showlegend': False,\n",
       "              'type': 'scatter',\n",
       "              'uid': 'ac3f50fb-04db-4dd1-9b6a-a0fc17f93b19',\n",
       "              'x': array([datetime.datetime(2024, 8, 1, 0, 0, tzinfo=datetime.timezone.utc),\n",
       "                          datetime.datetime(2024, 8, 1, 0, 1, tzinfo=datetime.timezone.utc),\n",
       "                          datetime.datetime(2024, 8, 1, 0, 2, tzinfo=datetime.timezone.utc), ...,\n",
       "                          datetime.datetime(2024, 12, 1, 23, 57, tzinfo=datetime.timezone.utc),\n",
       "                          datetime.datetime(2024, 12, 1, 23, 58, tzinfo=datetime.timezone.utc),\n",
       "                          datetime.datetime(2024, 12, 1, 23, 59, tzinfo=datetime.timezone.utc)],\n",
       "                         dtype=object),\n",
       "              'y': array([100., 100., 100., ..., 100., 100., 100.])},\n",
       "             {'line': {'color': '#9467bd'},\n",
       "              'mode': 'lines',\n",
       "              'name': 'Value',\n",
       "              'showlegend': True,\n",
       "              'type': 'scatter',\n",
       "              'uid': 'ec1e78b1-2455-4e04-8e85-2ff18b7b35bf',\n",
       "              'x': array([datetime.datetime(2024, 8, 1, 0, 0, tzinfo=datetime.timezone.utc),\n",
       "                          datetime.datetime(2024, 8, 1, 0, 1, tzinfo=datetime.timezone.utc),\n",
       "                          datetime.datetime(2024, 8, 1, 0, 2, tzinfo=datetime.timezone.utc), ...,\n",
       "                          datetime.datetime(2024, 12, 1, 23, 57, tzinfo=datetime.timezone.utc),\n",
       "                          datetime.datetime(2024, 12, 1, 23, 58, tzinfo=datetime.timezone.utc),\n",
       "                          datetime.datetime(2024, 12, 1, 23, 59, tzinfo=datetime.timezone.utc)],\n",
       "                         dtype=object),\n",
       "              'y': array([100.        , 100.        , 100.        , ..., 101.53772566,\n",
       "                          101.53772566, 101.53772566])},\n",
       "             {'hoverinfo': 'skip',\n",
       "              'line': {'color': 'rgba(0, 0, 0, 0)', 'width': 0},\n",
       "              'mode': 'lines',\n",
       "              'opacity': 0.0,\n",
       "              'showlegend': False,\n",
       "              'type': 'scatter',\n",
       "              'uid': 'e1d8ee4d-eeb9-45bc-8d97-575359e7ebdc',\n",
       "              'x': array([datetime.datetime(2024, 8, 1, 0, 0, tzinfo=datetime.timezone.utc),\n",
       "                          datetime.datetime(2024, 8, 1, 0, 1, tzinfo=datetime.timezone.utc),\n",
       "                          datetime.datetime(2024, 8, 1, 0, 2, tzinfo=datetime.timezone.utc), ...,\n",
       "                          datetime.datetime(2024, 12, 1, 23, 57, tzinfo=datetime.timezone.utc),\n",
       "                          datetime.datetime(2024, 12, 1, 23, 58, tzinfo=datetime.timezone.utc),\n",
       "                          datetime.datetime(2024, 12, 1, 23, 59, tzinfo=datetime.timezone.utc)],\n",
       "                         dtype=object),\n",
       "              'y': array([100., 100., 100., ..., 100., 100., 100.])}],\n",
       "    'layout': {'height': 350,\n",
       "               'legend': {'orientation': 'h',\n",
       "                          'traceorder': 'normal',\n",
       "                          'x': 1,\n",
       "                          'xanchor': 'right',\n",
       "                          'y': 1.02,\n",
       "                          'yanchor': 'bottom'},\n",
       "               'margin': {'b': 30, 'l': 30, 'r': 30, 't': 30},\n",
       "               'shapes': [{'line': {'color': 'gray', 'dash': 'dash'},\n",
       "                           'type': 'line',\n",
       "                           'x0': 0,\n",
       "                           'x1': 1,\n",
       "                           'xref': 'paper',\n",
       "                           'y0': np.float64(100.0),\n",
       "                           'y1': np.float64(100.0),\n",
       "                           'yref': 'y'}],\n",
       "               'template': '...',\n",
       "               'width': 700}\n",
       "})"
      ]
     },
     "execution_count": 19,
     "metadata": {},
     "output_type": "execute_result"
    }
   ],
   "source": [
    "pf[\"MES\"].plot_value()"
   ]
  },
  {
   "cell_type": "code",
   "execution_count": 10,
   "id": "988e1b36",
   "metadata": {},
   "outputs": [],
   "source": [
    "periods = np.arange(4, 20)\n",
    "multipliers = np.arange(20, 31) / 10"
   ]
  },
  {
   "cell_type": "code",
   "execution_count": 21,
   "id": "a87237f2",
   "metadata": {},
   "outputs": [
    {
     "data": {
      "text/plain": [
       "<vectorbtpro.indicators.factory.SuperTrend at 0x17c9fb8f0>"
      ]
     },
     "execution_count": 21,
     "metadata": {},
     "output_type": "execute_result"
    }
   ],
   "source": [
    "st = SuperTrend.run(high, low, close, periods, multipliers, param_product=True)\n",
    "st"
   ]
  },
  {
   "cell_type": "code",
   "execution_count": 22,
   "id": "38a2b17b",
   "metadata": {},
   "outputs": [
    {
     "data": {
      "text/plain": [
       "MultiIndex([( 4, 2.0, 'MES'),\n",
       "            ( 4, 2.0,  '6B'),\n",
       "            ( 4, 2.1, 'MES'),\n",
       "            ( 4, 2.1,  '6B'),\n",
       "            ( 4, 2.2, 'MES'),\n",
       "            ( 4, 2.2,  '6B'),\n",
       "            ( 4, 2.3, 'MES'),\n",
       "            ( 4, 2.3,  '6B'),\n",
       "            ( 4, 2.4, 'MES'),\n",
       "            ( 4, 2.4,  '6B'),\n",
       "            ...\n",
       "            (19, 2.6, 'MES'),\n",
       "            (19, 2.6,  '6B'),\n",
       "            (19, 2.7, 'MES'),\n",
       "            (19, 2.7,  '6B'),\n",
       "            (19, 2.8, 'MES'),\n",
       "            (19, 2.8,  '6B'),\n",
       "            (19, 2.9, 'MES'),\n",
       "            (19, 2.9,  '6B'),\n",
       "            (19, 3.0, 'MES'),\n",
       "            (19, 3.0,  '6B')],\n",
       "           names=['st_period', 'st_multiplier', 'symbol'], length=352)"
      ]
     },
     "execution_count": 22,
     "metadata": {},
     "output_type": "execute_result"
    }
   ],
   "source": [
    "st.wrapper.columns"
   ]
  },
  {
   "cell_type": "code",
   "execution_count": 23,
   "id": "fdfaed44",
   "metadata": {},
   "outputs": [
    {
     "data": {
      "text/plain": [
       "<vectorbtpro.portfolio.base.Portfolio at 0x178bceb40>"
      ]
     },
     "execution_count": 23,
     "metadata": {},
     "output_type": "execute_result"
    }
   ],
   "source": [
    "entries = (~st.superl.isnull()).vbt.signals.fshift()\n",
    "exits = (~st.supers.isnull()).vbt.signals.fshift()\n",
    "\n",
    "pf = vbt.Portfolio.from_signals(close=close, entries=entries, exits=exits, freq=\"1min\")\n",
    "pf"
   ]
  },
  {
   "cell_type": "code",
   "execution_count": 24,
   "id": "8a0f0f98",
   "metadata": {},
   "outputs": [
    {
     "data": {
      "application/vnd.jupyter.widget-view+json": {
       "model_id": "584c952c12a145cda921178e548a97cc",
       "version_major": 2,
       "version_minor": 0
      },
      "text/plain": [
       "FigureWidget({\n",
       "    'data': [{'colorscale': [[0.0, '#0d0887'], [0.1111111111111111, '#46039f'],\n",
       "                             [0.2222222222222222, '#7201a8'], [0.3333333333333333,\n",
       "                             '#9c179e'], [0.4444444444444444, '#bd3786'],\n",
       "                             [0.5555555555555556, '#d8576b'], [0.6666666666666666,\n",
       "                             '#ed7953'], [0.7777777777777778, '#fb9f3a'],\n",
       "                             [0.8888888888888888, '#fdca26'], [1.0, '#f0f921']],\n",
       "              'hoverongaps': False,\n",
       "              'hovertemplate': 'st_period: %{x}<br>st_multiplier: %{y}<br>value: %{z}<extra></extra>',\n",
       "              'name': '6B',\n",
       "              'type': 'heatmap',\n",
       "              'uid': 'd91ce836-c0a3-44bf-98ed-cd18bba5427f',\n",
       "              'visible': True,\n",
       "              'x': array([ 4,  5,  6,  7,  8,  9, 10, 11, 12, 13, 14, 15, 16, 17, 18, 19]),\n",
       "              'y': array([2. , 2.1, 2.2, 2.3, 2.4, 2.5, 2.6, 2.7, 2.8, 2.9, 3. ]),\n",
       "              'z': array([[-1.79168272, -1.96455193, -2.00776388, -2.089191  , -1.45465322,\n",
       "                           -1.477743  , -1.70637668, -1.87404489, -2.0321378 , -2.04640473,\n",
       "                           -1.89749576, -1.73188059, -1.83800706, -2.36557243, -2.29008544,\n",
       "                           -2.13552052],\n",
       "                          [-0.98783814, -0.63528603, -0.88296637, -1.20722237, -0.95909993,\n",
       "                           -1.05289862, -1.41623921, -1.67484615, -1.59516969, -1.59461305,\n",
       "                           -1.86681461, -1.52803844, -1.42064111, -1.21561331, -1.3453181 ,\n",
       "                           -1.59363278],\n",
       "                          [-0.97787274, -0.88467607, -0.48277743, -0.98206772, -1.35842208,\n",
       "                           -1.55832542, -1.95451234, -2.17403683, -2.06593595, -2.0604041 ,\n",
       "                           -1.85686178, -2.06502614, -1.87211227, -1.89426278, -1.91455426,\n",
       "                           -1.72186662],\n",
       "                          [-0.89971875, -1.02685321, -1.11875553, -1.33107082, -1.29313956,\n",
       "                           -1.26522272, -1.18216634, -1.271686  , -1.67810977, -1.50937155,\n",
       "                           -1.63586799, -1.57972349, -1.78273063, -1.49403463, -1.4401448 ,\n",
       "                           -1.54224571],\n",
       "                          [-1.6310001 , -2.40520931, -2.23918326, -1.64872158, -1.37270297,\n",
       "                           -1.10216388, -1.51705823, -1.53663086, -1.5885558 , -1.83209006,\n",
       "                           -2.33169253, -2.26395298, -2.14922641, -2.45126164, -2.46711383,\n",
       "                           -2.42351204],\n",
       "                          [-1.89671335, -2.18524573, -2.38356222, -2.0918215 , -1.8240564 ,\n",
       "                           -1.70951423, -1.87290422, -1.6393264 , -1.472664  , -1.25263391,\n",
       "                           -1.35208055, -1.58111903, -1.81225572, -1.78020217, -2.10392754,\n",
       "                           -2.04092701],\n",
       "                          [-2.80480036, -2.77218373, -3.18595078, -2.95129718, -3.14891237,\n",
       "                           -2.97951401, -2.41906831, -2.34526678, -2.0182958 , -2.0324654 ,\n",
       "                           -1.91762239, -1.94653666, -2.00288019, -1.84554992, -1.84132995,\n",
       "                           -1.96940824],\n",
       "                          [-3.91811216, -3.46943311, -3.0913048 , -3.36774014, -3.74714286,\n",
       "                           -2.85703432, -2.87371518, -2.63260384, -2.4171124 , -2.5401667 ,\n",
       "                           -1.994085  , -2.08340924, -2.38558571, -2.28263881, -2.05744076,\n",
       "                           -1.98057094],\n",
       "                          [-3.48538298, -3.14438679, -2.98112554, -2.774997  , -2.96204224,\n",
       "                           -2.60404355, -2.56840566, -2.32976421, -2.13187073, -1.84381292,\n",
       "                           -1.3217725 , -1.48902551, -1.23437362, -0.97307348, -0.95807066,\n",
       "                           -0.99026178],\n",
       "                          [-2.70920267, -2.47918868, -2.27759769, -1.83472221, -1.56810595,\n",
       "                           -2.26206237, -1.97519428, -1.7554808 , -1.77798395, -1.71090647,\n",
       "                           -1.29615562, -1.24902212, -1.49605547, -1.52306797, -1.58630057,\n",
       "                           -1.62701531],\n",
       "                          [-2.17144035, -1.71651064, -1.99002966, -2.11537848, -1.63031306,\n",
       "                           -1.61767246, -1.15339673, -1.0440752 , -1.3946635 , -1.37643127,\n",
       "                           -1.22702472, -1.08008101, -0.9611194 , -0.7728517 , -0.77866262,\n",
       "                           -1.13168629]])},\n",
       "             {'colorscale': [[0.0, '#0d0887'], [0.1111111111111111, '#46039f'],\n",
       "                             [0.2222222222222222, '#7201a8'], [0.3333333333333333,\n",
       "                             '#9c179e'], [0.4444444444444444, '#bd3786'],\n",
       "                             [0.5555555555555556, '#d8576b'], [0.6666666666666666,\n",
       "                             '#ed7953'], [0.7777777777777778, '#fb9f3a'],\n",
       "                             [0.8888888888888888, '#fdca26'], [1.0, '#f0f921']],\n",
       "              'hoverongaps': False,\n",
       "              'hovertemplate': 'st_period: %{x}<br>st_multiplier: %{y}<br>value: %{z}<extra></extra>',\n",
       "              'name': 'MES',\n",
       "              'type': 'heatmap',\n",
       "              'uid': '9fc354e6-a93b-4fc2-91bb-501737eca19e',\n",
       "              'visible': False,\n",
       "              'x': array([ 4,  5,  6,  7,  8,  9, 10, 11, 12, 13, 14, 15, 16, 17, 18, 19]),\n",
       "              'y': array([2. , 2.1, 2.2, 2.3, 2.4, 2.5, 2.6, 2.7, 2.8, 2.9, 3. ]),\n",
       "              'z': array([[ 1.42273734,  1.5338745 ,  1.8854478 ,  1.94094182,  1.41856907,\n",
       "                            1.38145506,  1.37794384,  1.22163659,  0.91850525,  1.00260055,\n",
       "                            1.34654938,  1.22748544,  1.08247837,  1.12068303,  0.69769635,\n",
       "                            0.31630766],\n",
       "                          [ 1.22419244,  2.18160463,  1.97443782,  2.29530439,  2.61008593,\n",
       "                            2.33732194,  1.97403156,  1.31945219,  1.01831875,  0.81514502,\n",
       "                            0.66008363,  0.72006131,  0.30779394,  0.41378704,  0.72490031,\n",
       "                            0.86663748],\n",
       "                          [ 1.22372398,  1.74866886,  1.68684722,  1.91598712,  1.87426753,\n",
       "                            1.32557378,  0.91946464,  0.34728313,  0.60388413,  0.23473434,\n",
       "                            0.274995  ,  0.21325362,  0.07309707, -0.19009764, -0.11191692,\n",
       "                           -0.21257684],\n",
       "                          [ 0.72209342,  0.89201425,  1.2212738 ,  1.39149066,  0.91014868,\n",
       "                            0.9884805 ,  1.10610829,  1.02775201,  0.78220907,  1.05143632,\n",
       "                            0.81076273,  0.35120963,  0.28882638,  0.28420525, -0.02983399,\n",
       "                            0.08622543],\n",
       "                          [ 1.58072138,  1.46850671,  2.11961329,  1.91967199,  1.53955379,\n",
       "                            1.41294688,  1.13972904,  0.64915724,  0.78482709,  1.03286111,\n",
       "                            0.61821406,  0.36240265,  0.14751112,  0.14207332,  0.21994224,\n",
       "                            0.22768114],\n",
       "                          [ 1.18643303,  0.92831559,  1.14567944,  1.0683454 ,  1.11596832,\n",
       "                            1.4257493 ,  1.61641697,  1.29286188,  1.1812312 ,  1.34397537,\n",
       "                            1.18196443,  1.1154235 ,  1.02535998,  0.68327455,  0.7767587 ,\n",
       "                            0.3496277 ],\n",
       "                          [ 1.01959952,  1.23338449,  0.91547646,  1.24611702,  1.10374829,\n",
       "                            1.23391305,  1.45696513,  1.98199097,  2.03009055,  1.63127425,\n",
       "                            1.53218129,  1.68325052,  1.33456103,  1.08890522,  0.80587902,\n",
       "                            0.73737019],\n",
       "                          [ 1.50858576,  0.65130458,  1.21879459,  0.81127094,  1.29986657,\n",
       "                            1.93012978,  1.952851  ,  1.83181459,  1.8399801 ,  1.83840045,\n",
       "                            2.11351834,  1.88084078,  1.92426238,  1.78168978,  1.42570601,\n",
       "                            1.37445517],\n",
       "                          [ 1.9198044 ,  0.47365161,  0.67175762,  1.33589107,  1.08719089,\n",
       "                            1.34571843,  1.64141489,  1.82329273,  1.98496621,  1.66633303,\n",
       "                            1.15669977,  0.8942991 ,  1.29231614,  1.51983227,  1.09276032,\n",
       "                            0.79195051],\n",
       "                          [ 0.7889328 ,  1.2391631 ,  0.84779981,  1.36380526,  0.83323103,\n",
       "                            1.50637709,  1.41195034,  0.9947528 ,  1.49929442,  1.24261454,\n",
       "                            0.9270385 ,  0.59802098,  0.67706655,  0.78826263,  0.84974264,\n",
       "                            1.0460143 ],\n",
       "                          [ 1.6807377 ,  1.05810558,  1.08332312,  0.68194384,  1.16767613,\n",
       "                            1.17295079,  0.74729477,  1.21007157,  0.79198812,  1.23790201,\n",
       "                            1.54328171,  1.23121989,  1.53777788,  1.07380959,  1.24314407,\n",
       "                            1.30165284]])}],\n",
       "    'layout': {'height': 510,\n",
       "               'legend': {'orientation': 'h',\n",
       "                          'traceorder': 'normal',\n",
       "                          'x': 1,\n",
       "                          'xanchor': 'right',\n",
       "                          'y': 1.02,\n",
       "                          'yanchor': 'bottom'},\n",
       "               'margin': {'b': 30, 'l': 30, 'r': 30, 't': 30},\n",
       "               'sliders': [{'active': 0,\n",
       "                            'currentvalue': {'prefix': 'symbol: '},\n",
       "                            'pad': {'t': 50},\n",
       "                            'steps': [{'args': [{'visible': [True, False]}, {}], 'label': '6B', 'method': 'update'},\n",
       "                                      {'args': [{'visible': [False, True]}, {}], 'label': 'MES', 'method': 'update'}]}],\n",
       "               'template': '...',\n",
       "               'width': 651,\n",
       "               'xaxis': {'title': {'text': 'st_period'}},\n",
       "               'yaxis': {'title': {'text': 'st_multiplier'}}}\n",
       "})"
      ]
     },
     "execution_count": 24,
     "metadata": {},
     "output_type": "execute_result"
    }
   ],
   "source": [
    "pf.sharpe_ratio.vbt.heatmap(slider_level=\"symbol\")"
   ]
  },
  {
   "cell_type": "code",
   "execution_count": 10,
   "id": "9f6f280e",
   "metadata": {},
   "outputs": [
    {
     "data": {
      "text/plain": [
       "st_period  st_multiplier  symbol\n",
       "7          3              MES       -83.446534\n",
       "                          6B       -149.268202\n",
       "Name: sharpe_ratio, dtype: float64"
      ]
     },
     "execution_count": 10,
     "metadata": {},
     "output_type": "execute_result"
    }
   ],
   "source": [
    "def pipeline(df, period=7, multiplier=3):\n",
    "    high, low, close = (\n",
    "        df.get(\"High\").dropna(),\n",
    "        df.get(\"Low\").dropna(),\n",
    "        df.get(\"Close\").dropna(),\n",
    "    )\n",
    "    st = SuperTrend.run(\n",
    "        high, low, close, period=period, multiplier=multiplier, param_product=True\n",
    "    )\n",
    "    entries = (~st.superl.isnull()).vbt.signals.fshift()\n",
    "    exits = (~st.supers.isnull()).vbt.signals.fshift()\n",
    "    pf = vbt.Portfolio.from_signals(\n",
    "        close,\n",
    "        entries,\n",
    "        exits,\n",
    "        fees=0.001,\n",
    "        save_returns=True,\n",
    "        max_order_records=0,\n",
    "        freq=\"1min\",\n",
    "    )\n",
    "    return pf.sharpe_ratio\n",
    "\n",
    "\n",
    "pipeline(df)"
   ]
  },
  {
   "cell_type": "code",
   "execution_count": 11,
   "id": "676cf588",
   "metadata": {},
   "outputs": [],
   "source": [
    "from itertools import product\n",
    "\n",
    "period_product, multiplier_product = vbt.generate_param_combs(\n",
    "    (product, np.arange(5, 10), np.arange(2, 5))\n",
    ")\n",
    "period_product = np.asarray(period_product)\n",
    "multiplier_product = np.asarray(multiplier_product)"
   ]
  },
  {
   "cell_type": "code",
   "execution_count": 12,
   "id": "bc738454",
   "metadata": {},
   "outputs": [
    {
     "data": {
      "text/plain": [
       "st_period  st_multiplier  symbol\n",
       "5          2              MES      -129.103648\n",
       "                          6B       -206.934992\n",
       "           3              MES       -84.514095\n",
       "                          6B       -152.300735\n",
       "           4              MES       -60.011358\n",
       "                                       ...    \n",
       "9          2              6B       -202.301671\n",
       "           3              MES       -82.094435\n",
       "                          6B       -146.914241\n",
       "           4              MES       -57.204671\n",
       "                          6B       -115.373217\n",
       "Name: sharpe_ratio, Length: 450, dtype: float64"
      ]
     },
     "execution_count": 12,
     "metadata": {},
     "output_type": "execute_result"
    }
   ],
   "source": [
    "# %%timeit\n",
    "pipeline(df, period=period_product, multiplier=multiplier_product)"
   ]
  },
  {
   "cell_type": "code",
   "execution_count": 13,
   "id": "dbebac24",
   "metadata": {},
   "outputs": [
    {
     "data": {
      "text/plain": [
       "<function __main__.pipeline(df, period=7, multiplier=3)>"
      ]
     },
     "execution_count": 13,
     "metadata": {},
     "output_type": "execute_result"
    }
   ],
   "source": [
    "chunked_pipeline = vbt.chunked(\n",
    "    size=vbt.LenSizer(arg_query=\"period\", single_type=int),\n",
    "    arg_take_spec=dict(\n",
    "        df=None,\n",
    "        period=vbt.ChunkSlicer(),\n",
    "        multiplier=vbt.ChunkSlicer(),\n",
    "    ),\n",
    "    merge_func=lambda x: pd.concat(x).sort_index(),\n",
    ")(pipeline)\n",
    "chunked_pipeline"
   ]
  },
  {
   "cell_type": "code",
   "execution_count": 14,
   "id": "ccdec524",
   "metadata": {},
   "outputs": [],
   "source": [
    "period_product, multiplier_product = vbt.generate_param_combs(\n",
    "    (product, np.arange(2, 20), np.arange(20, 31) / 10)\n",
    ")\n",
    "period_product = np.asarray(period_product)\n",
    "multiplier_product = np.asarray(multiplier_product)"
   ]
  },
  {
   "cell_type": "code",
   "execution_count": null,
   "id": "a848c45a",
   "metadata": {},
   "outputs": [
    {
     "data": {
      "application/vnd.jupyter.widget-view+json": {
       "model_id": "430a8cc921a94e89951025fed7a45a9f",
       "version_major": 2,
       "version_minor": 0
      },
      "text/plain": [
       "  0%|          | 0/10 [00:02<?, ?it/s, chunk_indices=0..19]"
      ]
     },
     "metadata": {},
     "output_type": "display_data"
    },
    {
     "data": {
      "application/vnd.jupyter.widget-view+json": {
       "model_id": "b2300b8be2814c129632da9e710cb85a",
       "version_major": 2,
       "version_minor": 0
      },
      "text/plain": [
       " 90%|######### | 720/800 [00:02<00:00, 359.34it/s, st_period=3, st_multiplier=2, symbol=MES]"
      ]
     },
     "metadata": {},
     "output_type": "display_data"
    }
   ],
   "source": [
    "# %%timeit\n",
    "chunked_pipeline(df, period=period_product, multiplier=multiplier_product)"
   ]
  },
  {
   "cell_type": "code",
   "execution_count": null,
   "id": "29359f66",
   "metadata": {},
   "outputs": [],
   "source": [
    "print(\"working\")"
   ]
  }
 ],
 "metadata": {
  "kernelspec": {
   "display_name": "trading",
   "language": "python",
   "name": "python3"
  },
  "language_info": {
   "codemirror_mode": {
    "name": "ipython",
    "version": 3
   },
   "file_extension": ".py",
   "mimetype": "text/x-python",
   "name": "python",
   "nbconvert_exporter": "python",
   "pygments_lexer": "ipython3",
   "version": "3.12.9"
  }
 },
 "nbformat": 4,
 "nbformat_minor": 5
}
