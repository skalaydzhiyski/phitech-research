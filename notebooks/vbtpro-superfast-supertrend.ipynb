{
 "cells": [
  {
   "cell_type": "code",
   "execution_count": 101,
   "id": "62b375f6-cbbd-4f4f-9aca-4dcbce8e56cc",
   "metadata": {},
   "outputs": [],
   "source": [
    "import sys\n",
    "\n",
    "sys.path.append(\"../\")\n",
    "\n",
    "import pandas as pd\n",
    "import numpy as np\n",
    "import datetime\n",
    "import os\n",
    "from pprint import pprint\n",
    "import matplotlib.pyplot as plt\n",
    "import time\n",
    "import vectorbtpro as vbt\n",
    "from time import time\n",
    "import helpers as pth\n",
    "import platform\n",
    "from dotenv import load_dotenv\n",
    "import scipy.stats as stats\n",
    "import time\n",
    "import helpers as pth\n",
    "from numba import njit\n",
    "import talib\n",
    "\n",
    "theme = \"light\"\n",
    "vbt.settings.set_theme(theme)\n",
    "\n",
    "pd.set_option(\"display.max_rows\", 100)\n",
    "pd.set_option(\"display.max_columns\", 20)\n",
    "# plt.rcParams[\"axes.grid\"] = True\n",
    "plt.rcParams[\"figure.figsize\"] = (12, 7)\n",
    "plt.rcParams[\"axes.formatter.useoffset\"] = False\n",
    "plt.rcParams[\"axes.formatter.limits\"] = [-1000000000, 1000000000]\n",
    "plt.style.use(\"classic\" if theme == \"light\" else \"dark_background\")\n",
    "\n",
    "if platform.system().lower() == \"windows\":\n",
    "    base_data_path = \"H:\\\\phitech-data\\\\01_raw\"\n",
    "else:\n",
    "    from core_chains.simple.llm import make_Q_chain\n",
    "\n",
    "    base_data_path = \"../../phitech-data/01_raw\"\n",
    "    load_dotenv(\"../../sandatasci-core/credentials\")\n",
    "    Q = make_Q_chain(\"gpt-4o-instance1\", __vsc_ipynb_file__)"
   ]
  },
  {
   "cell_type": "code",
   "execution_count": 102,
   "id": "66d01b62",
   "metadata": {},
   "outputs": [
    {
     "data": {
      "text/html": [
       "<style>\n",
       ".dataframe {\n",
       "    font-size: 9pt; /* Adjust font size as needed */\n",
       "}\n",
       "</style>\n"
      ],
      "text/plain": [
       "<IPython.core.display.HTML object>"
      ]
     },
     "metadata": {},
     "output_type": "display_data"
    }
   ],
   "source": [
    "%%html\n",
    "<style>\n",
    ".dataframe {\n",
    "    font-size: 9pt; /* Adjust font size as needed */\n",
    "}\n",
    "</style>"
   ]
  },
  {
   "cell_type": "code",
   "execution_count": 103,
   "id": "267c3e1b",
   "metadata": {},
   "outputs": [
    {
     "data": {
      "application/vnd.jupyter.widget-view+json": {
       "model_id": "5f5f86cc60b843d48844d9cbbfd648e3",
       "version_major": 2,
       "version_minor": 0
      },
      "text/plain": [
       "100%|##########| 2/2 [00:03<00:00,  1.54s/it, symbol=6B]"
      ]
     },
     "metadata": {},
     "output_type": "display_data"
    },
    {
     "name": "stderr",
     "output_type": "stream",
     "text": [
      "/Users/e1211913/miniconda3/envs/trading/lib/python3.12/site-packages/vectorbtpro/data/base.py:1728: VBTWarning: Symbols have mismatching index. Setting missing data points to NaN.\n"
     ]
    },
    {
     "data": {
      "text/plain": [
       "<helpers.SierraChartData at 0x17dfc9340>"
      ]
     },
     "execution_count": 103,
     "metadata": {},
     "output_type": "execute_result"
    }
   ],
   "source": [
    "symbols = [\"MES\", \"6B\"]\n",
    "df = pth.SierraChartData.pull(\n",
    "    symbols,\n",
    "    timeframe=\"1min\",\n",
    "    start=\"2024-08-01\",\n",
    "    end=\"2024-12-01\",\n",
    ")\n",
    "df"
   ]
  },
  {
   "cell_type": "code",
   "execution_count": 104,
   "id": "8bc91f2d",
   "metadata": {},
   "outputs": [
    {
     "name": "stdout",
     "output_type": "stream",
     "text": [
      "<class 'pandas.core.frame.DataFrame'>\n",
      "DatetimeIndex: 119631 entries, 2024-08-01 00:00:00+00:00 to 2024-12-01 23:59:00+00:00\n",
      "Data columns (total 11 columns):\n",
      " #   Column       Non-Null Count   Dtype  \n",
      "---  ------       --------------   -----  \n",
      " 0   open         119331 non-null  float64\n",
      " 1   high         119331 non-null  float64\n",
      " 2   low          119331 non-null  float64\n",
      " 3   close        119331 non-null  float64\n",
      " 4   volume       119331 non-null  float64\n",
      " 5   #_of_trades  119331 non-null  float64\n",
      " 6   ohlc_avg     119331 non-null  float64\n",
      " 7   hlc_avg      119331 non-null  float64\n",
      " 8   hl_avg       119331 non-null  float64\n",
      " 9   bid_volume   119331 non-null  float64\n",
      " 10  ask_volume   119331 non-null  float64\n",
      "dtypes: float64(11)\n",
      "memory usage: 11.0 MB\n"
     ]
    }
   ],
   "source": [
    "df.data[\"MES\"].info()"
   ]
  },
  {
   "cell_type": "code",
   "execution_count": 105,
   "id": "71dd81d0",
   "metadata": {},
   "outputs": [
    {
     "data": {
      "text/html": [
       "<div>\n",
       "<style scoped>\n",
       "    .dataframe tbody tr th:only-of-type {\n",
       "        vertical-align: middle;\n",
       "    }\n",
       "\n",
       "    .dataframe tbody tr th {\n",
       "        vertical-align: top;\n",
       "    }\n",
       "\n",
       "    .dataframe thead th {\n",
       "        text-align: right;\n",
       "    }\n",
       "</style>\n",
       "<table border=\"1\" class=\"dataframe\">\n",
       "  <thead>\n",
       "    <tr style=\"text-align: right;\">\n",
       "      <th>symbol</th>\n",
       "      <th>MES</th>\n",
       "      <th>6B</th>\n",
       "    </tr>\n",
       "    <tr>\n",
       "      <th>timestamp</th>\n",
       "      <th></th>\n",
       "      <th></th>\n",
       "    </tr>\n",
       "  </thead>\n",
       "  <tbody>\n",
       "    <tr>\n",
       "      <th>2024-08-01 00:00:00+00:00</th>\n",
       "      <td>5714.75</td>\n",
       "      <td>1.2858</td>\n",
       "    </tr>\n",
       "    <tr>\n",
       "      <th>2024-08-01 00:01:00+00:00</th>\n",
       "      <td>5715.25</td>\n",
       "      <td>1.2858</td>\n",
       "    </tr>\n",
       "    <tr>\n",
       "      <th>2024-08-01 00:02:00+00:00</th>\n",
       "      <td>5715.50</td>\n",
       "      <td>1.2858</td>\n",
       "    </tr>\n",
       "    <tr>\n",
       "      <th>2024-08-01 00:03:00+00:00</th>\n",
       "      <td>5714.50</td>\n",
       "      <td>1.2857</td>\n",
       "    </tr>\n",
       "    <tr>\n",
       "      <th>2024-08-01 00:05:00+00:00</th>\n",
       "      <td>5713.75</td>\n",
       "      <td>1.2857</td>\n",
       "    </tr>\n",
       "    <tr>\n",
       "      <th>...</th>\n",
       "      <td>...</td>\n",
       "      <td>...</td>\n",
       "    </tr>\n",
       "    <tr>\n",
       "      <th>2024-12-01 23:55:00+00:00</th>\n",
       "      <td>6115.00</td>\n",
       "      <td>1.2689</td>\n",
       "    </tr>\n",
       "    <tr>\n",
       "      <th>2024-12-01 23:56:00+00:00</th>\n",
       "      <td>6115.25</td>\n",
       "      <td>1.2689</td>\n",
       "    </tr>\n",
       "    <tr>\n",
       "      <th>2024-12-01 23:57:00+00:00</th>\n",
       "      <td>6115.75</td>\n",
       "      <td>1.2690</td>\n",
       "    </tr>\n",
       "    <tr>\n",
       "      <th>2024-12-01 23:58:00+00:00</th>\n",
       "      <td>6116.00</td>\n",
       "      <td>1.2693</td>\n",
       "    </tr>\n",
       "    <tr>\n",
       "      <th>2024-12-01 23:59:00+00:00</th>\n",
       "      <td>6115.75</td>\n",
       "      <td>1.2692</td>\n",
       "    </tr>\n",
       "  </tbody>\n",
       "</table>\n",
       "<p>110541 rows × 2 columns</p>\n",
       "</div>"
      ],
      "text/plain": [
       "symbol                         MES      6B\n",
       "timestamp                                 \n",
       "2024-08-01 00:00:00+00:00  5714.75  1.2858\n",
       "2024-08-01 00:01:00+00:00  5715.25  1.2858\n",
       "2024-08-01 00:02:00+00:00  5715.50  1.2858\n",
       "2024-08-01 00:03:00+00:00  5714.50  1.2857\n",
       "2024-08-01 00:05:00+00:00  5713.75  1.2857\n",
       "...                            ...     ...\n",
       "2024-12-01 23:55:00+00:00  6115.00  1.2689\n",
       "2024-12-01 23:56:00+00:00  6115.25  1.2689\n",
       "2024-12-01 23:57:00+00:00  6115.75  1.2690\n",
       "2024-12-01 23:58:00+00:00  6116.00  1.2693\n",
       "2024-12-01 23:59:00+00:00  6115.75  1.2692\n",
       "\n",
       "[110541 rows x 2 columns]"
      ]
     },
     "execution_count": 105,
     "metadata": {},
     "output_type": "execute_result"
    }
   ],
   "source": [
    "high, low, close = (\n",
    "    df.get(\"High\").dropna(),\n",
    "    df.get(\"Low\").dropna(),\n",
    "    df.get(\"Close\").dropna(),\n",
    ")\n",
    "close"
   ]
  },
  {
   "cell_type": "markdown",
   "id": "269bc5a7",
   "metadata": {},
   "source": [
    "### Pandas Implementation"
   ]
  },
  {
   "cell_type": "code",
   "execution_count": 106,
   "id": "2287c5c8",
   "metadata": {},
   "outputs": [],
   "source": [
    "def get_mid_price(high, low):\n",
    "    return (high + low) / 2\n",
    "\n",
    "\n",
    "def get_atr(high, low, close, period):\n",
    "    tr0 = abs(high - low)\n",
    "    tr1 = abs(high - close.shift())\n",
    "    tr2 = abs(low - close.shift())\n",
    "    tr = pd.concat((tr0, tr1, tr2), axis=1).max(axis=1)\n",
    "    atr = tr.ewm(alpha=1 / period, adjust=False, min_periods=period).mean()\n",
    "    return atr\n",
    "\n",
    "\n",
    "def get_basic_bands(med_price, atr, multiplier):\n",
    "    matr = multiplier * atr\n",
    "    upper = med_price + matr\n",
    "    lower = med_price - matr\n",
    "    return upper, lower\n",
    "\n",
    "\n",
    "def get_final_bands(close, upper, lower):\n",
    "    trend = pd.Series(np.full(close.shape, np.nan), index=close.index)\n",
    "    direction = pd.Series(np.full(close.shape, 1), index=close.index)\n",
    "    long = pd.Series(np.full(close.shape, np.nan), index=close.index)\n",
    "    short = pd.Series(np.full(close.shape, np.nan), index=close.index)\n",
    "\n",
    "    for i in range(1, close.shape[0]):\n",
    "        if close.iloc[i] > upper.iloc[i - 1]:\n",
    "            direction.iloc[i] = 1\n",
    "        elif close.iloc[i] < lower.iloc[i - 1]:\n",
    "            direction.iloc[i] = -1\n",
    "        else:\n",
    "            direction.iloc[i] = direction.iloc[i - 1]\n",
    "            if direction.iloc[i] > 0 and lower.iloc[i] < lower.iloc[i - 1]:\n",
    "                lower.iloc[i] = lower.iloc[i - 1]\n",
    "            if direction.iloc[i] < 0 and upper.iloc[i] > upper.iloc[i - 1]:\n",
    "                upper.iloc[i] = upper.iloc[i - 1]\n",
    "\n",
    "        if direction.iloc[i] > 0:\n",
    "            trend.iloc[i] = long.iloc[i] = lower.iloc[i]\n",
    "        else:\n",
    "            trend.iloc[i] = short.iloc[i] = upper.iloc[i]\n",
    "\n",
    "    return trend, direction, long, short\n",
    "\n",
    "\n",
    "def supertrend(high, low, close, period=7, multiplier=3):\n",
    "    midprice = get_mid_price(high, low)\n",
    "    atr = get_atr(high, low, close, period=period)\n",
    "    upper, lower = get_basic_bands(midprice, atr, multiplier=multiplier)\n",
    "    return get_final_bands(close, upper, lower)"
   ]
  },
  {
   "cell_type": "code",
   "execution_count": null,
   "id": "cfdd10c5",
   "metadata": {},
   "outputs": [],
   "source": [
    "%%timeit\n",
    "ticker = \"MES\"\n",
    "supert, superd, superl, supers = supertrend(high[ticker], low[ticker], close[ticker])"
   ]
  },
  {
   "cell_type": "code",
   "execution_count": 108,
   "id": "6d571d81",
   "metadata": {},
   "outputs": [
    {
     "data": {
      "application/vnd.jupyter.widget-view+json": {
       "model_id": "8db70b091f7e4d628db9d128d584c91f",
       "version_major": 2,
       "version_minor": 0
      },
      "text/plain": [
       "FigureWidget({\n",
       "    'data': [{'name': 'MES',\n",
       "              'showlegend': True,\n",
       "              'type': 'scatter',\n",
       "              'uid': '12cca9a1-1aa9-4f72-8cec-20ade66a23a6',\n",
       "              'x': array([datetime.datetime(2024, 8, 1, 0, 0, tzinfo=datetime.timezone.utc),\n",
       "                          datetime.datetime(2024, 8, 1, 0, 1, tzinfo=datetime.timezone.utc),\n",
       "                          datetime.datetime(2024, 8, 1, 0, 2, tzinfo=datetime.timezone.utc), ...,\n",
       "                          datetime.datetime(2024, 12, 1, 23, 57, tzinfo=datetime.timezone.utc),\n",
       "                          datetime.datetime(2024, 12, 1, 23, 58, tzinfo=datetime.timezone.utc),\n",
       "                          datetime.datetime(2024, 12, 1, 23, 59, tzinfo=datetime.timezone.utc)],\n",
       "                         dtype=object),\n",
       "              'y': array([5714.75, 5715.25, 5715.5 , ..., 6115.75, 6116.  , 6115.75])},\n",
       "             {'showlegend': False,\n",
       "              'type': 'scatter',\n",
       "              'uid': 'e6cc956d-cd34-451b-b4b4-5841c04350b1',\n",
       "              'x': array([datetime.datetime(2024, 8, 1, 0, 0, tzinfo=datetime.timezone.utc),\n",
       "                          datetime.datetime(2024, 8, 1, 0, 1, tzinfo=datetime.timezone.utc),\n",
       "                          datetime.datetime(2024, 8, 1, 0, 2, tzinfo=datetime.timezone.utc), ...,\n",
       "                          datetime.datetime(2024, 12, 1, 23, 57, tzinfo=datetime.timezone.utc),\n",
       "                          datetime.datetime(2024, 12, 1, 23, 58, tzinfo=datetime.timezone.utc),\n",
       "                          datetime.datetime(2024, 12, 1, 23, 59, tzinfo=datetime.timezone.utc)],\n",
       "                         dtype=object),\n",
       "              'y': array([          nan,           nan,           nan, ..., 6117.73618405,\n",
       "                          6117.73618405, 6117.73618405])},\n",
       "             {'showlegend': False,\n",
       "              'type': 'scatter',\n",
       "              'uid': '5c2f358a-d56e-4c76-9f5c-8bde90e583d2',\n",
       "              'x': array([datetime.datetime(2024, 8, 1, 0, 0, tzinfo=datetime.timezone.utc),\n",
       "                          datetime.datetime(2024, 8, 1, 0, 1, tzinfo=datetime.timezone.utc),\n",
       "                          datetime.datetime(2024, 8, 1, 0, 2, tzinfo=datetime.timezone.utc), ...,\n",
       "                          datetime.datetime(2024, 12, 1, 23, 57, tzinfo=datetime.timezone.utc),\n",
       "                          datetime.datetime(2024, 12, 1, 23, 58, tzinfo=datetime.timezone.utc),\n",
       "                          datetime.datetime(2024, 12, 1, 23, 59, tzinfo=datetime.timezone.utc)],\n",
       "                         dtype=object),\n",
       "              'y': array([nan, nan, nan, ..., nan, nan, nan])}],\n",
       "    'layout': {'height': 350,\n",
       "               'legend': {'orientation': 'h',\n",
       "                          'traceorder': 'normal',\n",
       "                          'x': 1,\n",
       "                          'xanchor': 'right',\n",
       "                          'y': 1.02,\n",
       "                          'yanchor': 'bottom'},\n",
       "               'margin': {'b': 30, 'l': 30, 'r': 30, 't': 30},\n",
       "               'template': '...',\n",
       "               'width': 700}\n",
       "})"
      ]
     },
     "execution_count": 108,
     "metadata": {},
     "output_type": "execute_result"
    }
   ],
   "source": [
    "fig = close[ticker].vbt.plot()\n",
    "supers.vbt.plot(fig=fig)\n",
    "superl.vbt.plot(fig=fig)"
   ]
  },
  {
   "cell_type": "markdown",
   "id": "10a36974",
   "metadata": {},
   "source": [
    "### Numpy + Numba"
   ]
  },
  {
   "cell_type": "code",
   "execution_count": 121,
   "id": "0d55d64f",
   "metadata": {},
   "outputs": [],
   "source": [
    "def get_atr_np(high, low, close, period):\n",
    "    shifted_close = vbt.nb.fshift_1d_nb(close)\n",
    "    tr0 = np.abs(high - low)\n",
    "    tr1 = np.abs(high - shifted_close)\n",
    "    tr2 = np.abs(low - shifted_close)\n",
    "    tr = np.column_stack((tr0, tr1, tr2)).max(axis=1)\n",
    "    atr = vbt.nb.wwm_mean_1d_nb(tr, period)\n",
    "    return atr\n",
    "\n",
    "\n",
    "@njit\n",
    "def get_final_bands_nb(close, upper, lower):\n",
    "    trend = np.full(close.shape, np.nan)\n",
    "    direction = np.full(close.shape, 1)\n",
    "    long = np.full(close.shape, np.nan)\n",
    "    short = np.full(close.shape, np.nan)\n",
    "\n",
    "    for i in range(1, close.shape[0]):\n",
    "        if close[i] > upper[i - 1]:\n",
    "            direction[i] = 1\n",
    "        elif direction[i] < lower[i - 1]:\n",
    "            direction[i] = -1\n",
    "        else:\n",
    "            direction[i] = direction[i - 1]\n",
    "            if direction[i] > 0 and lower[i] < lower[i - 1]:\n",
    "                lower[i] = lower[i - 1]\n",
    "            if direction[i] < 0 and upper[i] > upper[i - 1]:\n",
    "                upper[i] = upper[i - 1]\n",
    "\n",
    "        if direction[i] > 0:\n",
    "            trend[i] = long[i] = lower[i]\n",
    "        else:\n",
    "            trend[i] = short[i] = upper[i]\n",
    "\n",
    "    return trend, direction, long, short\n",
    "\n",
    "\n",
    "def faster_supertrend(high, low, close, period=7, multiplier=3):\n",
    "    midprice = get_mid_price(high, low)\n",
    "    atr = get_atr_np(high, low, close, period)\n",
    "    upper, lower = get_basic_bands(midprice, atr, multiplier)\n",
    "    return get_final_bands_nb(close, upper, lower)"
   ]
  },
  {
   "cell_type": "code",
   "execution_count": null,
   "id": "869ed729",
   "metadata": {},
   "outputs": [
    {
     "data": {
      "text/plain": [
       "array([          nan,           nan,           nan, ..., 6118.02512365,\n",
       "       6118.25367742, 6118.00315207])"
      ]
     },
     "execution_count": 122,
     "metadata": {},
     "output_type": "execute_result"
    }
   ],
   "source": [
    "%%timeit\n",
    "faster_supertrend(\n",
    "    high[ticker].values, low[ticker].values, close[ticker].values\n",
    ")"
   ]
  },
  {
   "cell_type": "code",
   "execution_count": 123,
   "id": "e14c2781",
   "metadata": {},
   "outputs": [],
   "source": [
    "def faster_supertrend_talib(high, low, close, period=7, multiplier=3):\n",
    "    midprice = talib.MEDPRICE(high, low)\n",
    "    atr = talib.ATR(high, low, close, period)\n",
    "    upper, lower = get_basic_bands(midprice, atr, multiplier)\n",
    "    return get_final_bands_nb(close, upper, lower)"
   ]
  },
  {
   "cell_type": "code",
   "execution_count": 124,
   "id": "dc5d8b16",
   "metadata": {},
   "outputs": [
    {
     "name": "stdout",
     "output_type": "stream",
     "text": [
      "1.07 ms ± 13.1 μs per loop (mean ± std. dev. of 7 runs, 1,000 loops each)\n"
     ]
    }
   ],
   "source": [
    "%%timeit\n",
    "faster_supertrend_talib(high[ticker].values, low[ticker].values, close[ticker].values)"
   ]
  },
  {
   "cell_type": "code",
   "execution_count": null,
   "id": "54e386b4",
   "metadata": {},
   "outputs": [],
   "source": []
  }
 ],
 "metadata": {
  "kernelspec": {
   "display_name": "trading",
   "language": "python",
   "name": "python3"
  },
  "language_info": {
   "codemirror_mode": {
    "name": "ipython",
    "version": 3
   },
   "file_extension": ".py",
   "mimetype": "text/x-python",
   "name": "python",
   "nbconvert_exporter": "python",
   "pygments_lexer": "ipython3",
   "version": "3.12.9"
  }
 },
 "nbformat": 4,
 "nbformat_minor": 5
}
