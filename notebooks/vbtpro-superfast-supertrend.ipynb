{
 "cells": [
  {
   "cell_type": "code",
   "execution_count": 1,
   "id": "62b375f6-cbbd-4f4f-9aca-4dcbce8e56cc",
   "metadata": {},
   "outputs": [],
   "source": [
    "import sys\n",
    "\n",
    "sys.path.append(\"../\")\n",
    "\n",
    "import pandas as pd\n",
    "import numpy as np\n",
    "import datetime\n",
    "import os\n",
    "from pprint import pprint\n",
    "import matplotlib.pyplot as plt\n",
    "import time\n",
    "import vectorbtpro as vbt\n",
    "from time import time\n",
    "import helpers as pth\n",
    "import platform\n",
    "from dotenv import load_dotenv\n",
    "import scipy.stats as stats\n",
    "import time\n",
    "import helpers as pth\n",
    "\n",
    "theme = 'light'\n",
    "vbt.settings.set_theme(theme)\n",
    "\n",
    "pd.set_option(\"display.max_rows\", 100)\n",
    "pd.set_option(\"display.max_columns\", 20)\n",
    "# plt.rcParams[\"axes.grid\"] = True\n",
    "plt.rcParams[\"figure.figsize\"] = (12, 7)\n",
    "plt.rcParams[\"axes.formatter.useoffset\"] = False\n",
    "plt.rcParams[\"axes.formatter.limits\"] = [-1000000000, 1000000000]\n",
    "plt.style.use('classic' if theme == 'light' else 'dark_background')\n",
    "\n",
    "if platform.system().lower() == \"windows\":\n",
    "    base_data_path = \"H:\\\\phitech-data\\\\01_raw\"\n",
    "else:\n",
    "    from core_chains.simple.llm import make_Q_chain\n",
    "\n",
    "    base_data_path = \"../../phitech-data/01_raw\"\n",
    "    load_dotenv(\"../../sandatasci-core/credentials\")\n",
    "    Q = make_Q_chain(\"gpt-4o-instance1\", __vsc_ipynb_file__)"
   ]
  },
  {
   "cell_type": "code",
   "execution_count": 2,
   "id": "66d01b62",
   "metadata": {},
   "outputs": [
    {
     "data": {
      "text/html": [
       "<style>\n",
       ".dataframe {\n",
       "    font-size: 9pt; /* Adjust font size as needed */\n",
       "}\n",
       "</style>\n"
      ],
      "text/plain": [
       "<IPython.core.display.HTML object>"
      ]
     },
     "metadata": {},
     "output_type": "display_data"
    }
   ],
   "source": [
    "%%html\n",
    "<style>\n",
    ".dataframe {\n",
    "    font-size: 9pt; /* Adjust font size as needed */\n",
    "}\n",
    "</style>"
   ]
  },
  {
   "cell_type": "code",
   "execution_count": 3,
   "id": "267c3e1b",
   "metadata": {},
   "outputs": [
    {
     "name": "stderr",
     "output_type": "stream",
     "text": [
      "c:\\Users\\spask\\miniconda3\\Lib\\site-packages\\vectorbtpro\\data\\base.py:1728: VBTWarning: Symbols have mismatching index. Setting missing data points to NaN.\n"
     ]
    },
    {
     "data": {
      "text/plain": [
       "<helpers.SierraChartData at 0x237413c5f70>"
      ]
     },
     "execution_count": 3,
     "metadata": {},
     "output_type": "execute_result"
    }
   ],
   "source": [
    "symbols = [\"MES\", \"6B\"]\n",
    "df = pth.SierraChartData.pull(\n",
    "    symbols,\n",
    "    timeframe=\"1min\",\n",
    "    start=\"2024-08-01\",\n",
    "    end=\"2024-12-01\",\n",
    ")\n",
    "df"
   ]
  },
  {
   "cell_type": "code",
   "execution_count": 4,
   "id": "8bc91f2d",
   "metadata": {},
   "outputs": [
    {
     "name": "stdout",
     "output_type": "stream",
     "text": [
      "<class 'pandas.core.frame.DataFrame'>\n",
      "DatetimeIndex: 119631 entries, 2024-08-01 00:00:00+00:00 to 2024-12-01 23:59:00+00:00\n",
      "Data columns (total 11 columns):\n",
      " #   Column       Non-Null Count   Dtype  \n",
      "---  ------       --------------   -----  \n",
      " 0   open         119331 non-null  float64\n",
      " 1   high         119331 non-null  float64\n",
      " 2   low          119331 non-null  float64\n",
      " 3   close        119331 non-null  float64\n",
      " 4   volume       119331 non-null  float64\n",
      " 5   #_of_trades  119331 non-null  float64\n",
      " 6   ohlc_avg     119331 non-null  float64\n",
      " 7   hlc_avg      119331 non-null  float64\n",
      " 8   hl_avg       119331 non-null  float64\n",
      " 9   bid_volume   119331 non-null  float64\n",
      " 10  ask_volume   119331 non-null  float64\n",
      "dtypes: float64(11)\n",
      "memory usage: 11.0 MB\n"
     ]
    }
   ],
   "source": [
    "df.data['MES'].info()"
   ]
  },
  {
   "cell_type": "code",
   "execution_count": 5,
   "id": "71dd81d0",
   "metadata": {},
   "outputs": [
    {
     "data": {
      "text/html": [
       "<div>\n",
       "<style scoped>\n",
       "    .dataframe tbody tr th:only-of-type {\n",
       "        vertical-align: middle;\n",
       "    }\n",
       "\n",
       "    .dataframe tbody tr th {\n",
       "        vertical-align: top;\n",
       "    }\n",
       "\n",
       "    .dataframe thead th {\n",
       "        text-align: right;\n",
       "    }\n",
       "</style>\n",
       "<table border=\"1\" class=\"dataframe\">\n",
       "  <thead>\n",
       "    <tr style=\"text-align: right;\">\n",
       "      <th>symbol</th>\n",
       "      <th>MES</th>\n",
       "      <th>6B</th>\n",
       "    </tr>\n",
       "    <tr>\n",
       "      <th>timestamp</th>\n",
       "      <th></th>\n",
       "      <th></th>\n",
       "    </tr>\n",
       "  </thead>\n",
       "  <tbody>\n",
       "    <tr>\n",
       "      <th>2024-08-01 00:00:00+00:00</th>\n",
       "      <td>5714.75</td>\n",
       "      <td>1.2858</td>\n",
       "    </tr>\n",
       "    <tr>\n",
       "      <th>2024-08-01 00:01:00+00:00</th>\n",
       "      <td>5715.25</td>\n",
       "      <td>1.2858</td>\n",
       "    </tr>\n",
       "    <tr>\n",
       "      <th>2024-08-01 00:02:00+00:00</th>\n",
       "      <td>5715.50</td>\n",
       "      <td>1.2858</td>\n",
       "    </tr>\n",
       "    <tr>\n",
       "      <th>2024-08-01 00:03:00+00:00</th>\n",
       "      <td>5714.50</td>\n",
       "      <td>1.2857</td>\n",
       "    </tr>\n",
       "    <tr>\n",
       "      <th>2024-08-01 00:05:00+00:00</th>\n",
       "      <td>5713.75</td>\n",
       "      <td>1.2857</td>\n",
       "    </tr>\n",
       "    <tr>\n",
       "      <th>...</th>\n",
       "      <td>...</td>\n",
       "      <td>...</td>\n",
       "    </tr>\n",
       "    <tr>\n",
       "      <th>2024-12-01 23:55:00+00:00</th>\n",
       "      <td>6115.00</td>\n",
       "      <td>1.2689</td>\n",
       "    </tr>\n",
       "    <tr>\n",
       "      <th>2024-12-01 23:56:00+00:00</th>\n",
       "      <td>6115.25</td>\n",
       "      <td>1.2689</td>\n",
       "    </tr>\n",
       "    <tr>\n",
       "      <th>2024-12-01 23:57:00+00:00</th>\n",
       "      <td>6115.75</td>\n",
       "      <td>1.2690</td>\n",
       "    </tr>\n",
       "    <tr>\n",
       "      <th>2024-12-01 23:58:00+00:00</th>\n",
       "      <td>6116.00</td>\n",
       "      <td>1.2693</td>\n",
       "    </tr>\n",
       "    <tr>\n",
       "      <th>2024-12-01 23:59:00+00:00</th>\n",
       "      <td>6115.75</td>\n",
       "      <td>1.2692</td>\n",
       "    </tr>\n",
       "  </tbody>\n",
       "</table>\n",
       "<p>110541 rows × 2 columns</p>\n",
       "</div>"
      ],
      "text/plain": [
       "symbol                         MES      6B\n",
       "timestamp                                 \n",
       "2024-08-01 00:00:00+00:00  5714.75  1.2858\n",
       "2024-08-01 00:01:00+00:00  5715.25  1.2858\n",
       "2024-08-01 00:02:00+00:00  5715.50  1.2858\n",
       "2024-08-01 00:03:00+00:00  5714.50  1.2857\n",
       "2024-08-01 00:05:00+00:00  5713.75  1.2857\n",
       "...                            ...     ...\n",
       "2024-12-01 23:55:00+00:00  6115.00  1.2689\n",
       "2024-12-01 23:56:00+00:00  6115.25  1.2689\n",
       "2024-12-01 23:57:00+00:00  6115.75  1.2690\n",
       "2024-12-01 23:58:00+00:00  6116.00  1.2693\n",
       "2024-12-01 23:59:00+00:00  6115.75  1.2692\n",
       "\n",
       "[110541 rows x 2 columns]"
      ]
     },
     "execution_count": 5,
     "metadata": {},
     "output_type": "execute_result"
    }
   ],
   "source": [
    "high, low, close = df.get('High').dropna(), df.get('Low').dropna(), df.get('Close').dropna()\n",
    "close"
   ]
  },
  {
   "cell_type": "code",
   "execution_count": 6,
   "id": "6e48ed66",
   "metadata": {},
   "outputs": [],
   "source": [
    "# TODO: continue here when you're coming back to custom indicators in vectorbt\n",
    "#       make sure you understand how the custom is working and how it's compiled."
   ]
  }
 ],
 "metadata": {
  "kernelspec": {
   "display_name": "base",
   "language": "python",
   "name": "python3"
  },
  "language_info": {
   "codemirror_mode": {
    "name": "ipython",
    "version": 3
   },
   "file_extension": ".py",
   "mimetype": "text/x-python",
   "name": "python",
   "nbconvert_exporter": "python",
   "pygments_lexer": "ipython3",
   "version": "3.12.3"
  }
 },
 "nbformat": 4,
 "nbformat_minor": 5
}
