{
 "cells": [
  {
   "cell_type": "code",
   "execution_count": 1,
   "id": "62b375f6-cbbd-4f4f-9aca-4dcbce8e56cc",
   "metadata": {},
   "outputs": [],
   "source": [
    "import sys\n",
    "\n",
    "sys.path.append(\"../\")\n",
    "\n",
    "import pandas as pd\n",
    "import numpy as np\n",
    "import datetime\n",
    "import os\n",
    "from pprint import pprint\n",
    "import matplotlib.pyplot as plt\n",
    "import time\n",
    "import vectorbtpro as vbt\n",
    "from time import time\n",
    "import helpers as pth\n",
    "import platform\n",
    "from dotenv import load_dotenv\n",
    "import scipy.stats as stats\n",
    "import time\n",
    "import helpers as pth\n",
    "from numba import njit\n",
    "import talib\n",
    "\n",
    "theme = \"light\"\n",
    "vbt.settings.set_theme(theme)\n",
    "\n",
    "pd.set_option(\"display.max_rows\", 100)\n",
    "pd.set_option(\"display.max_columns\", 20)\n",
    "# plt.rcParams[\"axes.grid\"] = True\n",
    "plt.rcParams[\"figure.figsize\"] = (12, 7)\n",
    "plt.rcParams[\"axes.formatter.useoffset\"] = False\n",
    "plt.rcParams[\"axes.formatter.limits\"] = [-1000000000, 1000000000]\n",
    "plt.style.use(\"classic\" if theme == \"light\" else \"dark_background\")\n",
    "\n",
    "if platform.system().lower() == \"windows\":\n",
    "    base_data_path = \"H:\\\\phitech-data\\\\01_raw\"\n",
    "else:\n",
    "    from core_chains.simple.llm import make_Q_chain\n",
    "\n",
    "    base_data_path = \"../../phitech-data/01_raw\"\n",
    "    load_dotenv(\"../../sandatasci-core/credentials\")\n",
    "    Q = make_Q_chain(\"gpt-4o-instance1\", __vsc_ipynb_file__)"
   ]
  },
  {
   "cell_type": "code",
   "execution_count": 2,
   "id": "66d01b62",
   "metadata": {},
   "outputs": [
    {
     "data": {
      "text/html": [
       "<style>\n",
       ".dataframe {\n",
       "    font-size: 9pt; /* Adjust font size as needed */\n",
       "}\n",
       "</style>\n"
      ],
      "text/plain": [
       "<IPython.core.display.HTML object>"
      ]
     },
     "metadata": {},
     "output_type": "display_data"
    }
   ],
   "source": [
    "%%html\n",
    "<style>\n",
    ".dataframe {\n",
    "    font-size: 9pt; /* Adjust font size as needed */\n",
    "}\n",
    "</style>"
   ]
  },
  {
   "cell_type": "code",
   "execution_count": 3,
   "id": "267c3e1b",
   "metadata": {},
   "outputs": [
    {
     "name": "stderr",
     "output_type": "stream",
     "text": [
      "c:\\Users\\spask\\miniconda3\\Lib\\site-packages\\vectorbtpro\\data\\base.py:1728: VBTWarning: Symbols have mismatching index. Setting missing data points to NaN.\n"
     ]
    },
    {
     "data": {
      "text/plain": [
       "<helpers.SierraChartData at 0x22ba1484170>"
      ]
     },
     "execution_count": 3,
     "metadata": {},
     "output_type": "execute_result"
    }
   ],
   "source": [
    "symbols = [\"MES\", \"6B\"]\n",
    "df = pth.SierraChartData.ffill(\n",
    "    pth.SierraChartData.pull(\n",
    "        symbols,\n",
    "        timeframe=\"1min\",\n",
    "        start=\"2024-11-01\",\n",
    "        end=\"2024-12-01\",\n",
    "    )\n",
    ")\n",
    "df"
   ]
  },
  {
   "cell_type": "code",
   "execution_count": 4,
   "id": "e4ad9429",
   "metadata": {},
   "outputs": [
    {
     "data": {
      "application/vnd.jupyter.widget-view+json": {
       "model_id": "dcb46069d5694946a739f91e2cfd726a",
       "version_major": 2,
       "version_minor": 0
      },
      "text/plain": [
       "FigureWidget({\n",
       "    'data': [{'name': 'close',\n",
       "              'showlegend': True,\n",
       "              'type': 'scatter',\n",
       "              'uid': 'e8390c4d-ea22-4240-adae-ed37909fb6c4',\n",
       "              'x': array([datetime.datetime(2024, 11, 1, 0, 0, tzinfo=datetime.timezone.utc),\n",
       "                          datetime.datetime(2024, 11, 1, 0, 1, tzinfo=datetime.timezone.utc),\n",
       "                          datetime.datetime(2024, 11, 1, 0, 2, tzinfo=datetime.timezone.utc), ...,\n",
       "                          datetime.datetime(2024, 12, 1, 23, 57, tzinfo=datetime.timezone.utc),\n",
       "                          datetime.datetime(2024, 12, 1, 23, 58, tzinfo=datetime.timezone.utc),\n",
       "                          datetime.datetime(2024, 12, 1, 23, 59, tzinfo=datetime.timezone.utc)],\n",
       "                         dtype=object),\n",
       "              'y': array([5808.5 , 5808.75, 5808.5 , ..., 6115.75, 6116.  , 6115.75])}],\n",
       "    'layout': {'height': 350,\n",
       "               'legend': {'orientation': 'h',\n",
       "                          'traceorder': 'normal',\n",
       "                          'x': 1,\n",
       "                          'xanchor': 'right',\n",
       "                          'y': 1.02,\n",
       "                          'yanchor': 'bottom'},\n",
       "               'margin': {'b': 30, 'l': 30, 'r': 30, 't': 30},\n",
       "               'template': '...',\n",
       "               'width': 700}\n",
       "})"
      ]
     },
     "execution_count": 4,
     "metadata": {},
     "output_type": "execute_result"
    }
   ],
   "source": [
    "close = df.data['MES'].close\n",
    "close.vbt.plot()"
   ]
  },
  {
   "cell_type": "markdown",
   "id": "deb3b5d8",
   "metadata": {},
   "source": [
    "### Generators"
   ]
  },
  {
   "cell_type": "code",
   "execution_count": 42,
   "id": "97835cf1",
   "metadata": {},
   "outputs": [
    {
     "data": {
      "application/vnd.jupyter.widget-view+json": {
       "model_id": "9d9e5fe972914f088f102fc70521a6fc",
       "version_major": 2,
       "version_minor": 0
      },
      "text/plain": [
       "FigureWidget({\n",
       "    'data': [{'name': 'MES',\n",
       "              'showlegend': True,\n",
       "              'type': 'scatter',\n",
       "              'uid': '76ecb463-7ac7-4c18-aa97-aeb6d7aac201',\n",
       "              'x': array([datetime.datetime(2024, 12, 4, 13, 30, tzinfo=datetime.timezone.utc),\n",
       "                          datetime.datetime(2024, 12, 4, 13, 31, tzinfo=datetime.timezone.utc),\n",
       "                          datetime.datetime(2024, 12, 4, 13, 32, tzinfo=datetime.timezone.utc),\n",
       "                          ...,\n",
       "                          datetime.datetime(2024, 12, 4, 20, 28, tzinfo=datetime.timezone.utc),\n",
       "                          datetime.datetime(2024, 12, 4, 20, 29, tzinfo=datetime.timezone.utc),\n",
       "                          datetime.datetime(2024, 12, 4, 20, 30, tzinfo=datetime.timezone.utc)],\n",
       "                         dtype=object),\n",
       "              'y': array([6151.  , 6150.75, 6150.75, ..., 6167.  , 6166.75, 6166.  ])}],\n",
       "    'layout': {'height': 350,\n",
       "               'legend': {'orientation': 'h',\n",
       "                          'traceorder': 'normal',\n",
       "                          'x': 1,\n",
       "                          'xanchor': 'right',\n",
       "                          'y': 1.02,\n",
       "                          'yanchor': 'bottom'},\n",
       "               'margin': {'b': 30, 'l': 30, 'r': 30, 't': 30},\n",
       "               'template': '...',\n",
       "               'width': 700}\n",
       "})"
      ]
     },
     "execution_count": 42,
     "metadata": {},
     "output_type": "execute_result"
    }
   ],
   "source": [
    "df_small = pth.SierraChartData.ffill(\n",
    "    pth.SierraChartData.pull(\n",
    "        symbols,\n",
    "        timeframe=\"1min\",\n",
    "        start=\"2024-12-04 13:30\",\n",
    "        end=\"2024-12-04 20:30\",\n",
    "    )\n",
    ")\n",
    "close = df_small.get('close')\n",
    "close['MES'].vbt.plot()"
   ]
  },
  {
   "cell_type": "markdown",
   "id": "7d00751c",
   "metadata": {},
   "source": [
    "### Simple Example"
   ]
  },
  {
   "cell_type": "code",
   "execution_count": 102,
   "id": "0c0f17d7",
   "metadata": {},
   "outputs": [
    {
     "data": {
      "text/plain": [
       "symbol\n",
       "MES    9\n",
       "6B     9\n",
       "dtype: int64"
      ]
     },
     "execution_count": 102,
     "metadata": {},
     "output_type": "execute_result"
    }
   ],
   "source": [
    "@njit(nogil=True)\n",
    "def place_func_nb(c):\n",
    "    last = -1\n",
    "    for i in range(c.out.shape[0]):\n",
    "        if i % 50 == 0:\n",
    "            c.out[i] = True\n",
    "            last = i\n",
    "    return last\n",
    "\n",
    "\n",
    "symbol_wrapper = df_small.get_symbol_wrapper()\n",
    "mask = vbt.pd_acc.signals.generate(\n",
    "    symbol_wrapper.shape,\n",
    "    place_func_nb,\n",
    "    wrapper=symbol_wrapper,\n",
    ")\n",
    "mask.sum()"
   ]
  },
  {
   "cell_type": "code",
   "execution_count": 103,
   "id": "597b6dda",
   "metadata": {},
   "outputs": [
    {
     "data": {
      "application/vnd.jupyter.widget-view+json": {
       "model_id": "6f607cb3764a4db989f0c7f69530c379",
       "version_major": 2,
       "version_minor": 0
      },
      "text/plain": [
       "FigureWidget({\n",
       "    'data': [{'hoverinfo': 'skip',\n",
       "              'line': {'color': 'rgba(0, 0, 0, 0)', 'width': 0},\n",
       "              'mode': 'lines',\n",
       "              'opacity': 0,\n",
       "              'showlegend': False,\n",
       "              'type': 'scatter',\n",
       "              'uid': '2894c34f-df4e-40f1-9148-27edf2aaf57f',\n",
       "              'x': array([datetime.datetime(2024, 12, 4, 13, 30, tzinfo=datetime.timezone.utc),\n",
       "                          datetime.datetime(2024, 12, 4, 13, 31, tzinfo=datetime.timezone.utc),\n",
       "                          datetime.datetime(2024, 12, 4, 13, 32, tzinfo=datetime.timezone.utc),\n",
       "                          ...,\n",
       "                          datetime.datetime(2024, 12, 4, 20, 28, tzinfo=datetime.timezone.utc),\n",
       "                          datetime.datetime(2024, 12, 4, 20, 29, tzinfo=datetime.timezone.utc),\n",
       "                          datetime.datetime(2024, 12, 4, 20, 30, tzinfo=datetime.timezone.utc)],\n",
       "                         dtype=object),\n",
       "              'y': array([100., 100., 100., ..., 100., 100., 100.])},\n",
       "             {'connectgaps': False,\n",
       "              'fill': 'tonexty',\n",
       "              'fillcolor': 'rgba(148,103,189,0.3000)',\n",
       "              'hoverinfo': 'skip',\n",
       "              'line': {'color': 'rgba(0, 0, 0, 0)', 'width': 0},\n",
       "              'mode': 'lines',\n",
       "              'opacity': 0,\n",
       "              'showlegend': False,\n",
       "              'type': 'scatter',\n",
       "              'uid': 'ed4d7887-9e7d-41bc-a813-e59178d4fd3c',\n",
       "              'x': array([datetime.datetime(2024, 12, 4, 13, 30, tzinfo=datetime.timezone.utc),\n",
       "                          datetime.datetime(2024, 12, 4, 13, 31, tzinfo=datetime.timezone.utc),\n",
       "                          datetime.datetime(2024, 12, 4, 13, 32, tzinfo=datetime.timezone.utc),\n",
       "                          ...,\n",
       "                          datetime.datetime(2024, 12, 4, 20, 28, tzinfo=datetime.timezone.utc),\n",
       "                          datetime.datetime(2024, 12, 4, 20, 29, tzinfo=datetime.timezone.utc),\n",
       "                          datetime.datetime(2024, 12, 4, 20, 30, tzinfo=datetime.timezone.utc)],\n",
       "                         dtype=object),\n",
       "              'y': array([100.        , 100.        , 100.        , ..., 100.28055436,\n",
       "                          100.27648915, 100.26429353])},\n",
       "             {'hoverinfo': 'skip',\n",
       "              'line': {'color': 'rgba(0, 0, 0, 0)', 'width': 0},\n",
       "              'mode': 'lines',\n",
       "              'opacity': 0,\n",
       "              'showlegend': False,\n",
       "              'type': 'scatter',\n",
       "              'uid': '384485f2-d573-4dbb-9129-c46e44d9ccda',\n",
       "              'x': array([datetime.datetime(2024, 12, 4, 13, 30, tzinfo=datetime.timezone.utc),\n",
       "                          datetime.datetime(2024, 12, 4, 13, 31, tzinfo=datetime.timezone.utc),\n",
       "                          datetime.datetime(2024, 12, 4, 13, 32, tzinfo=datetime.timezone.utc),\n",
       "                          ...,\n",
       "                          datetime.datetime(2024, 12, 4, 20, 28, tzinfo=datetime.timezone.utc),\n",
       "                          datetime.datetime(2024, 12, 4, 20, 29, tzinfo=datetime.timezone.utc),\n",
       "                          datetime.datetime(2024, 12, 4, 20, 30, tzinfo=datetime.timezone.utc)],\n",
       "                         dtype=object),\n",
       "              'y': array([100., 100., 100., ..., 100., 100., 100.])},\n",
       "             {'connectgaps': False,\n",
       "              'fill': 'tonexty',\n",
       "              'fillcolor': 'rgba(220,57,18,0.3000)',\n",
       "              'hoverinfo': 'skip',\n",
       "              'line': {'color': 'rgba(0, 0, 0, 0)', 'width': 0},\n",
       "              'mode': 'lines',\n",
       "              'opacity': 0,\n",
       "              'showlegend': False,\n",
       "              'type': 'scatter',\n",
       "              'uid': '18705f3b-5dbe-4239-a1ec-0518ab3d80ee',\n",
       "              'x': array([datetime.datetime(2024, 12, 4, 13, 30, tzinfo=datetime.timezone.utc),\n",
       "                          datetime.datetime(2024, 12, 4, 13, 31, tzinfo=datetime.timezone.utc),\n",
       "                          datetime.datetime(2024, 12, 4, 13, 32, tzinfo=datetime.timezone.utc),\n",
       "                          ...,\n",
       "                          datetime.datetime(2024, 12, 4, 20, 28, tzinfo=datetime.timezone.utc),\n",
       "                          datetime.datetime(2024, 12, 4, 20, 29, tzinfo=datetime.timezone.utc),\n",
       "                          datetime.datetime(2024, 12, 4, 20, 30, tzinfo=datetime.timezone.utc)],\n",
       "                         dtype=object),\n",
       "              'y': array([100.        ,  99.99593562,  99.99593562, ..., 100.        ,\n",
       "                          100.        , 100.        ])},\n",
       "             {'line': {'color': '#9467bd'},\n",
       "              'mode': 'lines',\n",
       "              'name': 'Value',\n",
       "              'showlegend': True,\n",
       "              'type': 'scatter',\n",
       "              'uid': '7c13a684-7dd6-408b-8d90-7ed1690d750f',\n",
       "              'x': array([datetime.datetime(2024, 12, 4, 13, 30, tzinfo=datetime.timezone.utc),\n",
       "                          datetime.datetime(2024, 12, 4, 13, 31, tzinfo=datetime.timezone.utc),\n",
       "                          datetime.datetime(2024, 12, 4, 13, 32, tzinfo=datetime.timezone.utc),\n",
       "                          ...,\n",
       "                          datetime.datetime(2024, 12, 4, 20, 28, tzinfo=datetime.timezone.utc),\n",
       "                          datetime.datetime(2024, 12, 4, 20, 29, tzinfo=datetime.timezone.utc),\n",
       "                          datetime.datetime(2024, 12, 4, 20, 30, tzinfo=datetime.timezone.utc)],\n",
       "                         dtype=object),\n",
       "              'y': array([100.        ,  99.99593562,  99.99593562, ..., 100.28055436,\n",
       "                          100.27648915, 100.26429353])},\n",
       "             {'hoverinfo': 'skip',\n",
       "              'line': {'color': 'rgba(0, 0, 0, 0)', 'width': 0},\n",
       "              'mode': 'lines',\n",
       "              'opacity': 0.0,\n",
       "              'showlegend': False,\n",
       "              'type': 'scatter',\n",
       "              'uid': '8ac10cb5-36cb-4c5d-9099-5d9a3c7be857',\n",
       "              'x': array([datetime.datetime(2024, 12, 4, 13, 30, tzinfo=datetime.timezone.utc),\n",
       "                          datetime.datetime(2024, 12, 4, 13, 31, tzinfo=datetime.timezone.utc),\n",
       "                          datetime.datetime(2024, 12, 4, 13, 32, tzinfo=datetime.timezone.utc),\n",
       "                          ...,\n",
       "                          datetime.datetime(2024, 12, 4, 20, 28, tzinfo=datetime.timezone.utc),\n",
       "                          datetime.datetime(2024, 12, 4, 20, 29, tzinfo=datetime.timezone.utc),\n",
       "                          datetime.datetime(2024, 12, 4, 20, 30, tzinfo=datetime.timezone.utc)],\n",
       "                         dtype=object),\n",
       "              'y': array([100., 100., 100., ..., 100., 100., 100.])}],\n",
       "    'layout': {'height': 350,\n",
       "               'legend': {'orientation': 'h',\n",
       "                          'traceorder': 'normal',\n",
       "                          'x': 1,\n",
       "                          'xanchor': 'right',\n",
       "                          'y': 1.02,\n",
       "                          'yanchor': 'bottom'},\n",
       "               'margin': {'b': 30, 'l': 30, 'r': 30, 't': 30},\n",
       "               'shapes': [{'line': {'color': 'gray', 'dash': 'dash'},\n",
       "                           'type': 'line',\n",
       "                           'x0': 0,\n",
       "                           'x1': 1,\n",
       "                           'xref': 'paper',\n",
       "                           'y0': np.float64(100.0),\n",
       "                           'y1': np.float64(100.0),\n",
       "                           'yref': 'y'}],\n",
       "               'template': '...',\n",
       "               'width': 700}\n",
       "})"
      ]
     },
     "execution_count": 103,
     "metadata": {},
     "output_type": "execute_result"
    }
   ],
   "source": [
    "pf = vbt.Portfolio.from_signals(\n",
    "    close,\n",
    "    mask,\n",
    "    mask.shift(49).dropna().astype(bool),\n",
    ")\n",
    "pf['MES'].plot_value()"
   ]
  },
  {
   "cell_type": "markdown",
   "id": "4e95c856",
   "metadata": {},
   "source": [
    "### Time Based Example"
   ]
  },
  {
   "cell_type": "code",
   "execution_count": 111,
   "id": "a85db859",
   "metadata": {},
   "outputs": [
    {
     "data": {
      "text/plain": [
       "symbol\n",
       "MES    7\n",
       "6B     7\n",
       "dtype: int64"
      ]
     },
     "execution_count": 111,
     "metadata": {},
     "output_type": "execute_result"
    }
   ],
   "source": [
    "@njit\n",
    "def place_time_func_nb(c, index):\n",
    "    last = -1\n",
    "    prev_hour = vbt.dt_nb.hour_nb(index[0])\n",
    "    for i in range(c.out.shape[0]):\n",
    "        # place a trade every hour\n",
    "        hour = vbt.dt_nb.hour_nb(index[i])\n",
    "        if hour != prev_hour:\n",
    "            c.out[i] = True\n",
    "            last = i\n",
    "        prev_hour = hour\n",
    "    return last\n",
    "\n",
    "\n",
    "mask = vbt.pd_acc.signals.generate(\n",
    "    symbol_wrapper.shape,\n",
    "    place_time_func_nb,\n",
    "    vbt.dt.to_ns(symbol_wrapper.index),\n",
    "    wrapper=symbol_wrapper,\n",
    ")\n",
    "mask.sum()"
   ]
  },
  {
   "cell_type": "code",
   "execution_count": 116,
   "id": "954b8307",
   "metadata": {},
   "outputs": [
    {
     "data": {
      "application/vnd.jupyter.widget-view+json": {
       "model_id": "4d9e4e49b71e44bb870ba26ab4ebabcf",
       "version_major": 2,
       "version_minor": 0
      },
      "text/plain": [
       "FigureWidget({\n",
       "    'data': [{'legendgroup': '0',\n",
       "              'line': {'color': '#1f77b4'},\n",
       "              'mode': 'lines',\n",
       "              'name': 'Close',\n",
       "              'showlegend': True,\n",
       "              'type': 'scatter',\n",
       "              'uid': '916f32d4-1d02-4265-8708-c1a364e95af8',\n",
       "              'x': array([datetime.datetime(2024, 12, 4, 13, 30, tzinfo=datetime.timezone.utc),\n",
       "                          datetime.datetime(2024, 12, 4, 13, 31, tzinfo=datetime.timezone.utc),\n",
       "                          datetime.datetime(2024, 12, 4, 13, 32, tzinfo=datetime.timezone.utc),\n",
       "                          ...,\n",
       "                          datetime.datetime(2024, 12, 4, 20, 28, tzinfo=datetime.timezone.utc),\n",
       "                          datetime.datetime(2024, 12, 4, 20, 29, tzinfo=datetime.timezone.utc),\n",
       "                          datetime.datetime(2024, 12, 4, 20, 30, tzinfo=datetime.timezone.utc)],\n",
       "                         dtype=object),\n",
       "              'xaxis': 'x',\n",
       "              'y': array([6151.  , 6150.75, 6150.75, ..., 6167.  , 6166.75, 6166.  ]),\n",
       "              'yaxis': 'y'},\n",
       "             {'customdata': array([['0', '2024-12-04 14:00:00+00:00', '2024-12-04 14:00:00+00:00',\n",
       "                                    '2024-12-04 14:00:00+00:00', 0.01624893366372832, 6154.25, 0.0,\n",
       "                                    'Market', 'None'],\n",
       "                                   ['2', '2024-12-04 15:00:00+00:00', '2024-12-04 15:00:00+00:00',\n",
       "                                    '2024-12-04 15:00:00+00:00', 0.01625950422435526, 6148.75, 0.0,\n",
       "                                    'Market', 'None'],\n",
       "                                   ['4', '2024-12-04 16:00:00+00:00', '2024-12-04 16:00:00+00:00',\n",
       "                                    '2024-12-04 16:00:00+00:00', 0.016257523451486216, 6156.5, 0.0,\n",
       "                                    'Market', 'None'],\n",
       "                                   ['6', '2024-12-04 17:00:00+00:00', '2024-12-04 17:00:00+00:00',\n",
       "                                    '2024-12-04 17:00:00+00:00', 0.016258843698639985, 6157.0, 0.0,\n",
       "                                    'Market', 'None'],\n",
       "                                   ['8', '2024-12-04 18:00:00+00:00', '2024-12-04 18:00:00+00:00',\n",
       "                                    '2024-12-04 18:00:00+00:00', 0.01626082431061448, 6156.75, 0.0,\n",
       "                                    'Market', 'None'],\n",
       "                                   ['10', '2024-12-04 19:00:00+00:00', '2024-12-04 19:00:00+00:00',\n",
       "                                    '2024-12-04 19:00:00+00:00', 0.016253560297155384, 6156.0, 0.0,\n",
       "                                    'Market', 'None'],\n",
       "                                   ['12', '2024-12-04 20:00:00+00:00', '2024-12-04 20:00:00+00:00',\n",
       "                                    '2024-12-04 20:00:00+00:00', 0.01625421967079827, 6162.5, 0.0,\n",
       "                                    'Market', 'None']], dtype=object),\n",
       "              'hovertemplate': ('<br>Order Id: %{customdata[0]}' ... 'br>Stop Type: %{customdata[8]}'),\n",
       "              'legendgroup': '1',\n",
       "              'marker': {'color': '#37B13F',\n",
       "                         'line': {'color': 'rgb(38,123,44)', 'width': 1},\n",
       "                         'size': 8,\n",
       "                         'symbol': 'triangle-up'},\n",
       "              'mode': 'markers',\n",
       "              'name': 'Buy',\n",
       "              'type': 'scatter',\n",
       "              'uid': 'f3dc5ce0-537b-4347-be97-5036bbf39fa0',\n",
       "              'x': array([datetime.datetime(2024, 12, 4, 14, 0, tzinfo=datetime.timezone.utc),\n",
       "                          datetime.datetime(2024, 12, 4, 15, 0, tzinfo=datetime.timezone.utc),\n",
       "                          datetime.datetime(2024, 12, 4, 16, 0, tzinfo=datetime.timezone.utc),\n",
       "                          datetime.datetime(2024, 12, 4, 17, 0, tzinfo=datetime.timezone.utc),\n",
       "                          datetime.datetime(2024, 12, 4, 18, 0, tzinfo=datetime.timezone.utc),\n",
       "                          datetime.datetime(2024, 12, 4, 19, 0, tzinfo=datetime.timezone.utc),\n",
       "                          datetime.datetime(2024, 12, 4, 20, 0, tzinfo=datetime.timezone.utc)],\n",
       "                         dtype=object),\n",
       "              'xaxis': 'x',\n",
       "              'y': array([6154.25, 6148.75, 6156.5 , 6157.  , 6156.75, 6156.  , 6162.5 ]),\n",
       "              'yaxis': 'y'},\n",
       "             {'customdata': array([['1', '2024-12-04 14:59:00+00:00', '2024-12-04 14:59:00+00:00',\n",
       "                                    '2024-12-04 14:59:00+00:00', 0.01624893366372832, 6152.75, 0.0,\n",
       "                                    'Market', 'None'],\n",
       "                                   ['3', '2024-12-04 15:59:00+00:00', '2024-12-04 15:59:00+00:00',\n",
       "                                    '2024-12-04 15:59:00+00:00', 0.01625950422435526, 6155.75, 0.0,\n",
       "                                    'Market', 'None'],\n",
       "                                   ['5', '2024-12-04 16:59:00+00:00', '2024-12-04 16:59:00+00:00',\n",
       "                                    '2024-12-04 16:59:00+00:00', 0.016257523451486216, 6157.5, 0.0,\n",
       "                                    'Market', 'None'],\n",
       "                                   ['7', '2024-12-04 17:59:00+00:00', '2024-12-04 17:59:00+00:00',\n",
       "                                    '2024-12-04 17:59:00+00:00', 0.016258843698639985, 6157.5, 0.0,\n",
       "                                    'Market', 'None'],\n",
       "                                   ['9', '2024-12-04 18:59:00+00:00', '2024-12-04 18:59:00+00:00',\n",
       "                                    '2024-12-04 18:59:00+00:00', 0.01626082431061448, 6153.25, 0.0,\n",
       "                                    'Market', 'None'],\n",
       "                                   ['11', '2024-12-04 19:59:00+00:00', '2024-12-04 19:59:00+00:00',\n",
       "                                    '2024-12-04 19:59:00+00:00', 0.016253560297155384, 6162.75, 0.0,\n",
       "                                    'Market', 'None']], dtype=object),\n",
       "              'hovertemplate': ('<br>Order Id: %{customdata[0]}' ... 'br>Stop Type: %{customdata[8]}'),\n",
       "              'legendgroup': '2',\n",
       "              'marker': {'color': '#EA4335',\n",
       "                         'line': {'color': 'rgb(181,31,18)', 'width': 1},\n",
       "                         'size': 8,\n",
       "                         'symbol': 'triangle-down'},\n",
       "              'mode': 'markers',\n",
       "              'name': 'Sell',\n",
       "              'type': 'scatter',\n",
       "              'uid': 'e24c4b7d-0e78-4f2e-826b-3867c1297925',\n",
       "              'x': array([datetime.datetime(2024, 12, 4, 14, 59, tzinfo=datetime.timezone.utc),\n",
       "                          datetime.datetime(2024, 12, 4, 15, 59, tzinfo=datetime.timezone.utc),\n",
       "                          datetime.datetime(2024, 12, 4, 16, 59, tzinfo=datetime.timezone.utc),\n",
       "                          datetime.datetime(2024, 12, 4, 17, 59, tzinfo=datetime.timezone.utc),\n",
       "                          datetime.datetime(2024, 12, 4, 18, 59, tzinfo=datetime.timezone.utc),\n",
       "                          datetime.datetime(2024, 12, 4, 19, 59, tzinfo=datetime.timezone.utc)],\n",
       "                         dtype=object),\n",
       "              'xaxis': 'x',\n",
       "              'y': array([6152.75, 6155.75, 6157.5 , 6157.5 , 6153.25, 6162.75]),\n",
       "              'yaxis': 'y'},\n",
       "             {'customdata': array([['1', '1', '2024-12-04 15:59:00+00:00', 0.11381652957048516,\n",
       "                                    0.001138442772921309],\n",
       "                                   ['2', '2', '2024-12-04 16:59:00+00:00', 0.016257523451486122,\n",
       "                                    0.0001624299520831632],\n",
       "                                   ['3', '3', '2024-12-04 17:59:00+00:00', 0.008129421849318419,\n",
       "                                    8.120838070487303e-05],\n",
       "                                   ['5', '5', '2024-12-04 19:59:00+00:00', 0.10971153200580375,\n",
       "                                    0.0010964912280702246]], dtype=object),\n",
       "              'hovertemplate': ('<br>Exit Trade Id: %{customdat' ... 'br>Return: %{customdata[4]:,%}'),\n",
       "              'legendgroup': '3',\n",
       "              'marker': {'color': '#37B13F',\n",
       "                         'line': {'color': 'rgb(38,123,44)', 'width': 1},\n",
       "                         'opacity': array([0.9       , 0.76152368, 0.75      , 0.89404793]),\n",
       "                         'size': array([14.        ,  7.53777195,  7.        , 13.72223679]),\n",
       "                         'symbol': 'circle'},\n",
       "              'mode': 'markers',\n",
       "              'name': 'Closed - Profit',\n",
       "              'type': 'scatter',\n",
       "              'uid': 'b1f1cb94-446f-4a78-9690-390885e892bc',\n",
       "              'x': array([datetime.datetime(2024, 12, 4, 15, 59, tzinfo=datetime.timezone.utc),\n",
       "                          datetime.datetime(2024, 12, 4, 16, 59, tzinfo=datetime.timezone.utc),\n",
       "                          datetime.datetime(2024, 12, 4, 17, 59, tzinfo=datetime.timezone.utc),\n",
       "                          datetime.datetime(2024, 12, 4, 19, 59, tzinfo=datetime.timezone.utc)],\n",
       "                         dtype=object),\n",
       "              'xaxis': 'x2',\n",
       "              'y': array([1.13844277e-03, 1.62429952e-04, 8.12083807e-05, 1.09649123e-03]),\n",
       "              'yaxis': 'y2'},\n",
       "             {'customdata': array([['0', '0', '2024-12-04 14:59:00+00:00', -0.024373400495591113,\n",
       "                                    -0.00024373400495591112],\n",
       "                                   ['4', '4', '2024-12-04 18:59:00+00:00', -0.05691288508715786,\n",
       "                                    -0.0005684817476753874]], dtype=object),\n",
       "              'hovertemplate': ('<br>Exit Trade Id: %{customdat' ... 'br>Return: %{customdata[4]:,%}'),\n",
       "              'legendgroup': '4',\n",
       "              'marker': {'color': '#EA4335',\n",
       "                         'line': {'color': 'rgb(181,31,18)', 'width': 1},\n",
       "                         'opacity': array([0.77305907, 0.81913415]),\n",
       "                         'size': array([ 8.07609001, 10.22626051]),\n",
       "                         'symbol': 'circle'},\n",
       "              'mode': 'markers',\n",
       "              'name': 'Closed - Loss',\n",
       "              'type': 'scatter',\n",
       "              'uid': 'b14cd906-79d5-401d-bcf2-b14923a280b1',\n",
       "              'x': array([datetime.datetime(2024, 12, 4, 14, 59, tzinfo=datetime.timezone.utc),\n",
       "                          datetime.datetime(2024, 12, 4, 18, 59, tzinfo=datetime.timezone.utc)],\n",
       "                         dtype=object),\n",
       "              'xaxis': 'x2',\n",
       "              'y': array([-0.00024373, -0.00056848]),\n",
       "              'yaxis': 'y2'},\n",
       "             {'customdata': array([['6', '6', '2024-12-04 20:30:00+00:00', 0.05688976884779606,\n",
       "                                    0.000567951318458439]], dtype=object),\n",
       "              'hovertemplate': ('<br>Exit Trade Id: %{customdat' ... 'br>Return: %{customdata[4]:,%}'),\n",
       "              'legendgroup': '5',\n",
       "              'marker': {'color': '#FFAA00',\n",
       "                         'line': {'color': 'rgb(178,118,0)', 'width': 1},\n",
       "                         'opacity': array([0.8190589]),\n",
       "                         'size': array([10.22274851]),\n",
       "                         'symbol': 'circle'},\n",
       "              'mode': 'markers',\n",
       "              'name': 'Open',\n",
       "              'type': 'scatter',\n",
       "              'uid': '396d5ba9-c9e6-4e98-9524-9241b2543106',\n",
       "              'x': array([datetime.datetime(2024, 12, 4, 20, 30, tzinfo=datetime.timezone.utc)],\n",
       "                         dtype=object),\n",
       "              'xaxis': 'x2',\n",
       "              'y': array([0.00056795]),\n",
       "              'yaxis': 'y2'},\n",
       "             {'legendgroup': '6',\n",
       "              'line': {'color': '#7f7f7f'},\n",
       "              'mode': 'lines',\n",
       "              'name': 'Benchmark',\n",
       "              'showlegend': True,\n",
       "              'type': 'scatter',\n",
       "              'uid': 'a95bf025-9502-4c3e-87bb-87a822bfbf21',\n",
       "              'x': array([datetime.datetime(2024, 12, 4, 13, 30, tzinfo=datetime.timezone.utc),\n",
       "                          datetime.datetime(2024, 12, 4, 13, 31, tzinfo=datetime.timezone.utc),\n",
       "                          datetime.datetime(2024, 12, 4, 13, 32, tzinfo=datetime.timezone.utc),\n",
       "                          ...,\n",
       "                          datetime.datetime(2024, 12, 4, 20, 28, tzinfo=datetime.timezone.utc),\n",
       "                          datetime.datetime(2024, 12, 4, 20, 29, tzinfo=datetime.timezone.utc),\n",
       "                          datetime.datetime(2024, 12, 4, 20, 30, tzinfo=datetime.timezone.utc)],\n",
       "                         dtype=object),\n",
       "              'xaxis': 'x3',\n",
       "              'y': array([1.        , 0.99995936, 0.99995936, ..., 1.0026012 , 1.00256056,\n",
       "                          1.00243863]),\n",
       "              'yaxis': 'y3'},\n",
       "             {'hoverinfo': 'skip',\n",
       "              'line': {'color': 'rgba(0, 0, 0, 0)', 'width': 0},\n",
       "              'mode': 'lines',\n",
       "              'opacity': 0,\n",
       "              'showlegend': False,\n",
       "              'type': 'scatter',\n",
       "              'uid': 'f037acc7-ecc1-40f5-af84-1a2c0fe26e84',\n",
       "              'x': array([datetime.datetime(2024, 12, 4, 13, 30, tzinfo=datetime.timezone.utc),\n",
       "                          datetime.datetime(2024, 12, 4, 13, 31, tzinfo=datetime.timezone.utc),\n",
       "                          datetime.datetime(2024, 12, 4, 13, 32, tzinfo=datetime.timezone.utc),\n",
       "                          ...,\n",
       "                          datetime.datetime(2024, 12, 4, 20, 28, tzinfo=datetime.timezone.utc),\n",
       "                          datetime.datetime(2024, 12, 4, 20, 29, tzinfo=datetime.timezone.utc),\n",
       "                          datetime.datetime(2024, 12, 4, 20, 30, tzinfo=datetime.timezone.utc)],\n",
       "                         dtype=object),\n",
       "              'xaxis': 'x3',\n",
       "              'y': array([1, 1, 1, ..., 1, 1, 1]),\n",
       "              'yaxis': 'y3'},\n",
       "             {'connectgaps': False,\n",
       "              'fill': 'tonexty',\n",
       "              'fillcolor': 'rgba(148,103,189,0.3000)',\n",
       "              'hoverinfo': 'skip',\n",
       "              'line': {'color': 'rgba(0, 0, 0, 0)', 'width': 0},\n",
       "              'mode': 'lines',\n",
       "              'opacity': 0,\n",
       "              'showlegend': False,\n",
       "              'type': 'scatter',\n",
       "              'uid': '1d9f696f-27e8-46e2-95fd-8619cb4635cc',\n",
       "              'x': array([datetime.datetime(2024, 12, 4, 13, 30, tzinfo=datetime.timezone.utc),\n",
       "                          datetime.datetime(2024, 12, 4, 13, 31, tzinfo=datetime.timezone.utc),\n",
       "                          datetime.datetime(2024, 12, 4, 13, 32, tzinfo=datetime.timezone.utc),\n",
       "                          ...,\n",
       "                          datetime.datetime(2024, 12, 4, 20, 28, tzinfo=datetime.timezone.utc),\n",
       "                          datetime.datetime(2024, 12, 4, 20, 29, tzinfo=datetime.timezone.utc),\n",
       "                          datetime.datetime(2024, 12, 4, 20, 30, tzinfo=datetime.timezone.utc)],\n",
       "                         dtype=object),\n",
       "              'xaxis': 'x3',\n",
       "              'y': array([1.        , 1.        , 1.        , ..., 1.00239773, 1.00235709,\n",
       "                          1.00223518]),\n",
       "              'yaxis': 'y3'},\n",
       "             {'hoverinfo': 'skip',\n",
       "              'line': {'color': 'rgba(0, 0, 0, 0)', 'width': 0},\n",
       "              'mode': 'lines',\n",
       "              'opacity': 0,\n",
       "              'showlegend': False,\n",
       "              'type': 'scatter',\n",
       "              'uid': 'b21277c4-437e-43f9-801c-6029cd4c00e0',\n",
       "              'x': array([datetime.datetime(2024, 12, 4, 13, 30, tzinfo=datetime.timezone.utc),\n",
       "                          datetime.datetime(2024, 12, 4, 13, 31, tzinfo=datetime.timezone.utc),\n",
       "                          datetime.datetime(2024, 12, 4, 13, 32, tzinfo=datetime.timezone.utc),\n",
       "                          ...,\n",
       "                          datetime.datetime(2024, 12, 4, 20, 28, tzinfo=datetime.timezone.utc),\n",
       "                          datetime.datetime(2024, 12, 4, 20, 29, tzinfo=datetime.timezone.utc),\n",
       "                          datetime.datetime(2024, 12, 4, 20, 30, tzinfo=datetime.timezone.utc)],\n",
       "                         dtype=object),\n",
       "              'xaxis': 'x3',\n",
       "              'y': array([1, 1, 1, ..., 1, 1, 1]),\n",
       "              'yaxis': 'y3'},\n",
       "             {'connectgaps': False,\n",
       "              'fill': 'tonexty',\n",
       "              'fillcolor': 'rgba(220,57,18,0.3000)',\n",
       "              'hoverinfo': 'skip',\n",
       "              'line': {'color': 'rgba(0, 0, 0, 0)', 'width': 0},\n",
       "              'mode': 'lines',\n",
       "              'opacity': 0,\n",
       "              'showlegend': False,\n",
       "              'type': 'scatter',\n",
       "              'uid': '45eb40b9-541d-44c7-8e17-854a89b43d68',\n",
       "              'x': array([datetime.datetime(2024, 12, 4, 13, 30, tzinfo=datetime.timezone.utc),\n",
       "                          datetime.datetime(2024, 12, 4, 13, 31, tzinfo=datetime.timezone.utc),\n",
       "                          datetime.datetime(2024, 12, 4, 13, 32, tzinfo=datetime.timezone.utc),\n",
       "                          ...,\n",
       "                          datetime.datetime(2024, 12, 4, 20, 28, tzinfo=datetime.timezone.utc),\n",
       "                          datetime.datetime(2024, 12, 4, 20, 29, tzinfo=datetime.timezone.utc),\n",
       "                          datetime.datetime(2024, 12, 4, 20, 30, tzinfo=datetime.timezone.utc)],\n",
       "                         dtype=object),\n",
       "              'xaxis': 'x3',\n",
       "              'y': array([1., 1., 1., ..., 1., 1., 1.]),\n",
       "              'yaxis': 'y3'},\n",
       "             {'legendgroup': '7',\n",
       "              'line': {'color': '#9467bd'},\n",
       "              'mode': 'lines',\n",
       "              'name': 'Value',\n",
       "              'showlegend': True,\n",
       "              'type': 'scatter',\n",
       "              'uid': '5cd7b699-aaac-4966-8343-b3b26683eb6b',\n",
       "              'x': array([datetime.datetime(2024, 12, 4, 13, 30, tzinfo=datetime.timezone.utc),\n",
       "                          datetime.datetime(2024, 12, 4, 13, 31, tzinfo=datetime.timezone.utc),\n",
       "                          datetime.datetime(2024, 12, 4, 13, 32, tzinfo=datetime.timezone.utc),\n",
       "                          ...,\n",
       "                          datetime.datetime(2024, 12, 4, 20, 28, tzinfo=datetime.timezone.utc),\n",
       "                          datetime.datetime(2024, 12, 4, 20, 29, tzinfo=datetime.timezone.utc),\n",
       "                          datetime.datetime(2024, 12, 4, 20, 30, tzinfo=datetime.timezone.utc)],\n",
       "                         dtype=object),\n",
       "              'xaxis': 'x3',\n",
       "              'y': array([1.        , 1.        , 1.        , ..., 1.00239773, 1.00235709,\n",
       "                          1.00223518]),\n",
       "              'yaxis': 'y3'},\n",
       "             {'hoverinfo': 'skip',\n",
       "              'line': {'color': 'rgba(0, 0, 0, 0)', 'width': 0},\n",
       "              'mode': 'lines',\n",
       "              'opacity': 0.0,\n",
       "              'showlegend': False,\n",
       "              'type': 'scatter',\n",
       "              'uid': 'f85ca54c-d6ab-475e-a6b4-a3c7e0339a84',\n",
       "              'x': array([datetime.datetime(2024, 12, 4, 13, 30, tzinfo=datetime.timezone.utc),\n",
       "                          datetime.datetime(2024, 12, 4, 13, 31, tzinfo=datetime.timezone.utc),\n",
       "                          datetime.datetime(2024, 12, 4, 13, 32, tzinfo=datetime.timezone.utc),\n",
       "                          ...,\n",
       "                          datetime.datetime(2024, 12, 4, 20, 28, tzinfo=datetime.timezone.utc),\n",
       "                          datetime.datetime(2024, 12, 4, 20, 29, tzinfo=datetime.timezone.utc),\n",
       "                          datetime.datetime(2024, 12, 4, 20, 30, tzinfo=datetime.timezone.utc)],\n",
       "                         dtype=object),\n",
       "              'xaxis': 'x3',\n",
       "              'y': array([1, 1, 1, ..., 1, 1, 1]),\n",
       "              'yaxis': 'y3'}],\n",
       "    'layout': {'annotations': [{'font': {'size': 16},\n",
       "                                'showarrow': False,\n",
       "                                'text': 'Orders',\n",
       "                                'x': 0.5,\n",
       "                                'xanchor': 'center',\n",
       "                                'xref': 'paper',\n",
       "                                'y': 1.0,\n",
       "                                'yanchor': 'bottom',\n",
       "                                'yref': 'paper'},\n",
       "                               {'font': {'size': 16},\n",
       "                                'showarrow': False,\n",
       "                                'text': 'Trade PnL',\n",
       "                                'x': 0.5,\n",
       "                                'xanchor': 'center',\n",
       "                                'xref': 'paper',\n",
       "                                'y': 0.6527777777777777,\n",
       "                                'yanchor': 'bottom',\n",
       "                                'yref': 'paper'},\n",
       "                               {'font': {'size': 16},\n",
       "                                'showarrow': False,\n",
       "                                'text': 'Cumulative Returns',\n",
       "                                'x': 0.5,\n",
       "                                'xanchor': 'center',\n",
       "                                'xref': 'paper',\n",
       "                                'y': 0.3055555555555555,\n",
       "                                'yanchor': 'bottom',\n",
       "                                'yref': 'paper'}],\n",
       "               'height': 960,\n",
       "               'legend': {'orientation': 'h',\n",
       "                          'traceorder': 'normal',\n",
       "                          'x': 1,\n",
       "                          'xanchor': 'right',\n",
       "                          'y': 1.0416666666666667,\n",
       "                          'yanchor': 'bottom'},\n",
       "               'margin': {'b': 30, 'l': 30, 'r': 30, 't': 30},\n",
       "               'shapes': [{'line': {'color': 'gray', 'dash': 'dash'},\n",
       "                           'type': 'line',\n",
       "                           'x0': 0.0,\n",
       "                           'x1': 1.0,\n",
       "                           'xref': 'paper',\n",
       "                           'y0': 0,\n",
       "                           'y1': 0,\n",
       "                           'yref': 'y2'},\n",
       "                          {'line': {'color': 'gray', 'dash': 'dash'},\n",
       "                           'type': 'line',\n",
       "                           'x0': 0.0,\n",
       "                           'x1': 1.0,\n",
       "                           'xref': 'paper',\n",
       "                           'y0': 1,\n",
       "                           'y1': 1,\n",
       "                           'yref': 'y3'}],\n",
       "               'showlegend': True,\n",
       "               'template': '...',\n",
       "               'width': 750,\n",
       "               'xaxis': {'anchor': 'y', 'domain': [0.0, 1.0], 'matches': 'x3', 'showticklabels': False, 'title': {}},\n",
       "               'xaxis2': {'anchor': 'y2', 'domain': [0.0, 1.0], 'matches': 'x3', 'showticklabels': False, 'title': {}},\n",
       "               'xaxis3': {'anchor': 'y3', 'domain': [0.0, 1.0], 'title': {'text': 'Index'}},\n",
       "               'yaxis': {'anchor': 'x', 'domain': [0.6944444444444444, 1.0], 'title': {'text': 'Price'}},\n",
       "               'yaxis2': {'anchor': 'x2',\n",
       "                          'domain': [0.3472222222222222, 0.6527777777777777],\n",
       "                          'tickformat': '.2%',\n",
       "                          'title': {'text': 'PnL'}},\n",
       "               'yaxis3': {'anchor': 'x3', 'domain': [0.0, 0.3055555555555555], 'title': {'text': 'Cumulative return'}}}\n",
       "})"
      ]
     },
     "execution_count": 116,
     "metadata": {},
     "output_type": "execute_result"
    }
   ],
   "source": [
    "pf = vbt.Portfolio.from_signals(\n",
    "    close,\n",
    "    mask,\n",
    "    mask.shift(59).dropna().astype(bool),\n",
    ")\n",
    "pf['MES'].plot()"
   ]
  },
  {
   "cell_type": "markdown",
   "id": "3bd0fbc2",
   "metadata": {},
   "source": [
    "### Signal Factory"
   ]
  },
  {
   "cell_type": "code",
   "execution_count": null,
   "id": "561ef43b",
   "metadata": {},
   "outputs": [
    {
     "data": {
      "application/vnd.jupyter.widget-view+json": {
       "model_id": "a588d9d7ad3a46bebf0f6ff7a370c6f6",
       "version_major": 2,
       "version_minor": 0
      },
      "text/plain": [
       "FigureWidget({\n",
       "    'data': [{'showlegend': False,\n",
       "              'type': 'bar',\n",
       "              'uid': 'b3e40bfc-e239-42f0-9c04-e79a473eab7b',\n",
       "              'x': [(5, 'MES'), (5, '6B'), (10, 'MES'), (10, '6B'), (15, 'MES'),\n",
       "                    (15, '6B'), (20, 'MES'), (20, '6B'), (25, 'MES'), (25, '6B'),\n",
       "                    (30, 'MES'), (30, '6B'), (35, 'MES'), (35, '6B'), (40, 'MES'),\n",
       "                    (40, '6B'), (45, 'MES'), (45, '6B'), (50, 'MES'), (50, '6B'),\n",
       "                    (55, 'MES'), (55, '6B'), (60, 'MES'), (60, '6B')],\n",
       "              'y': array([85, 85, 43, 43, 29, 29, 22, 22, 17, 17, 15, 15, 13, 13, 11, 11, 10, 10,\n",
       "                           9,  9,  8,  8,  8,  8])}],\n",
       "    'layout': {'height': 350,\n",
       "               'legend': {'orientation': 'h',\n",
       "                          'traceorder': 'normal',\n",
       "                          'x': 1,\n",
       "                          'xanchor': 'right',\n",
       "                          'y': 1.02,\n",
       "                          'yanchor': 'bottom'},\n",
       "               'margin': {'b': 30, 'l': 30, 'r': 30, 't': 30},\n",
       "               'template': '...',\n",
       "               'title': {'text': '# trades per period and instrument'},\n",
       "               'width': 700}\n",
       "})"
      ]
     },
     "execution_count": 146,
     "metadata": {},
     "output_type": "execute_result"
    }
   ],
   "source": [
    "@njit\n",
    "def place_func_entries_nb(c, every, index):\n",
    "    last = -1\n",
    "    for i in range(c.out.shape[0]):\n",
    "        if i % every == 0:\n",
    "            c.out[i] = True\n",
    "            last = i\n",
    "    return last\n",
    "\n",
    "\n",
    "EntryGenerator = vbt.SignalFactory(\n",
    "    mode='entries',\n",
    "    param_names=['every'],\n",
    ").with_place_func(\n",
    "    entry_place_func_nb=place_func_entries_nb,\n",
    "    entry_settings=dict(\n",
    "        pass_params=['every'],\n",
    "    ),\n",
    "    var_args=True,\n",
    ")\n",
    "\n",
    "entry_generator = EntryGenerator.run(\n",
    "    symbol_wrapper.shape,\n",
    "    np.arange(5, 61, 5),\n",
    "    vbt.dt.to_ns(symbol_wrapper.index),\n",
    "    input_index=symbol_wrapper.index,\n",
    "    input_columns=symbol_wrapper.columns,\n",
    ")\n",
    "entrentry_generator.entries.sum().vbt.barplot(title='# trades per period and instrument')"
   ]
  },
  {
   "cell_type": "code",
   "execution_count": 142,
   "id": "7664ad6e",
   "metadata": {},
   "outputs": [
    {
     "data": {
      "application/vnd.plotly.v1+json": {
       "config": {
        "plotlyServerURL": "https://plot.ly"
       },
       "data": [
        {
         "marker": {
          "color": "#37B13F",
          "line": {
           "color": "rgb(38,123,44)",
           "width": 1
          },
          "size": 8,
          "symbol": "triangle-up"
         },
         "mode": "markers",
         "name": "Entries",
         "showlegend": true,
         "type": "scatter",
         "uid": "7d9869ee-a643-448a-a758-c111719fca8f",
         "x": [
          "2024-12-04T13:30:00+00:00",
          "2024-12-04T14:00:00+00:00",
          "2024-12-04T14:30:00+00:00",
          "2024-12-04T15:00:00+00:00",
          "2024-12-04T15:30:00+00:00",
          "2024-12-04T16:00:00+00:00",
          "2024-12-04T16:30:00+00:00",
          "2024-12-04T17:00:00+00:00",
          "2024-12-04T17:30:00+00:00",
          "2024-12-04T18:00:00+00:00",
          "2024-12-04T18:30:00+00:00",
          "2024-12-04T19:00:00+00:00",
          "2024-12-04T19:30:00+00:00",
          "2024-12-04T20:00:00+00:00",
          "2024-12-04T20:30:00+00:00"
         ],
         "y": [
          1,
          1,
          1,
          1,
          1,
          1,
          1,
          1,
          1,
          1,
          1,
          1,
          1,
          1,
          1
         ]
        }
       ],
       "layout": {
        "height": 350,
        "legend": {
         "orientation": "h",
         "traceorder": "normal",
         "x": 1,
         "xanchor": "right",
         "y": 1.02,
         "yanchor": "bottom"
        },
        "margin": {
         "b": 30,
         "l": 30,
         "r": 30,
         "t": 30
        },
        "template": {
         "data": {
          "bar": [
           {
            "error_x": {
             "color": "#2a3f5f"
            },
            "error_y": {
             "color": "#2a3f5f"
            },
            "marker": {
             "line": {
              "color": "#E5ECF6",
              "width": 0.5
             }
            },
            "type": "bar"
           }
          ],
          "barpolar": [
           {
            "marker": {
             "line": {
              "color": "#E5ECF6",
              "width": 0.5
             }
            },
            "type": "barpolar"
           }
          ],
          "carpet": [
           {
            "aaxis": {
             "endlinecolor": "#2a3f5f",
             "gridcolor": "white",
             "linecolor": "white",
             "minorgridcolor": "white",
             "startlinecolor": "#2a3f5f"
            },
            "baxis": {
             "endlinecolor": "#2a3f5f",
             "gridcolor": "white",
             "linecolor": "white",
             "minorgridcolor": "white",
             "startlinecolor": "#2a3f5f"
            },
            "type": "carpet"
           }
          ],
          "choropleth": [
           {
            "colorbar": {
             "outlinewidth": 0,
             "ticks": ""
            },
            "type": "choropleth"
           }
          ],
          "contour": [
           {
            "colorbar": {
             "outlinewidth": 0,
             "ticks": ""
            },
            "colorscale": [
             [
              0,
              "#0d0887"
             ],
             [
              0.1111111111111111,
              "#46039f"
             ],
             [
              0.2222222222222222,
              "#7201a8"
             ],
             [
              0.3333333333333333,
              "#9c179e"
             ],
             [
              0.4444444444444444,
              "#bd3786"
             ],
             [
              0.5555555555555556,
              "#d8576b"
             ],
             [
              0.6666666666666666,
              "#ed7953"
             ],
             [
              0.7777777777777778,
              "#fb9f3a"
             ],
             [
              0.8888888888888888,
              "#fdca26"
             ],
             [
              1,
              "#f0f921"
             ]
            ],
            "type": "contour"
           }
          ],
          "contourcarpet": [
           {
            "colorbar": {
             "outlinewidth": 0,
             "ticks": ""
            },
            "type": "contourcarpet"
           }
          ],
          "heatmap": [
           {
            "colorbar": {
             "outlinewidth": 0,
             "ticks": ""
            },
            "colorscale": [
             [
              0,
              "#0d0887"
             ],
             [
              0.1111111111111111,
              "#46039f"
             ],
             [
              0.2222222222222222,
              "#7201a8"
             ],
             [
              0.3333333333333333,
              "#9c179e"
             ],
             [
              0.4444444444444444,
              "#bd3786"
             ],
             [
              0.5555555555555556,
              "#d8576b"
             ],
             [
              0.6666666666666666,
              "#ed7953"
             ],
             [
              0.7777777777777778,
              "#fb9f3a"
             ],
             [
              0.8888888888888888,
              "#fdca26"
             ],
             [
              1,
              "#f0f921"
             ]
            ],
            "type": "heatmap"
           }
          ],
          "heatmapgl": [
           {
            "colorbar": {
             "outlinewidth": 0,
             "ticks": ""
            },
            "colorscale": [
             [
              0,
              "#0d0887"
             ],
             [
              0.1111111111111111,
              "#46039f"
             ],
             [
              0.2222222222222222,
              "#7201a8"
             ],
             [
              0.3333333333333333,
              "#9c179e"
             ],
             [
              0.4444444444444444,
              "#bd3786"
             ],
             [
              0.5555555555555556,
              "#d8576b"
             ],
             [
              0.6666666666666666,
              "#ed7953"
             ],
             [
              0.7777777777777778,
              "#fb9f3a"
             ],
             [
              0.8888888888888888,
              "#fdca26"
             ],
             [
              1,
              "#f0f921"
             ]
            ],
            "type": "heatmapgl"
           }
          ],
          "histogram": [
           {
            "marker": {
             "colorbar": {
              "outlinewidth": 0,
              "ticks": ""
             }
            },
            "type": "histogram"
           }
          ],
          "histogram2d": [
           {
            "colorbar": {
             "outlinewidth": 0,
             "ticks": ""
            },
            "colorscale": [
             [
              0,
              "#0d0887"
             ],
             [
              0.1111111111111111,
              "#46039f"
             ],
             [
              0.2222222222222222,
              "#7201a8"
             ],
             [
              0.3333333333333333,
              "#9c179e"
             ],
             [
              0.4444444444444444,
              "#bd3786"
             ],
             [
              0.5555555555555556,
              "#d8576b"
             ],
             [
              0.6666666666666666,
              "#ed7953"
             ],
             [
              0.7777777777777778,
              "#fb9f3a"
             ],
             [
              0.8888888888888888,
              "#fdca26"
             ],
             [
              1,
              "#f0f921"
             ]
            ],
            "type": "histogram2d"
           }
          ],
          "histogram2dcontour": [
           {
            "colorbar": {
             "outlinewidth": 0,
             "ticks": ""
            },
            "colorscale": [
             [
              0,
              "#0d0887"
             ],
             [
              0.1111111111111111,
              "#46039f"
             ],
             [
              0.2222222222222222,
              "#7201a8"
             ],
             [
              0.3333333333333333,
              "#9c179e"
             ],
             [
              0.4444444444444444,
              "#bd3786"
             ],
             [
              0.5555555555555556,
              "#d8576b"
             ],
             [
              0.6666666666666666,
              "#ed7953"
             ],
             [
              0.7777777777777778,
              "#fb9f3a"
             ],
             [
              0.8888888888888888,
              "#fdca26"
             ],
             [
              1,
              "#f0f921"
             ]
            ],
            "type": "histogram2dcontour"
           }
          ],
          "mesh3d": [
           {
            "colorbar": {
             "outlinewidth": 0,
             "ticks": ""
            },
            "type": "mesh3d"
           }
          ],
          "parcoords": [
           {
            "line": {
             "colorbar": {
              "outlinewidth": 0,
              "ticks": ""
             }
            },
            "type": "parcoords"
           }
          ],
          "pie": [
           {
            "automargin": true,
            "type": "pie"
           }
          ],
          "scatter": [
           {
            "marker": {
             "colorbar": {
              "outlinewidth": 0,
              "ticks": ""
             }
            },
            "type": "scatter"
           }
          ],
          "scatter3d": [
           {
            "line": {
             "colorbar": {
              "outlinewidth": 0,
              "ticks": ""
             }
            },
            "marker": {
             "colorbar": {
              "outlinewidth": 0,
              "ticks": ""
             }
            },
            "type": "scatter3d"
           }
          ],
          "scattercarpet": [
           {
            "marker": {
             "colorbar": {
              "outlinewidth": 0,
              "ticks": ""
             }
            },
            "type": "scattercarpet"
           }
          ],
          "scattergeo": [
           {
            "marker": {
             "colorbar": {
              "outlinewidth": 0,
              "ticks": ""
             }
            },
            "type": "scattergeo"
           }
          ],
          "scattergl": [
           {
            "marker": {
             "colorbar": {
              "outlinewidth": 0,
              "ticks": ""
             }
            },
            "type": "scattergl"
           }
          ],
          "scattermapbox": [
           {
            "marker": {
             "colorbar": {
              "outlinewidth": 0,
              "ticks": ""
             }
            },
            "type": "scattermapbox"
           }
          ],
          "scatterpolar": [
           {
            "marker": {
             "colorbar": {
              "outlinewidth": 0,
              "ticks": ""
             }
            },
            "type": "scatterpolar"
           }
          ],
          "scatterpolargl": [
           {
            "marker": {
             "colorbar": {
              "outlinewidth": 0,
              "ticks": ""
             }
            },
            "type": "scatterpolargl"
           }
          ],
          "scatterternary": [
           {
            "marker": {
             "colorbar": {
              "outlinewidth": 0,
              "ticks": ""
             }
            },
            "type": "scatterternary"
           }
          ],
          "surface": [
           {
            "colorbar": {
             "outlinewidth": 0,
             "ticks": ""
            },
            "colorscale": [
             [
              0,
              "#0d0887"
             ],
             [
              0.1111111111111111,
              "#46039f"
             ],
             [
              0.2222222222222222,
              "#7201a8"
             ],
             [
              0.3333333333333333,
              "#9c179e"
             ],
             [
              0.4444444444444444,
              "#bd3786"
             ],
             [
              0.5555555555555556,
              "#d8576b"
             ],
             [
              0.6666666666666666,
              "#ed7953"
             ],
             [
              0.7777777777777778,
              "#fb9f3a"
             ],
             [
              0.8888888888888888,
              "#fdca26"
             ],
             [
              1,
              "#f0f921"
             ]
            ],
            "type": "surface"
           }
          ],
          "table": [
           {
            "cells": {
             "fill": {
              "color": "#EBF0F8"
             },
             "line": {
              "color": "white"
             }
            },
            "header": {
             "fill": {
              "color": "#C8D4E3"
             },
             "line": {
              "color": "white"
             }
            },
            "type": "table"
           }
          ]
         },
         "layout": {
          "annotationdefaults": {
           "arrowcolor": "#2a3f5f",
           "arrowhead": 0,
           "arrowwidth": 1
          },
          "coloraxis": {
           "colorbar": {
            "outlinewidth": 0,
            "ticks": ""
           }
          },
          "colorscale": {
           "diverging": [
            [
             0,
             "#8e0152"
            ],
            [
             0.1,
             "#c51b7d"
            ],
            [
             0.2,
             "#de77ae"
            ],
            [
             0.3,
             "#f1b6da"
            ],
            [
             0.4,
             "#fde0ef"
            ],
            [
             0.5,
             "#f7f7f7"
            ],
            [
             0.6,
             "#e6f5d0"
            ],
            [
             0.7,
             "#b8e186"
            ],
            [
             0.8,
             "#7fbc41"
            ],
            [
             0.9,
             "#4d9221"
            ],
            [
             1,
             "#276419"
            ]
           ],
           "sequential": [
            [
             0,
             "#0d0887"
            ],
            [
             0.1111111111111111,
             "#46039f"
            ],
            [
             0.2222222222222222,
             "#7201a8"
            ],
            [
             0.3333333333333333,
             "#9c179e"
            ],
            [
             0.4444444444444444,
             "#bd3786"
            ],
            [
             0.5555555555555556,
             "#d8576b"
            ],
            [
             0.6666666666666666,
             "#ed7953"
            ],
            [
             0.7777777777777778,
             "#fb9f3a"
            ],
            [
             0.8888888888888888,
             "#fdca26"
            ],
            [
             1,
             "#f0f921"
            ]
           ],
           "sequentialminus": [
            [
             0,
             "#0d0887"
            ],
            [
             0.1111111111111111,
             "#46039f"
            ],
            [
             0.2222222222222222,
             "#7201a8"
            ],
            [
             0.3333333333333333,
             "#9c179e"
            ],
            [
             0.4444444444444444,
             "#bd3786"
            ],
            [
             0.5555555555555556,
             "#d8576b"
            ],
            [
             0.6666666666666666,
             "#ed7953"
            ],
            [
             0.7777777777777778,
             "#fb9f3a"
            ],
            [
             0.8888888888888888,
             "#fdca26"
            ],
            [
             1,
             "#f0f921"
            ]
           ]
          },
          "colorway": [
           "#1f77b4",
           "#ff7f0e",
           "#2ca02c",
           "#dc3912",
           "#9467bd",
           "#8c564b",
           "#e377c2",
           "#7f7f7f",
           "#bcbd22",
           "#17becf"
          ],
          "font": {
           "color": "#2a3f5f"
          },
          "geo": {
           "bgcolor": "white",
           "lakecolor": "white",
           "landcolor": "#E5ECF6",
           "showlakes": true,
           "showland": true,
           "subunitcolor": "white"
          },
          "hoverlabel": {
           "align": "left"
          },
          "hovermode": "closest",
          "mapbox": {
           "style": "light"
          },
          "paper_bgcolor": "white",
          "plot_bgcolor": "#E5ECF6",
          "polar": {
           "angularaxis": {
            "gridcolor": "white",
            "linecolor": "white",
            "ticks": ""
           },
           "bgcolor": "#E5ECF6",
           "radialaxis": {
            "gridcolor": "white",
            "linecolor": "white",
            "ticks": ""
           }
          },
          "scene": {
           "xaxis": {
            "backgroundcolor": "#E5ECF6",
            "gridcolor": "white",
            "gridwidth": 2,
            "linecolor": "white",
            "showbackground": true,
            "ticks": "",
            "zerolinecolor": "white"
           },
           "yaxis": {
            "backgroundcolor": "#E5ECF6",
            "gridcolor": "white",
            "gridwidth": 2,
            "linecolor": "white",
            "showbackground": true,
            "ticks": "",
            "zerolinecolor": "white"
           },
           "zaxis": {
            "backgroundcolor": "#E5ECF6",
            "gridcolor": "white",
            "gridwidth": 2,
            "linecolor": "white",
            "showbackground": true,
            "ticks": "",
            "zerolinecolor": "white"
           }
          },
          "shapedefaults": {
           "line": {
            "color": "#2a3f5f"
           }
          },
          "ternary": {
           "aaxis": {
            "gridcolor": "white",
            "linecolor": "white",
            "ticks": ""
           },
           "baxis": {
            "gridcolor": "white",
            "linecolor": "white",
            "ticks": ""
           },
           "bgcolor": "#E5ECF6",
           "caxis": {
            "gridcolor": "white",
            "linecolor": "white",
            "ticks": ""
           }
          },
          "title": {
           "x": 0.05
          },
          "xaxis": {
           "automargin": true,
           "gridcolor": "white",
           "linecolor": "white",
           "ticks": "",
           "title": {
            "standoff": 15
           },
           "zerolinecolor": "white",
           "zerolinewidth": 2
          },
          "yaxis": {
           "automargin": true,
           "gridcolor": "white",
           "linecolor": "white",
           "ticks": "",
           "title": {
            "standoff": 15
           },
           "zerolinecolor": "white",
           "zerolinewidth": 2
          }
         }
        },
        "width": 700
       }
      }
     },
     "metadata": {},
     "output_type": "display_data"
    }
   ],
   "source": [
    "entries.plot(column=(30, 'MES')).show()"
   ]
  },
  {
   "cell_type": "code",
   "execution_count": 166,
   "id": "03cd8370",
   "metadata": {},
   "outputs": [
    {
     "data": {
      "text/plain": [
       "<vectorbtpro.indicators.factory.Indicator at 0x22bad49bcb0>"
      ]
     },
     "execution_count": 166,
     "metadata": {},
     "output_type": "execute_result"
    }
   ],
   "source": [
    "@njit\n",
    "def entry_place_func_nb(c, close, enter_every):\n",
    "    last = -1\n",
    "    return last\n",
    "\n",
    "\n",
    "@njit\n",
    "def exit_place_func_nb(c, close, exit_after):\n",
    "    last = -1\n",
    "    return last\n",
    "\n",
    "\n",
    "SignalGenerator = vbt.SignalFactory(\n",
    "    mode='both',\n",
    "    input_names=['close'],\n",
    "    param_names=['enter_every', 'exit_after']\n",
    ").with_place_func(\n",
    "    entry_place_func_nb=entry_place_func_nb,\n",
    "    entry_settings=dict(\n",
    "        pass_inputs=['close'],\n",
    "        pass_params=['enter_every'],\n",
    "    ),\n",
    "    exit_place_func_nb=exit_place_func_nb,\n",
    "    exit_settings=dict(\n",
    "        pass_inputs=['close'],\n",
    "        pass_params=['exit_after'],\n",
    "    )\n",
    ")\n",
    "signal_generator = SignalGenerator.run(\n",
    "    close,\n",
    "    5,\n",
    "    10,\n",
    "    # param_product=True,\n",
    ")\n",
    "signal_generator"
   ]
  },
  {
   "cell_type": "code",
   "execution_count": 167,
   "id": "b0e2f999",
   "metadata": {},
   "outputs": [],
   "source": [
    "# TODO: continue here when you're in the office."
   ]
  }
 ],
 "metadata": {
  "kernelspec": {
   "display_name": "base",
   "language": "python",
   "name": "python3"
  },
  "language_info": {
   "codemirror_mode": {
    "name": "ipython",
    "version": 3
   },
   "file_extension": ".py",
   "mimetype": "text/x-python",
   "name": "python",
   "nbconvert_exporter": "python",
   "pygments_lexer": "ipython3",
   "version": "3.12.3"
  }
 },
 "nbformat": 4,
 "nbformat_minor": 5
}
