{
 "cells": [
  {
   "cell_type": "code",
   "execution_count": 2,
   "id": "e3c0390b-7436-4969-bfcf-acde44f8c894",
   "metadata": {},
   "outputs": [],
   "source": [
    "import pandas as pd\n",
    "import sys\n",
    "sys.path.append('../../')\n",
    "import helpers.backtest as bt_helper\n",
    "import matplotlib.pyplot as plt\n",
    "\n",
    "pd.set_option('display.max_rows', 100) \n",
    "pd.set_option('display.max_columns', 20) \n",
    "\n",
    "plt.style.use('classic')\n",
    "plt.rcParams['axes.grid'] = True\n",
    "plt.rcParams[\"figure.figsize\"] = (10,6)\n",
    "plt.rcParams['axes.formatter.useoffset'] = False\n",
    "plt.rcParams['axes.formatter.limits'] = [-1000000000, 1000000000]"
   ]
  },
  {
   "cell_type": "code",
   "execution_count": 79,
   "id": "18212ff6-7749-44b9-908f-00de5970c6a9",
   "metadata": {},
   "outputs": [
    {
     "data": {
      "text/plain": [
       "(38820, 3)"
      ]
     },
     "execution_count": 79,
     "metadata": {},
     "output_type": "execute_result"
    }
   ],
   "source": [
    "path = '../../events/MES/Event_BigOrder.csv'\n",
    "res = pd.read_csv(path)\n",
    "res.shape"
   ]
  },
  {
   "cell_type": "code",
   "execution_count": 80,
   "id": "3dfd1b2b-153c-4cb7-9ea3-ba832c6df179",
   "metadata": {},
   "outputs": [],
   "source": [
    "res['timestamp'] = res.timestamp.apply(pd.to_datetime)"
   ]
  },
  {
   "cell_type": "code",
   "execution_count": 84,
   "id": "49279154-4240-43f7-8151-b37e1b455951",
   "metadata": {
    "scrolled": true
   },
   "outputs": [
    {
     "data": {
      "text/html": [
       "<div>\n",
       "<style scoped>\n",
       "    .dataframe tbody tr th:only-of-type {\n",
       "        vertical-align: middle;\n",
       "    }\n",
       "\n",
       "    .dataframe tbody tr th {\n",
       "        vertical-align: top;\n",
       "    }\n",
       "\n",
       "    .dataframe thead th {\n",
       "        text-align: right;\n",
       "    }\n",
       "</style>\n",
       "<table border=\"1\" class=\"dataframe\">\n",
       "  <thead>\n",
       "    <tr style=\"text-align: right;\">\n",
       "      <th></th>\n",
       "      <th>timestamp</th>\n",
       "      <th>price</th>\n",
       "      <th>size</th>\n",
       "    </tr>\n",
       "  </thead>\n",
       "  <tbody>\n",
       "    <tr>\n",
       "      <th>30334</th>\n",
       "      <td>2024-11-20 15:40:42.745</td>\n",
       "      <td>5902.00</td>\n",
       "      <td>560</td>\n",
       "    </tr>\n",
       "    <tr>\n",
       "      <th>127</th>\n",
       "      <td>2024-11-06 18:22:39.183</td>\n",
       "      <td>5950.00</td>\n",
       "      <td>560</td>\n",
       "    </tr>\n",
       "    <tr>\n",
       "      <th>229</th>\n",
       "      <td>2024-11-08 14:29:30.471</td>\n",
       "      <td>6010.00</td>\n",
       "      <td>535</td>\n",
       "    </tr>\n",
       "    <tr>\n",
       "      <th>206</th>\n",
       "      <td>2024-11-07 20:23:49.332</td>\n",
       "      <td>6012.00</td>\n",
       "      <td>473</td>\n",
       "    </tr>\n",
       "    <tr>\n",
       "      <th>230</th>\n",
       "      <td>2024-11-08 14:59:24.866</td>\n",
       "      <td>6016.00</td>\n",
       "      <td>446</td>\n",
       "    </tr>\n",
       "    <tr>\n",
       "      <th>125</th>\n",
       "      <td>2024-11-06 16:40:10.318</td>\n",
       "      <td>5940.00</td>\n",
       "      <td>415</td>\n",
       "    </tr>\n",
       "    <tr>\n",
       "      <th>119</th>\n",
       "      <td>2024-11-06 14:57:44.253</td>\n",
       "      <td>5902.00</td>\n",
       "      <td>411</td>\n",
       "    </tr>\n",
       "    <tr>\n",
       "      <th>198</th>\n",
       "      <td>2024-11-07 14:25:05.602</td>\n",
       "      <td>5980.00</td>\n",
       "      <td>406</td>\n",
       "    </tr>\n",
       "    <tr>\n",
       "      <th>195</th>\n",
       "      <td>2024-11-07 13:18:16.833</td>\n",
       "      <td>5980.00</td>\n",
       "      <td>382</td>\n",
       "    </tr>\n",
       "    <tr>\n",
       "      <th>121</th>\n",
       "      <td>2024-11-06 15:19:29.131</td>\n",
       "      <td>5922.00</td>\n",
       "      <td>375</td>\n",
       "    </tr>\n",
       "    <tr>\n",
       "      <th>124</th>\n",
       "      <td>2024-11-06 15:57:16.829</td>\n",
       "      <td>5914.75</td>\n",
       "      <td>363</td>\n",
       "    </tr>\n",
       "    <tr>\n",
       "      <th>122</th>\n",
       "      <td>2024-11-06 15:29:40.400</td>\n",
       "      <td>5940.00</td>\n",
       "      <td>355</td>\n",
       "    </tr>\n",
       "    <tr>\n",
       "      <th>128</th>\n",
       "      <td>2024-11-06 20:49:28.028</td>\n",
       "      <td>5970.00</td>\n",
       "      <td>351</td>\n",
       "    </tr>\n",
       "    <tr>\n",
       "      <th>194</th>\n",
       "      <td>2024-11-07 13:05:43.417</td>\n",
       "      <td>5970.00</td>\n",
       "      <td>349</td>\n",
       "    </tr>\n",
       "    <tr>\n",
       "      <th>204</th>\n",
       "      <td>2024-11-07 20:03:04.030</td>\n",
       "      <td>6010.00</td>\n",
       "      <td>339</td>\n",
       "    </tr>\n",
       "    <tr>\n",
       "      <th>205</th>\n",
       "      <td>2024-11-07 20:13:35.743</td>\n",
       "      <td>6001.00</td>\n",
       "      <td>325</td>\n",
       "    </tr>\n",
       "    <tr>\n",
       "      <th>203</th>\n",
       "      <td>2024-11-07 19:52:41.237</td>\n",
       "      <td>6002.00</td>\n",
       "      <td>324</td>\n",
       "    </tr>\n",
       "    <tr>\n",
       "      <th>4158</th>\n",
       "      <td>2024-11-19 14:48:37.474</td>\n",
       "      <td>5887.00</td>\n",
       "      <td>323</td>\n",
       "    </tr>\n",
       "    <tr>\n",
       "      <th>4159</th>\n",
       "      <td>2024-11-19 14:48:47.491</td>\n",
       "      <td>5887.00</td>\n",
       "      <td>318</td>\n",
       "    </tr>\n",
       "    <tr>\n",
       "      <th>120</th>\n",
       "      <td>2024-11-06 15:07:54.631</td>\n",
       "      <td>5918.00</td>\n",
       "      <td>317</td>\n",
       "    </tr>\n",
       "    <tr>\n",
       "      <th>129</th>\n",
       "      <td>2024-11-06 21:00:10.804</td>\n",
       "      <td>5962.00</td>\n",
       "      <td>311</td>\n",
       "    </tr>\n",
       "    <tr>\n",
       "      <th>123</th>\n",
       "      <td>2024-11-06 15:42:45.217</td>\n",
       "      <td>5929.00</td>\n",
       "      <td>310</td>\n",
       "    </tr>\n",
       "  </tbody>\n",
       "</table>\n",
       "</div>"
      ],
      "text/plain": [
       "                    timestamp    price  size\n",
       "30334 2024-11-20 15:40:42.745  5902.00   560\n",
       "127   2024-11-06 18:22:39.183  5950.00   560\n",
       "229   2024-11-08 14:29:30.471  6010.00   535\n",
       "206   2024-11-07 20:23:49.332  6012.00   473\n",
       "230   2024-11-08 14:59:24.866  6016.00   446\n",
       "125   2024-11-06 16:40:10.318  5940.00   415\n",
       "119   2024-11-06 14:57:44.253  5902.00   411\n",
       "198   2024-11-07 14:25:05.602  5980.00   406\n",
       "195   2024-11-07 13:18:16.833  5980.00   382\n",
       "121   2024-11-06 15:19:29.131  5922.00   375\n",
       "124   2024-11-06 15:57:16.829  5914.75   363\n",
       "122   2024-11-06 15:29:40.400  5940.00   355\n",
       "128   2024-11-06 20:49:28.028  5970.00   351\n",
       "194   2024-11-07 13:05:43.417  5970.00   349\n",
       "204   2024-11-07 20:03:04.030  6010.00   339\n",
       "205   2024-11-07 20:13:35.743  6001.00   325\n",
       "203   2024-11-07 19:52:41.237  6002.00   324\n",
       "4158  2024-11-19 14:48:37.474  5887.00   323\n",
       "4159  2024-11-19 14:48:47.491  5887.00   318\n",
       "120   2024-11-06 15:07:54.631  5918.00   317\n",
       "129   2024-11-06 21:00:10.804  5962.00   311\n",
       "123   2024-11-06 15:42:45.217  5929.00   310"
      ]
     },
     "execution_count": 84,
     "metadata": {},
     "output_type": "execute_result"
    }
   ],
   "source": [
    "res[\n",
    "    (res.timestamp.dt.hour >= 9) &\n",
    "    (res.timestamp.dt.hour <= 21) & (res['size'] > 300)\n",
    "].sort_values('size', ascending=False)"
   ]
  },
  {
   "cell_type": "markdown",
   "id": "e6e6e23a-9be9-46cb-8f7d-9fb4cf2fabc0",
   "metadata": {},
   "source": [
    "### Make backtest"
   ]
  },
  {
   "cell_type": "code",
   "execution_count": 86,
   "id": "af579095-4c15-4b50-8660-c94ed4e2e28e",
   "metadata": {},
   "outputs": [
    {
     "ename": "NameError",
     "evalue": "name 'depth_path' is not defined",
     "output_type": "error",
     "traceback": [
      "\u001b[0;31m---------------------------------------------------------------------------\u001b[0m",
      "\u001b[0;31mNameError\u001b[0m                                 Traceback (most recent call last)",
      "Cell \u001b[0;32mIn[86], line 22\u001b[0m\n\u001b[1;32m     19\u001b[0m data_path \u001b[38;5;241m=\u001b[39m \u001b[38;5;124mf\u001b[39m\u001b[38;5;124m\"\u001b[39m\u001b[38;5;132;01m{\u001b[39;00myear_path\u001b[38;5;132;01m}\u001b[39;00m\u001b[38;5;124m/Data\u001b[39m\u001b[38;5;124m\"\u001b[39m\n\u001b[1;32m     20\u001b[0m depth_path \u001b[38;5;241m=\u001b[39m \u001b[38;5;124mf\u001b[39m\u001b[38;5;124m\"\u001b[39m\u001b[38;5;132;01m{\u001b[39;00mdata_path\u001b[38;5;132;01m}\u001b[39;00m\u001b[38;5;124m/MarketDepthData\u001b[39m\u001b[38;5;124m\"\u001b[39m\n\u001b[0;32m---> 22\u001b[0m depth_files_copied \u001b[38;5;241m=\u001b[39m \u001b[43mbt_helper\u001b[49m\u001b[38;5;241;43m.\u001b[39;49m\u001b[43mgenerate_backtest\u001b[49m\u001b[43m(\u001b[49m\n\u001b[1;32m     23\u001b[0m \u001b[43m    \u001b[49m\u001b[43mname\u001b[49m\u001b[43m,\u001b[49m\u001b[43m \u001b[49m\u001b[43myear\u001b[49m\u001b[43m,\u001b[49m\u001b[43m \u001b[49m\u001b[43minstruments\u001b[49m\u001b[43m,\u001b[49m\u001b[43m \u001b[49m\u001b[43msample_size\u001b[49m\u001b[43m,\u001b[49m\u001b[43m \u001b[49m\u001b[43mstart\u001b[49m\u001b[43m,\u001b[49m\u001b[43m \u001b[49m\u001b[43mend\u001b[49m\u001b[43m,\u001b[49m\u001b[43m \u001b[49m\u001b[43mstart_time\u001b[49m\u001b[43m,\u001b[49m\u001b[43m \u001b[49m\u001b[43mend_time\u001b[49m\u001b[43m,\u001b[49m\u001b[43m \u001b[49m\u001b[43mpvars\u001b[49m\u001b[43m,\u001b[49m\u001b[43m \u001b[49m\u001b[43msg_arrays\u001b[49m\n\u001b[1;32m     24\u001b[0m \u001b[43m)\u001b[49m\n",
      "File \u001b[0;32m/mnt/c/trading/notebooks/backtest/../../helpers/backtest.py:10\u001b[0m, in \u001b[0;36mgenerate_backtest\u001b[0;34m(name, year, instruments, sample_size, start, end, start_time, end_time, pvars, sg_arrays)\u001b[0m\n\u001b[1;32m      9\u001b[0m \u001b[38;5;28;01mdef\u001b[39;00m \u001b[38;5;21mgenerate_backtest\u001b[39m(name, year, instruments, sample_size, start, end, start_time, end_time, pvars, sg_arrays):\n\u001b[0;32m---> 10\u001b[0m     depth_files \u001b[38;5;241m=\u001b[39m os\u001b[38;5;241m.\u001b[39mlistdir(\u001b[43mdepth_path\u001b[49m)\n\u001b[1;32m     11\u001b[0m     idict \u001b[38;5;241m=\u001b[39m {\n\u001b[1;32m     12\u001b[0m         instr: {d\u001b[38;5;241m.\u001b[39msplit(\u001b[38;5;124m'\u001b[39m\u001b[38;5;124m.\u001b[39m\u001b[38;5;124m'\u001b[39m)[\u001b[38;5;241m1\u001b[39m]: d \u001b[38;5;28;01mfor\u001b[39;00m d \u001b[38;5;129;01min\u001b[39;00m depth_files \u001b[38;5;28;01mif\u001b[39;00m instr \u001b[38;5;129;01min\u001b[39;00m d}\n\u001b[1;32m     13\u001b[0m         \u001b[38;5;28;01mfor\u001b[39;00m instr \u001b[38;5;129;01min\u001b[39;00m instruments\n\u001b[1;32m     14\u001b[0m     }\n\u001b[1;32m     15\u001b[0m     main \u001b[38;5;241m=\u001b[39m pd\u001b[38;5;241m.\u001b[39mDataFrame({\u001b[38;5;124m\"\u001b[39m\u001b[38;5;124mday\u001b[39m\u001b[38;5;124m\"\u001b[39m: pd\u001b[38;5;241m.\u001b[39mdate_range(start\u001b[38;5;241m=\u001b[39mstart, end\u001b[38;5;241m=\u001b[39mend, freq\u001b[38;5;241m=\u001b[39m\u001b[38;5;124m'\u001b[39m\u001b[38;5;124mD\u001b[39m\u001b[38;5;124m'\u001b[39m)})\n",
      "\u001b[0;31mNameError\u001b[0m: name 'depth_path' is not defined"
     ]
    }
   ],
   "source": [
    "name = \"some_bt\"\n",
    "instruments = [\"MES\"]\n",
    "\n",
    "sample_size = 0\n",
    "start, end = '2024-11-05', '2024-11-20'\n",
    "start_time, end_time = \"14:00:00\", \"21:00:00\"\n",
    "\n",
    "pvars = [\n",
    "    {\"name\": \"account_value\", \"type\": \"vector\", \"study_name\": \"Account Balance Graph\", \"pkey\": 2},\n",
    "]\n",
    "sg_arrays = []\n",
    "\n",
    "year = 2024\n",
    "\n",
    "\n",
    "depth_files_copied = bt_helper.generate_backtest(\n",
    "    name, year, instruments, sample_size, start, end, start_time, end_time, pvars, sg_arrays\n",
    ")"
   ]
  },
  {
   "cell_type": "markdown",
   "id": "ba2eb39e-57f1-49a4-a57f-c4f6e56ce8ab",
   "metadata": {},
   "source": [
    "### Remove .depth files"
   ]
  },
  {
   "cell_type": "code",
   "execution_count": 4,
   "id": "6fe2c63f-f00e-4d34-a493-d9df9ccf1d71",
   "metadata": {},
   "outputs": [
    {
     "data": {
      "text/plain": [
       "0"
      ]
     },
     "execution_count": 4,
     "metadata": {},
     "output_type": "execute_result"
    }
   ],
   "source": [
    "os.system(f'rm -rf {base_depth_path}/*.depth')"
   ]
  }
 ],
 "metadata": {
  "kernelspec": {
   "display_name": "Python 3 (ipykernel)",
   "language": "python",
   "name": "python3"
  },
  "language_info": {
   "codemirror_mode": {
    "name": "ipython",
    "version": 3
   },
   "file_extension": ".py",
   "mimetype": "text/x-python",
   "name": "python",
   "nbconvert_exporter": "python",
   "pygments_lexer": "ipython3",
   "version": "3.12.4"
  }
 },
 "nbformat": 4,
 "nbformat_minor": 5
}
