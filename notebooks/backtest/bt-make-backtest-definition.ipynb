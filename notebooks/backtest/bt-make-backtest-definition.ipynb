{
 "cells": [
  {
   "cell_type": "code",
   "execution_count": 41,
   "id": "e3c0390b-7436-4969-bfcf-acde44f8c894",
   "metadata": {
    "jupyter": {
     "source_hidden": true
    }
   },
   "outputs": [],
   "source": [
    "import pandas as pd\n",
    "import random\n",
    "import holidays\n",
    "from progiter import ProgIter\n",
    "import json\n",
    "import datetime\n",
    "import os\n",
    "\n",
    "def generate_backtest(name, year, instruments, sample_size, start, end, start_time, end_time, pvars, sg_arrays):\n",
    "    depth_files = os.listdir(depth_path)\n",
    "    idict = {\n",
    "        instr: {d.split('.')[1]: d for d in depth_files if instr in d}\n",
    "        for instr in instruments\n",
    "    }\n",
    "    main = pd.DataFrame({\"day\": pd.date_range(start=start, end=end, freq='D')})\n",
    "    # remove weekends\n",
    "    main = main[~main.day.dt.day_name().isin(['Sunday', 'Saturday'])]\n",
    "    # remove bank holidays in major countries\n",
    "    to_remove_holidays = (\n",
    "        list(holidays.UnitedKingdom(years=[year]).keys()) +\n",
    "        list(holidays.UnitedStates(years=[year]).keys()) +\n",
    "        list(holidays.NewYorkStockExchange(years=[year]).keys()) +\n",
    "        list(holidays.EuropeanCentralBank(years=[year]).keys())\n",
    "    )\n",
    "    main = main[~main.day.isin(pd.to_datetime(to_remove_holidays))]\n",
    "    date_strings = main.day.apply(lambda x: str(x).split(' ')[0]).tolist()\n",
    "    if sample_size > 0:\n",
    "        date_strings = sorted(random.sample(date_strings, k=sample_size))\n",
    "    print(f'n days -> {len(date_strings)}')\n",
    "\n",
    "    contracts = []\n",
    "    for instrument in instruments:\n",
    "        for date_string in date_strings:\n",
    "            if date_string in idict[instrument]:\n",
    "                contracts.append(idict[instrument][date_string].split('.')[0])\n",
    "    \n",
    "    contracts = set(contracts)\n",
    "    print(f'contracts -> {contracts}')\n",
    "\n",
    "    print(\"copy depth files..\")\n",
    "    depth_files_copied = []\n",
    "    for instrument in instruments:\n",
    "        print(f'current instrument -> {instrument}')\n",
    "        for date_string in ProgIter(date_strings):\n",
    "            if not date_string in idict[instrument].keys():\n",
    "                print(f'date string missing from files, skip -> {date_string}')\n",
    "                continue\n",
    "                \n",
    "            depth_file = idict[instrument][date_string]\n",
    "            if not os.path.exists(f'{base_depth_path}/{depth_file}'):\n",
    "                os.system(f'cp {depth_path}/{depth_file} {base_depth_path}/{depth_file}')\n",
    "                depth_files_copied.append(f\"{base_depth_path}/{depth_file}\")\n",
    "\n",
    "    date_ranges = []\n",
    "    for instrument in instruments:\n",
    "        for date_string in date_strings:\n",
    "            if not date_string in idict[instrument].keys():\n",
    "                continue\n",
    "                \n",
    "            current = {\n",
    "                \"data_file\": f\"{idict[instrument][date_string].split('.')[0]}.scid\",\n",
    "                \"start\": f\"{date_string} {start_time}\",\n",
    "                \"end\": f\"{date_string} {end_time}\"\n",
    "            }\n",
    "            date_ranges.append(current)\n",
    "\n",
    "    res = {\n",
    "        \"name\": name,\n",
    "        \"date_ranges\": date_ranges,\n",
    "        \"sg_arrays\": sg_arrays,\n",
    "        \"pvars\": pvars\n",
    "    }\n",
    "    with open(f\"{bt_base_path}/{res['name']}.json\", 'w') as f:\n",
    "        json.dump(res, f, indent=4, sort_keys=False)\n",
    "    print('done.')\n",
    "    return depth_files_copied\n",
    "\n"
   ]
  },
  {
   "cell_type": "markdown",
   "id": "e6e6e23a-9be9-46cb-8f7d-9fb4cf2fabc0",
   "metadata": {},
   "source": [
    "### Make backtest"
   ]
  },
  {
   "cell_type": "code",
   "execution_count": 44,
   "id": "af579095-4c15-4b50-8660-c94ed4e2e28e",
   "metadata": {},
   "outputs": [
    {
     "name": "stdout",
     "output_type": "stream",
     "text": [
      "n days -> 4\n",
      "contracts -> {'MES-202412-CME-USD'}\n",
      "copy depth files..\n",
      "current instrument -> MES\n",
      " 100.00% 4/4... rate=0.47 Hz, eta=0:00:00, total=0:00:08\n",
      "done.\n"
     ]
    }
   ],
   "source": [
    "name = \"some_bt\"\n",
    "year = 2024\n",
    "sample_size = 0\n",
    "instruments = [\"MES\"]\n",
    "start, end = '2024-10-01', '2024-10-05'\n",
    "start_time, end_time = \"14:00:00\", \"15:00:00\"\n",
    "pvars = [\n",
    "    {\"name\": \"account_value\", \"type\": \"vector\", \"study_name\": \"Account Balance Graph\", \"pkey\": 2},\n",
    "]\n",
    "sg_arrays = []\n",
    "\n",
    "\n",
    "bt_base_path = \"/mnt/c/trading/backtest\"\n",
    "base_data_path = \"/mnt/c/SierraChart/Data\"\n",
    "base_depth_path = f\"{base_data_path}/MarketDepthData\"\n",
    "history_path = \"/mnt/h/trading/history\"\n",
    "year_path = f\"{history_path}/{year}\"\n",
    "data_path = f\"{year_path}/Data\"\n",
    "depth_path = f\"{data_path}/MarketDepthData\"\n",
    "\n",
    "depth_files_copied = generate_backtest(name, year, instruments, sample_size, start, end, start_time, end_time, pvars, sg_arrays)"
   ]
  },
  {
   "cell_type": "markdown",
   "id": "ba2eb39e-57f1-49a4-a57f-c4f6e56ce8ab",
   "metadata": {},
   "source": [
    "### Remove .depth files"
   ]
  },
  {
   "cell_type": "code",
   "execution_count": 40,
   "id": "6fe2c63f-f00e-4d34-a493-d9df9ccf1d71",
   "metadata": {},
   "outputs": [
    {
     "data": {
      "text/plain": [
       "0"
      ]
     },
     "execution_count": 40,
     "metadata": {},
     "output_type": "execute_result"
    }
   ],
   "source": [
    "os.system(f'rm -rf {base_depth_path}/*.depth')"
   ]
  }
 ],
 "metadata": {
  "kernelspec": {
   "display_name": "Python 3 (ipykernel)",
   "language": "python",
   "name": "python3"
  },
  "language_info": {
   "codemirror_mode": {
    "name": "ipython",
    "version": 3
   },
   "file_extension": ".py",
   "mimetype": "text/x-python",
   "name": "python",
   "nbconvert_exporter": "python",
   "pygments_lexer": "ipython3",
   "version": "3.12.4"
  }
 },
 "nbformat": 4,
 "nbformat_minor": 5
}
