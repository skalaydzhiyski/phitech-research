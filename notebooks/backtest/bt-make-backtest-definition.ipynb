{
 "cells": [
  {
   "cell_type": "markdown",
   "id": "e6e6e23a-9be9-46cb-8f7d-9fb4cf2fabc0",
   "metadata": {},
   "source": [
    "### Make Backtest"
   ]
  },
  {
   "cell_type": "code",
   "execution_count": 15,
   "id": "af579095-4c15-4b50-8660-c94ed4e2e28e",
   "metadata": {},
   "outputs": [
    {
     "name": "stdout",
     "output_type": "stream",
     "text": [
      "n days -> 2\n",
      "contracts -> {'MES-202409-CME-USD'}\n",
      "copy depth files..\n",
      "current instrument -> MES\n",
      " 100.00% 2/2... rate=0.13 Hz, eta=0:00:00, total=0:00:15\n",
      "done.\n"
     ]
    }
   ],
   "source": [
    "import pandas as pd\n",
    "import sys\n",
    "sys.path.append('../../')\n",
    "import helpers.backtest as bt_helper\n",
    "\n",
    "name = \"some_bt\"\n",
    "year = 2024\n",
    "sample_size = 0\n",
    "start, end = '2024-09-10', '2024-09-11'\n",
    "start_time, end_time = \"13:00:00\", \"13:30:00\"\n",
    "instruments = [\"MES\"]\n",
    "pvars = [\n",
    "    {\n",
    "        \"name\": \"account_value\",\n",
    "        \"type\": \"vector\",\n",
    "        \"study_name\":\n",
    "        \"Account Balance Graph\",\n",
    "        \"pkey\": 2\n",
    "    },\n",
    "]\n",
    "sg_arrays = []\n",
    "\n",
    "_ = bt_helper.generate_backtest(\n",
    "    name,\n",
    "    year,\n",
    "    instruments,\n",
    "    sample_size,\n",
    "    start, end,\n",
    "    start_time, end_time,\n",
    "    pvars, sg_arrays,\n",
    ")"
   ]
  },
  {
   "cell_type": "code",
   "execution_count": 4,
   "id": "6fe2c63f-f00e-4d34-a493-d9df9ccf1d71",
   "metadata": {},
   "outputs": [
    {
     "data": {
      "text/plain": [
       "0"
      ]
     },
     "execution_count": 4,
     "metadata": {},
     "output_type": "execute_result"
    }
   ],
   "source": []
  }
 ],
 "metadata": {
  "kernelspec": {
   "display_name": "Python 3 (ipykernel)",
   "language": "python",
   "name": "python3"
  },
  "language_info": {
   "codemirror_mode": {
    "name": "ipython",
    "version": 3
   },
   "file_extension": ".py",
   "mimetype": "text/x-python",
   "name": "python",
   "nbconvert_exporter": "python",
   "pygments_lexer": "ipython3",
   "version": "3.12.4"
  }
 },
 "nbformat": 4,
 "nbformat_minor": 5
}
